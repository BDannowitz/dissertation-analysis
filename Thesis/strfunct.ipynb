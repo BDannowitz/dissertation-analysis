{
 "cells": [
  {
   "cell_type": "code",
   "execution_count": 1,
   "metadata": {
    "collapsed": true
   },
   "outputs": [],
   "source": [
    "import math\n",
    "import numpy as np\n",
    "import uncertainties as unc\n",
    "from uncertainties import unumpy as unp\n",
    "import seaborn as sns"
   ]
  },
  {
   "cell_type": "code",
   "execution_count": 2,
   "metadata": {
    "collapsed": true
   },
   "outputs": [],
   "source": [
    "def R_np(x):\n",
    "    \"\"\"\n",
    "    Based on parametrization of F_2n/R_2p(x) by:\n",
    "    Arrington, J. et al. J. Phys. G36 (2009) 025005\n",
    "    \"\"\"\n",
    "    if isinstance(x, float):\n",
    "        x_bak = x\n",
    "        x = []\n",
    "        x.append(x_bak)\n",
    "        del x_bak\n",
    "        rnp = 0.0\n",
    "    \n",
    "    p1 = 0.816 \n",
    "    p2 = -0.661\n",
    "    p3 = 0.184\n",
    "    p4 = 5.509\n",
    "    p5 = -0.034\n",
    "    p6 = 8.714\n",
    "    p7 = -0.072\n",
    "    p8 = 0.450\n",
    "    a = p1 + np.multiply(p2,x)\n",
    "    b = np.multiply(p3, np.exp(np.multiply(-1.0*p4, x))) \n",
    "    c = np.multiply(p5, np.exp(np.multiply(-1.0*p6,(np.subtract(1.0,x)))))\n",
    "    d = np.multiply(p7, np.square(np.maximum(np.zeros(len(x)),np.subtract(x,p8))))\n",
    "    rnp = a + b + c + d\n",
    "    \n",
    "    return rnp"
   ]
  },
  {
   "cell_type": "code",
   "execution_count": 153,
   "metadata": {
    "collapsed": true
   },
   "outputs": [],
   "source": [
    "def R_ISO(x, A, Z):\n",
    "    \"\"\"\n",
    "    An isoscalar correction factor as outlined by:\n",
    "    Hen, Or et al. Int. J. Mod. Phys. E22 (2013) 1330017\n",
    "    \"\"\"\n",
    "    A = float(A)\n",
    "    Z = float(Z)\n",
    "    N = A - Z\n",
    "    c = np.multiply(A/2.0,np.divide((1.0+R_np(x)),(Z + np.multiply(N,R_np(x)))))\n",
    "    \n",
    "    return c"
   ]
  },
  {
   "cell_type": "code",
   "execution_count": 60,
   "metadata": {
    "collapsed": false
   },
   "outputs": [],
   "source": [
    "# Fit parameters for the F_2d(x,Q2) function\n",
    "C = []\n",
    "C.append(unc.ufloat(0.948,0.027))\n",
    "C.append(unc.ufloat(-0.115,0.215))\n",
    "C.append(unc.ufloat(1.861,0.624))\n",
    "C.append(unc.ufloat(-4.733,0.762))\n",
    "C.append(unc.ufloat(2.348,0.333))\n",
    "C.append(unc.ufloat(-0.065,0.024))\n",
    "C.append(unc.ufloat(-0.224,0.144))\n",
    "C.append(unc.ufloat(1.085,0.193))\n",
    "C.append(unc.ufloat(0.213,0.024))\n",
    "C.append(unc.ufloat(-1.687,0.183))\n",
    "C.append(unc.ufloat(3.409,0.439))\n",
    "C.append(unc.ufloat(-3.255,0.333))"
   ]
  },
  {
   "cell_type": "code",
   "execution_count": 61,
   "metadata": {
    "collapsed": true
   },
   "outputs": [],
   "source": [
    "def lambda1(x):\n",
    "    \"\"\"Helper function for F2_d(x,Q2)\"\"\"\n",
    "    l1 = 0.0\n",
    "    for i in range(0,4):\n",
    "        l1 += np.multiply(C[i+8],np.power(x,i))\n",
    "    return l1"
   ]
  },
  {
   "cell_type": "code",
   "execution_count": 63,
   "metadata": {
    "collapsed": true
   },
   "outputs": [],
   "source": [
    "def F2_A(x):\n",
    "    \"\"\"Helper function for F2_d(x,Q2)\"\"\"\n",
    "    return np.multiply(1.22,np.exp(np.multiply(3.2,x)))"
   ]
  },
  {
   "cell_type": "code",
   "execution_count": 140,
   "metadata": {
    "collapsed": true
   },
   "outputs": [],
   "source": [
    "def beta(x, Q2):\n",
    "    \"\"\"Helper function for F2_d(x,Q2)\"\"\"\n",
    "    b1 = np.power(1.0 - np.exp(-1.0*np.minimum(20.0*np.ones(len(x)),\n",
    "                                               np.multiply(7.7,\n",
    "                                                           np.divide(1.0,x)+\n",
    "                                                           (np.divide(0.938**2,Q2))-1.0\n",
    "                                                           )\n",
    "                                              )\n",
    "                              ),\n",
    "                  -1.0)\n",
    "    return b1"
   ]
  },
  {
   "cell_type": "code",
   "execution_count": 117,
   "metadata": {
    "collapsed": true
   },
   "outputs": [],
   "source": [
    "def F2_thr(x):\n",
    "    \"\"\"Helper function for F2_d(x,Q2)\"\"\"\n",
    "    c = 0.0\n",
    "    for i in range(0,6):\n",
    "        c += np.multiply(C[i],np.power(np.subtract(1.0,x),i+2))\n",
    "    return c"
   ]
  },
  {
   "cell_type": "code",
   "execution_count": 118,
   "metadata": {
    "collapsed": true
   },
   "outputs": [],
   "source": [
    "def F2_d(x, Q2):\n",
    "    \"\"\"\n",
    "    Based on parametrization of deuterium outlined in:\n",
    "    Whitlow, et al. Phys. Lett. B282 (1992) 475-482\n",
    "    \"\"\"\n",
    "    f2d = 0.0\n",
    "    f2d = beta(x, Q2) * F2_thr(x) * (1 + lambda1(x) * np.log(Q2/F2_A(x)))\n",
    "    return f2d"
   ]
  },
  {
   "cell_type": "code",
   "execution_count": 143,
   "metadata": {
    "collapsed": true
   },
   "outputs": [],
   "source": [
    "def F2_d_ratio(x2, x1, Q2):\n",
    "    \"\"\"Helper function for taking the ratio of two F2_d calls.\"\"\"\n",
    "    if isinstance(x1, float):\n",
    "        x1_bak = x1\n",
    "        x1 = []\n",
    "        x1.append(x1_bak)\n",
    "        del x1_bak\n",
    "    if isinstance(x2, float):\n",
    "        x2_bak = x2\n",
    "        x2 = []\n",
    "        x2.append(x2_bak)\n",
    "        del x2_bak\n",
    "    if isinstance(Q2, float):\n",
    "        Q2_bak = Q2\n",
    "        Q2 = []\n",
    "        Q2.append(Q2_bak)\n",
    "    f2d2 = F2_d(x2, Q2)\n",
    "    f2d1 = F2_d(x1, Q2)\n",
    "    return f2d2/f2d1"
   ]
  },
  {
   "cell_type": "code",
   "execution_count": 3,
   "metadata": {
    "collapsed": true
   },
   "outputs": [],
   "source": [
    "import strfunct as sf"
   ]
  },
  {
   "cell_type": "code",
   "execution_count": 4,
   "metadata": {
    "collapsed": true
   },
   "outputs": [],
   "source": [
    "import matplotlib.pyplot as plt"
   ]
  },
  {
   "cell_type": "code",
   "execution_count": 22,
   "metadata": {
    "collapsed": true
   },
   "outputs": [],
   "source": [
    "sns.set_style('ticks')\n",
    "sns.set_context('paper', font_scale=1.4)"
   ]
  },
  {
   "cell_type": "code",
   "execution_count": 8,
   "metadata": {
    "collapsed": true
   },
   "outputs": [],
   "source": [
    "%matplotlib inline"
   ]
  },
  {
   "cell_type": "code",
   "execution_count": 9,
   "metadata": {
    "collapsed": true
   },
   "outputs": [],
   "source": [
    "x = np.arange(0.01, 0.8, 0.01)"
   ]
  },
  {
   "cell_type": "code",
   "execution_count": 10,
   "metadata": {
    "collapsed": false
   },
   "outputs": [],
   "source": [
    "rnp, rnp_std = sf.R_np(x)"
   ]
  },
  {
   "cell_type": "code",
   "execution_count": 43,
   "metadata": {
    "collapsed": false
   },
   "outputs": [
    {
     "data": {
      "image/png": "[encoded data removed]",
      "text/plain": [
       "<matplotlib.figure.Figure at 0x1224eb350>"
      ]
     },
     "metadata": {},
     "output_type": "display_data"
    }
   ],
   "source": [
    "plt.errorbar(x, rnp, yerr=rnp_std, lw=3)\n",
    "plt.grid()\n",
    "#plt.legend(loc='best', fontsize=20, frameon=True)\n",
    "plt.ylabel(r'$R_{np}(x)$', fontsize=20)\n",
    "plt.xlabel(r'$x$', fontsize=20)\n",
    "plt.savefig('rnp.png')"
   ]
  },
  {
   "cell_type": "code",
   "execution_count": 34,
   "metadata": {
    "collapsed": false
   },
   "outputs": [],
   "source": [
    "riso_fe, riso_fe_std = sf.R_ISO(x, 56, 26)\n",
    "riso_w, riso_w_std = sf.R_ISO(x, 184, 74)"
   ]
  },
  {
   "cell_type": "code",
   "execution_count": 42,
   "metadata": {
    "collapsed": false
   },
   "outputs": [
    {
     "data": {
      "image/png": "[encoded data removed]",
      "text/plain": [
       "<matplotlib.figure.Figure at 0x122bc4a90>"
      ]
     },
     "metadata": {},
     "output_type": "display_data"
    }
   ],
   "source": [
    "plt.errorbar(x, riso_fe, yerr=riso_fe_std, label='Fe', lw=3)\n",
    "plt.errorbar(x, riso_w, yerr=riso_w_std, label='W', lw=3, ls='--')\n",
    "plt.grid()\n",
    "#plt.legend(loc='best', fontsize=20, frameon=True)\n",
    "plt.ylabel(r'$R_{ISO}(x)$', fontsize=20)\n",
    "plt.xlabel(r'$x$', fontsize=20)\n",
    "plt.legend(loc='upper left', fontsize=20)\n",
    "plt.savefig('riso.png')"
   ]
  },
  {
   "cell_type": "code",
   "execution_count": null,
   "metadata": {
    "collapsed": true
   },
   "outputs": [],
   "source": []
  }
 ],
 "metadata": {
  "kernelspec": {
   "display_name": "Python 2",
   "language": "python",
   "name": "python2"
  },
  "language_info": {
   "codemirror_mode": {
    "name": "ipython",
    "version": 2
   },
   "file_extension": ".py",
   "mimetype": "text/x-python",
   "name": "python",
   "nbconvert_exporter": "python",
   "pygments_lexer": "ipython2",
   "version": "2.7.11"
  }
 },
 "nbformat": 4,
 "nbformat_minor": 0
}
