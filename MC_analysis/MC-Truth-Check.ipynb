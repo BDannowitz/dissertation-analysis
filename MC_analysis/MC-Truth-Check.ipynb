{
 "cells": [
  {
   "cell_type": "code",
   "execution_count": 1,
   "metadata": {
    "collapsed": false
   },
   "outputs": [],
   "source": [
    "%load_ext autoreload"
   ]
  },
  {
   "cell_type": "code",
   "execution_count": 2,
   "metadata": {
    "collapsed": false
   },
   "outputs": [],
   "source": [
    "%matplotlib inline\n",
    "import matplotlib.pyplot as plt\n",
    "import matplotlib.pylab as pylab\n",
    "import uncertainties as unc\n",
    "from uncertainties import unumpy as unp\n",
    "import numpy as np\n",
    "from sys import path\n",
    "import pandas as pd\n",
    "\n",
    "path.append('../pylib')\n",
    "path.append('..')\n",
    "from emc import *\n",
    "from targets import mc_target_df\n",
    "\n",
    "%autoreload 2\n",
    "%aimport emc"
   ]
  },
  {
   "cell_type": "code",
   "execution_count": 3,
   "metadata": {
    "collapsed": false
   },
   "outputs": [],
   "source": [
    "server = 'seaquel.physics.illinois.edu'\n",
    "analysis_schema = 'user_dannowitz_mc_truth'\n",
    "mc_schema_list = ['mc_drellyan_LH2_M013_S002',\n",
    "                  'mc_drellyan_LD2_M013_S002',\n",
    "                  'mc_drellyan_C_M013_S002']\n",
    "analysis_table = 'mDimuon_analysis'\n",
    "fresh_start = False\n",
    "#fresh_start = True"
   ]
  },
  {
   "cell_type": "code",
   "execution_count": 6,
   "metadata": {
    "collapsed": false
   },
   "outputs": [],
   "source": [
    "dimuon_df = get_dimuon_df(server=server, \n",
    "                          analysis_schema=analysis_schema, \n",
    "                          source_schema_list=mc_schema_list,\n",
    "                          analysis_table=analysis_table,\n",
    "                          fresh_start=fresh_start,\n",
    "                          truth_mc=True)"
   ]
  },
  {
   "cell_type": "code",
   "execution_count": 78,
   "metadata": {
    "collapsed": true
   },
   "outputs": [],
   "source": [
    "dimuon_df.to_csv('dimuon_mc_M013_S002.tsv', sep='\\t')"
   ]
  },
  {
   "cell_type": "code",
   "execution_count": 19,
   "metadata": {
    "collapsed": true
   },
   "outputs": [],
   "source": [
    "dimuon_df = pd.read_csv('dimuon_mc_M013_S002.tsv', sep='\\t', index_col='Unnamed: 0')"
   ]
  },
  {
   "cell_type": "code",
   "execution_count": 18,
   "metadata": {
    "collapsed": false
   },
   "outputs": [
    {
     "data": {
      "text/plain": [
       "[0.08, 0.16, 0.24, 0.32, 0.4, 0.48, 0.56]"
      ]
     },
     "execution_count": 18,
     "metadata": {},
     "output_type": "execute_result"
    }
   ],
   "source": [
    "#bin_edges = [0.08, 0.14, 0.16, 0.18, 0.21, 0.25, 0.31, 0.53]\n",
    "#bin_edges = [i*0.05 for i in range(1,11)]; bin_edges\n",
    "bin_edges = [i*0.08 for i in range(1,8)]; bin_edges"
   ]
  },
  {
   "cell_type": "code",
   "execution_count": 21,
   "metadata": {
    "collapsed": false
   },
   "outputs": [],
   "source": [
    "emc_df, means_list, means_df = emc_analysis(dimuon_df,\n",
    "                                            None,\n",
    "                                            (),\n",
    "                                            bin_edges,\n",
    "                                            qie_correction=False,\n",
    "                                            truth_mc=True)"
   ]
  },
  {
   "cell_type": "code",
   "execution_count": 22,
   "metadata": {
    "collapsed": true
   },
   "outputs": [],
   "source": [
    "del dimuon_df"
   ]
  },
  {
   "cell_type": "code",
   "execution_count": 23,
   "metadata": {
    "collapsed": true
   },
   "outputs": [],
   "source": [
    "emc_df.to_csv('emc_mc_M013_S002_bin2.tsv', sep='\\t')"
   ]
  },
  {
   "cell_type": "code",
   "execution_count": 5,
   "metadata": {
    "collapsed": false
   },
   "outputs": [],
   "source": [
    "emc_df = pd.read_csv('emc_mc_M013_S002.tsv', sep='\\t',\n",
    "                     index_col='Unnamed: 0')\n",
    "emc_df[['C/D', 'C/H', 'D/H']] = emc_df[['C/D', 'C/H', 'D/H']].applymap(unc.ufloat_fromstr)"
   ]
  },
  {
   "cell_type": "code",
   "execution_count": 24,
   "metadata": {
    "collapsed": false
   },
   "outputs": [
    {
     "data": {
      "text/html": [
       "<div>\n",
       "<table border=\"1\" class=\"dataframe\">\n",
       "  <thead>\n",
       "    <tr style=\"text-align: right;\">\n",
       "      <th></th>\n",
       "      <th>xT</th>\n",
       "      <th>D/H</th>\n",
       "      <th>C/D</th>\n",
       "      <th>C/H</th>\n",
       "    </tr>\n",
       "  </thead>\n",
       "  <tbody>\n",
       "    <tr>\n",
       "      <th>(0.08, 0.16]</th>\n",
       "      <td>0.131+/-0.018</td>\n",
       "      <td>1.195+/-0.011</td>\n",
       "      <td>1.019+/-0.010</td>\n",
       "      <td>1.217+/-0.011</td>\n",
       "    </tr>\n",
       "    <tr>\n",
       "      <th>(0.16, 0.24]</th>\n",
       "      <td>0.200+/-0.023</td>\n",
       "      <td>1.159+/-0.009</td>\n",
       "      <td>1.004+/-0.008</td>\n",
       "      <td>1.163+/-0.009</td>\n",
       "    </tr>\n",
       "    <tr>\n",
       "      <th>(0.24, 0.32]</th>\n",
       "      <td>0.280+/-0.023</td>\n",
       "      <td>1.013+/-0.009</td>\n",
       "      <td>0.986+/-0.008</td>\n",
       "      <td>0.998+/-0.009</td>\n",
       "    </tr>\n",
       "    <tr>\n",
       "      <th>(0.32, 0.40]</th>\n",
       "      <td>0.360+/-0.023</td>\n",
       "      <td>0.818+/-0.008</td>\n",
       "      <td>1.004+/-0.009</td>\n",
       "      <td>0.821+/-0.008</td>\n",
       "    </tr>\n",
       "    <tr>\n",
       "      <th>(0.40, 0.48]</th>\n",
       "      <td>0.440+/-0.023</td>\n",
       "      <td>0.725+/-0.007</td>\n",
       "      <td>0.990+/-0.010</td>\n",
       "      <td>0.717+/-0.007</td>\n",
       "    </tr>\n",
       "    <tr>\n",
       "      <th>(0.48, 0.56]</th>\n",
       "      <td>0.518+/-0.023</td>\n",
       "      <td>0.689+/-0.008</td>\n",
       "      <td>1.007+/-0.012</td>\n",
       "      <td>0.694+/-0.008</td>\n",
       "    </tr>\n",
       "  </tbody>\n",
       "</table>\n",
       "</div>"
      ],
      "text/plain": [
       "                         xT            D/H            C/D            C/H\n",
       "(0.08, 0.16]  0.131+/-0.018  1.195+/-0.011  1.019+/-0.010  1.217+/-0.011\n",
       "(0.16, 0.24]  0.200+/-0.023  1.159+/-0.009  1.004+/-0.008  1.163+/-0.009\n",
       "(0.24, 0.32]  0.280+/-0.023  1.013+/-0.009  0.986+/-0.008  0.998+/-0.009\n",
       "(0.32, 0.40]  0.360+/-0.023  0.818+/-0.008  1.004+/-0.009  0.821+/-0.008\n",
       "(0.40, 0.48]  0.440+/-0.023  0.725+/-0.007  0.990+/-0.010  0.717+/-0.007\n",
       "(0.48, 0.56]  0.518+/-0.023  0.689+/-0.008  1.007+/-0.012  0.694+/-0.008"
      ]
     },
     "execution_count": 24,
     "metadata": {},
     "output_type": "execute_result"
    }
   ],
   "source": [
    "emc_df"
   ]
  },
  {
   "cell_type": "code",
   "execution_count": 25,
   "metadata": {
    "collapsed": false
   },
   "outputs": [],
   "source": [
    "bin_centers = unp.nominal_values(emc_df['xT'].values)\n",
    "lower_val = np.subtract(bin_centers,bin_edges[:-1])\n",
    "upper_val = np.subtract(bin_edges[1:], bin_centers)\n",
    "asymmetric_bars = [lower_val, upper_val]"
   ]
  },
  {
   "cell_type": "code",
   "execution_count": 8,
   "metadata": {
    "collapsed": false,
    "scrolled": false
   },
   "outputs": [
    {
     "data": {
      "image/png": "[encoded data removed]",
      "text/plain": [
       "<matplotlib.figure.Figure at 0x7fb193a6ff90>"
      ]
     },
     "metadata": {},
     "output_type": "display_data"
    }
   ],
   "source": [
    "plot_one_emc(bin_centers, asymmetric_bars,\n",
    "             [emc_df['C/D']],\n",
    "             [r'C/D'], \n",
    "             lims=(0.0, 0.55, 0.9, 1.1),\n",
    "             title='C/D MC Truth')"
   ]
  },
  {
   "cell_type": "code",
   "execution_count": 26,
   "metadata": {
    "collapsed": false
   },
   "outputs": [
    {
     "data": {
      "image/png": "[encoded data removed]",
      "text/plain": [
       "<matplotlib.figure.Figure at 0x7fb193030e50>"
      ]
     },
     "metadata": {},
     "output_type": "display_data"
    }
   ],
   "source": [
    "plot_one_emc(bin_centers, asymmetric_bars,\n",
    "             [emc_df['C/H'], emc_df['C/D'], emc_df['D/H']],\n",
    "             [r'C/H', r'C/D', r'D/H'], \n",
    "             lims=(0.05, 0.58, 0.6, 1.3),\n",
    "             title='Truth MC',\n",
    "             savefile='c-d-h-truth-mc.png',\n",
    "             ylabel=r'$\\boldsymbol{R\\left(\\frac{A_1}{A_2}\\right)}$')"
   ]
  },
  {
   "cell_type": "code",
   "execution_count": null,
   "metadata": {
    "collapsed": true
   },
   "outputs": [],
   "source": []
  }
 ],
 "metadata": {
  "kernelspec": {
   "display_name": "Python 2",
   "language": "python",
   "name": "python2"
  },
  "language_info": {
   "codemirror_mode": {
    "name": "ipython",
    "version": 2
   },
   "file_extension": ".py",
   "mimetype": "text/x-python",
   "name": "python",
   "nbconvert_exporter": "python",
   "pygments_lexer": "ipython2",
   "version": "2.7.6"
  }
 },
 "nbformat": 4,
 "nbformat_minor": 0
}
