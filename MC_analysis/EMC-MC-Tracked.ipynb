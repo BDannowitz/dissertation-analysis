{
 "cells": [
  {
   "cell_type": "code",
   "execution_count": 1,
   "metadata": {
    "collapsed": false
   },
   "outputs": [],
   "source": [
    "%load_ext autoreload"
   ]
  },
  {
   "cell_type": "code",
   "execution_count": 2,
   "metadata": {
    "collapsed": false
   },
   "outputs": [],
   "source": [
    "%autoreload 2\n",
    "%aimport emc\n",
    "%aimport kdimuon\n",
    "%aimport spill"
   ]
  },
  {
   "cell_type": "code",
   "execution_count": 3,
   "metadata": {
    "collapsed": false
   },
   "outputs": [],
   "source": [
    "from emc import *\n",
    "from kdimuon import *\n",
    "from spill import *\n",
    "import scipy as sp\n",
    "import pandas as pd\n",
    "from pandas import DataFrame, Series\n",
    "from scipy import stats\n",
    "import matplotlib\n",
    "import matplotlib.pylab as pylab\n",
    "import matplotlib.gridspec as gridspec\n",
    "# import seaborn as sns\n",
    "import uncertainties as unc\n",
    "from uncertainties import unumpy as unp\n",
    "\n",
    "sys.path.append('../modules')\n",
    "from targets import mc_target_dict"
   ]
  },
  {
   "cell_type": "code",
   "execution_count": 4,
   "metadata": {
    "collapsed": false
   },
   "outputs": [],
   "source": [
    "pylab.rcParams['figure.figsize'] = 12, 8  # that's default image size for this interactive sessionpylab.rcParams['figure.figsize'] = 12, 8  # that's default image size for this interactive session\n",
    "matplotlib.rc('text', usetex=True)\n",
    "matplotlib.rcParams['text.latex.preamble']=[r\"\\usepackage{amsmath}\"]"
   ]
  },
  {
   "cell_type": "code",
   "execution_count": 5,
   "metadata": {
    "collapsed": false
   },
   "outputs": [],
   "source": [
    "font = {'family' : 'serif', 'weight': 'bold'}\n",
    "matplotlib.rc('font', **font)"
   ]
  },
  {
   "cell_type": "markdown",
   "metadata": {},
   "source": [
    "### Objectives\n",
    "1. Create analysis schema and table\n",
    "2. Get xT array and number of live protons for each target\n",
    "3. Get histogram counts and error for each target\n",
    "4. Get PDF's for each distribution\n",
    "4. Subtract Empty from LD2 and LH2 counts, combine error\n",
    "5. Use LH2 and LD2 data, proportions, to get Deuterium counts, error\n",
    "6. Plot distributions for all targets, including LD2 / D2\n",
    "7. Calculate ratio values, error values, plot"
   ]
  },
  {
   "cell_type": "code",
   "execution_count": 7,
   "metadata": {
    "collapsed": false
   },
   "outputs": [],
   "source": [
    "server = 'seaquel.physics.illinois.edu'\n",
    "analysis_schema = 'user_dannowitz_mc_tracked_check'\n",
    "mc_schema_list = ['mc_drellyan_LH2_M004_S002','mc_drellyan_LD2_M004_S002', \n",
    "                  'mc_drellyan_C_M004_S002','mc_drellyan_Fe_M004_S002',\n",
    "                  'mc_drellyan_W_M004_S002']\n",
    "analysis_table = 'mDimuon_mc_tracked_M004'\n",
    "#fresh_start = False\n",
    "fresh_start = True"
   ]
  },
  {
   "cell_type": "code",
   "execution_count": 8,
   "metadata": {
    "collapsed": false
   },
   "outputs": [
    {
     "name": "stdout",
     "output_type": "stream",
     "text": [
      "156230 dimuons from source table.\n",
      "\n",
      "111649 entries copied over with mass between 4.2 and 10 GeV and chisq<25\n",
      "111647 dimuons: after 2 entries deleted for x-range cuts\n",
      "93010 dimuons: after 18637 entries deleted for dimuon positional and momentum cuts\n",
      "90850 dimuons: after 2160 Rows deleted for track-level cuts\n",
      "83438 dimuons: after 7412 Rows deleted for dump radius cut\n",
      "83438 dimuons total after all cuts.\n",
      "156211 dimuons from source table.\n",
      "\n",
      "111644 entries copied over with mass between 4.2 and 10 GeV and chisq<25\n",
      "111643 dimuons: after 1 entries deleted for x-range cuts\n",
      "92996 dimuons: after 18647 entries deleted for dimuon positional and momentum cuts\n",
      "90891 dimuons: after 2105 Rows deleted for track-level cuts\n",
      "83706 dimuons: after 7185 Rows deleted for dump radius cut\n",
      "83706 dimuons total after all cuts.\n",
      "154703 dimuons from source table.\n",
      "\n",
      "110700 entries copied over with mass between 4.2 and 10 GeV and chisq<25\n",
      "110697 dimuons: after 3 entries deleted for x-range cuts\n",
      "88539 dimuons: after 22158 entries deleted for dimuon positional and momentum cuts\n",
      "86492 dimuons: after 2047 Rows deleted for track-level cuts\n",
      "79420 dimuons: after 7072 Rows deleted for dump radius cut\n",
      "79420 dimuons total after all cuts.\n",
      "155535 dimuons from source table.\n",
      "\n",
      "110980 entries copied over with mass between 4.2 and 10 GeV and chisq<25\n",
      "110979 dimuons: after 1 entries deleted for x-range cuts\n",
      "92439 dimuons: after 18540 entries deleted for dimuon positional and momentum cuts\n",
      "90388 dimuons: after 2051 Rows deleted for track-level cuts\n",
      "83059 dimuons: after 7329 Rows deleted for dump radius cut\n",
      "83059 dimuons total after all cuts.\n",
      "156131 dimuons from source table.\n",
      "\n",
      "111844 entries copied over with mass between 4.2 and 10 GeV and chisq<25\n",
      "111843 dimuons: after 1 entries deleted for x-range cuts\n",
      "89769 dimuons: after 22074 entries deleted for dimuon positional and momentum cuts\n",
      "87683 dimuons: after 2086 Rows deleted for track-level cuts\n",
      "80536 dimuons: after 7147 Rows deleted for dump radius cut\n",
      "80536 dimuons total after all cuts.\n"
     ]
    }
   ],
   "source": [
    "dimuon_df = mc_get_analysis_data(server=server, \n",
    "                                 analysis_schema=analysis_schema, \n",
    "                                 mc_schema_list=mc_schema_list,\n",
    "                                 analysis_table=analysis_table,\n",
    "                                 fresh_start=fresh_start)                                          "
   ]
  },
  {
   "cell_type": "markdown",
   "metadata": {},
   "source": [
    "### Objectives:\n",
    "1. Get counts and average kinematics per bin per target\n",
    "2. Get yields per live proton"
   ]
  },
  {
   "cell_type": "code",
   "execution_count": 9,
   "metadata": {
    "collapsed": false
   },
   "outputs": [],
   "source": [
    "pos_to_targ = {1: {'target': 'LH2'},\n",
    "               2: {'target': 'Empty'},\n",
    "               3: {'target': 'LD2'},\n",
    "               4: {'target': 'None'},\n",
    "               5: {'target': 'Fe'},\n",
    "               6: {'target': 'C'},\n",
    "               7: {'target':'W'}}\n",
    "pos_to_targ_df = pd.DataFrame(pos_to_targ).T\n",
    "dimuon_df = pd.merge(dimuon_df, pos_to_targ_df, left_on='targpos', right_index=True)"
   ]
  },
  {
   "cell_type": "code",
   "execution_count": 98,
   "metadata": {
    "collapsed": false
   },
   "outputs": [],
   "source": [
    "dimuon_df.drop('weight_sq', axis=1, inplace=True)"
   ]
  },
  {
   "cell_type": "code",
   "execution_count": 55,
   "metadata": {
    "collapsed": false
   },
   "outputs": [
    {
     "data": {
      "text/html": [
       "<div style=\"max-height:1000px;max-width:1500px;overflow:auto;\">\n",
       "<table border=\"1\" class=\"dataframe\">\n",
       "  <thead>\n",
       "    <tr style=\"text-align: right;\">\n",
       "      <th></th>\n",
       "      <th>dimuonID</th>\n",
       "      <th>runID</th>\n",
       "      <th>mass</th>\n",
       "      <th>xF</th>\n",
       "      <th>xB</th>\n",
       "      <th>xT</th>\n",
       "      <th>targpos</th>\n",
       "      <th>weight</th>\n",
       "      <th>target</th>\n",
       "      <th>weight_sq</th>\n",
       "    </tr>\n",
       "  </thead>\n",
       "  <tbody>\n",
       "    <tr>\n",
       "      <th>0</th>\n",
       "      <td> 0</td>\n",
       "      <td> 11</td>\n",
       "      <td> 5.219403</td>\n",
       "      <td> 0.520165</td>\n",
       "      <td> 0.643452</td>\n",
       "      <td> 0.189309</td>\n",
       "      <td> 1</td>\n",
       "      <td> 0.000351</td>\n",
       "      <td> LH2</td>\n",
       "      <td> 1.232282e-07</td>\n",
       "    </tr>\n",
       "    <tr>\n",
       "      <th>1</th>\n",
       "      <td> 4</td>\n",
       "      <td> 11</td>\n",
       "      <td> 8.170731</td>\n",
       "      <td> 0.726715</td>\n",
       "      <td> 0.858020</td>\n",
       "      <td> 0.349139</td>\n",
       "      <td> 1</td>\n",
       "      <td> 0.000002</td>\n",
       "      <td> LH2</td>\n",
       "      <td> 5.385556e-12</td>\n",
       "    </tr>\n",
       "    <tr>\n",
       "      <th>2</th>\n",
       "      <td> 6</td>\n",
       "      <td> 11</td>\n",
       "      <td> 6.168396</td>\n",
       "      <td> 0.733165</td>\n",
       "      <td> 0.822194</td>\n",
       "      <td> 0.216736</td>\n",
       "      <td> 1</td>\n",
       "      <td> 0.000019</td>\n",
       "      <td> LH2</td>\n",
       "      <td> 3.605992e-10</td>\n",
       "    </tr>\n",
       "    <tr>\n",
       "      <th>3</th>\n",
       "      <td> 8</td>\n",
       "      <td> 11</td>\n",
       "      <td> 7.245674</td>\n",
       "      <td> 0.679939</td>\n",
       "      <td> 0.837255</td>\n",
       "      <td> 0.318722</td>\n",
       "      <td> 1</td>\n",
       "      <td> 0.000005</td>\n",
       "      <td> LH2</td>\n",
       "      <td> 2.327040e-11</td>\n",
       "    </tr>\n",
       "    <tr>\n",
       "      <th>4</th>\n",
       "      <td> 9</td>\n",
       "      <td> 11</td>\n",
       "      <td> 5.487430</td>\n",
       "      <td> 0.610031</td>\n",
       "      <td> 0.717820</td>\n",
       "      <td> 0.192873</td>\n",
       "      <td> 1</td>\n",
       "      <td> 0.000239</td>\n",
       "      <td> LH2</td>\n",
       "      <td> 5.735612e-08</td>\n",
       "    </tr>\n",
       "  </tbody>\n",
       "</table>\n",
       "<p>5 rows × 10 columns</p>\n",
       "</div>"
      ],
      "text/plain": [
       "   dimuonID  runID      mass        xF        xB        xT  targpos    weight  \\\n",
       "0         0     11  5.219403  0.520165  0.643452  0.189309        1  0.000351   \n",
       "1         4     11  8.170731  0.726715  0.858020  0.349139        1  0.000002   \n",
       "2         6     11  6.168396  0.733165  0.822194  0.216736        1  0.000019   \n",
       "3         8     11  7.245674  0.679939  0.837255  0.318722        1  0.000005   \n",
       "4         9     11  5.487430  0.610031  0.717820  0.192873        1  0.000239   \n",
       "\n",
       "  target     weight_sq  \n",
       "0    LH2  1.232282e-07  \n",
       "1    LH2  5.385556e-12  \n",
       "2    LH2  3.605992e-10  \n",
       "3    LH2  2.327040e-11  \n",
       "4    LH2  5.735612e-08  \n",
       "\n",
       "[5 rows x 10 columns]"
      ]
     },
     "execution_count": 55,
     "metadata": {},
     "output_type": "execute_result"
    }
   ],
   "source": [
    "dimuon_df['weight_sq'] = dimuon_df['weight'] ** 2; dimuon_df.head()"
   ]
  },
  {
   "cell_type": "code",
   "execution_count": 69,
   "metadata": {
    "collapsed": false
   },
   "outputs": [],
   "source": [
    "groups = dimuon_df[['mass', 'xF', 'xB', 'xT']].groupby(by=[dimuon_df.target,\n",
    "                                                           pd.cut(dimuon_df.xT, 15)])"
   ]
  },
  {
   "cell_type": "code",
   "execution_count": 70,
   "metadata": {
    "collapsed": false
   },
   "outputs": [],
   "source": [
    "counts_df = pd.DataFrame(dimuon_df[['mass', 'xF', 'xB', 'xT','weight']].groupby(by=[dimuon_df.target,\n",
    "                                                                                pd.cut(dimuon_df.xT,15)]).weight.sum())"
   ]
  },
  {
   "cell_type": "code",
   "execution_count": 71,
   "metadata": {
    "collapsed": false
   },
   "outputs": [],
   "source": [
    "unc_df = pd.DataFrame(dimuon_df[['mass', 'xF', 'xB', 'xT','weight_sq']].groupby(by=[dimuon_df.target,\n",
    "                                                                                pd.cut(dimuon_df.xT,15)]).weight_sq.sum())\n",
    "unc_df = unc_df.apply(np.sqrt, axis=0)"
   ]
  },
  {
   "cell_type": "code",
   "execution_count": 72,
   "metadata": {
    "collapsed": false
   },
   "outputs": [],
   "source": [
    "means_df = groups['mass', 'xF', 'xB', 'xT'].mean()"
   ]
  },
  {
   "cell_type": "code",
   "execution_count": 78,
   "metadata": {
    "collapsed": false
   },
   "outputs": [
    {
     "data": {
      "text/plain": [
       "array([[1.9979631245400016+/-0.06063764341914698],\n",
       "       [11.535573648560028+/-0.24476659081553875],\n",
       "       [14.928405091989957+/-0.3388975456307583],\n",
       "       [11.976539139220005+/-0.2995945316194354],\n",
       "       [7.151450909400015+/-0.18629873750780704]], dtype=object)"
      ]
     },
     "execution_count": 78,
     "metadata": {},
     "output_type": "execute_result"
    }
   ],
   "source": []
  },
  {
   "cell_type": "code",
   "execution_count": 79,
   "metadata": {
    "collapsed": false
   },
   "outputs": [],
   "source": [
    "means_df['counts'] = counts_df\n",
    "means_df['unc'] = unc_df\n",
    "means_df['normcounts'] = unp.uarray(means_df['counts'],means_df['unc'])"
   ]
  },
  {
   "cell_type": "code",
   "execution_count": 100,
   "metadata": {
    "collapsed": false
   },
   "outputs": [
    {
     "data": {
      "text/html": [
       "<div style=\"max-height:1000px;max-width:1500px;overflow:auto;\">\n",
       "<table border=\"1\" class=\"dataframe\">\n",
       "  <thead>\n",
       "    <tr style=\"text-align: right;\">\n",
       "      <th></th>\n",
       "      <th></th>\n",
       "      <th>mass</th>\n",
       "      <th>xF</th>\n",
       "      <th>xB</th>\n",
       "      <th>xT</th>\n",
       "      <th>counts</th>\n",
       "      <th>unc</th>\n",
       "      <th>normcounts</th>\n",
       "    </tr>\n",
       "    <tr>\n",
       "      <th>target</th>\n",
       "      <th>xT</th>\n",
       "      <th></th>\n",
       "      <th></th>\n",
       "      <th></th>\n",
       "      <th></th>\n",
       "      <th></th>\n",
       "      <th></th>\n",
       "      <th></th>\n",
       "    </tr>\n",
       "  </thead>\n",
       "  <tbody>\n",
       "    <tr>\n",
       "      <th rowspan=\"15\" valign=\"top\">LD2</th>\n",
       "      <th>(0.0831, 0.121]</th>\n",
       "      <td> 4.466603</td>\n",
       "      <td> 0.829912</td>\n",
       "      <td> 0.860121</td>\n",
       "      <td> 0.109413</td>\n",
       "      <td>  2.423741</td>\n",
       "      <td> 0.068803</td>\n",
       "      <td>       2.42+/-0.07</td>\n",
       "    </tr>\n",
       "    <tr>\n",
       "      <th>(0.121, 0.159]</th>\n",
       "      <td> 4.847681</td>\n",
       "      <td> 0.733535</td>\n",
       "      <td> 0.791654</td>\n",
       "      <td> 0.140688</td>\n",
       "      <td> 14.039959</td>\n",
       "      <td> 0.292692</td>\n",
       "      <td>      14.04+/-0.29</td>\n",
       "    </tr>\n",
       "    <tr>\n",
       "      <th>(0.159, 0.196]</th>\n",
       "      <td> 5.312684</td>\n",
       "      <td> 0.661438</td>\n",
       "      <td> 0.749232</td>\n",
       "      <td> 0.177625</td>\n",
       "      <td> 17.990116</td>\n",
       "      <td> 0.396449</td>\n",
       "      <td>        18.0+/-0.4</td>\n",
       "    </tr>\n",
       "    <tr>\n",
       "      <th>(0.196, 0.234]</th>\n",
       "      <td> 5.780160</td>\n",
       "      <td> 0.609273</td>\n",
       "      <td> 0.726255</td>\n",
       "      <td> 0.215047</td>\n",
       "      <td> 13.391880</td>\n",
       "      <td> 0.319694</td>\n",
       "      <td>      13.39+/-0.32</td>\n",
       "    </tr>\n",
       "    <tr>\n",
       "      <th>(0.234, 0.271]</th>\n",
       "      <td> 6.214779</td>\n",
       "      <td> 0.562425</td>\n",
       "      <td> 0.710093</td>\n",
       "      <td> 0.252585</td>\n",
       "      <td>  8.866662</td>\n",
       "      <td> 0.226541</td>\n",
       "      <td>       8.87+/-0.23</td>\n",
       "    </tr>\n",
       "    <tr>\n",
       "      <th>(0.271, 0.309]</th>\n",
       "      <td> 6.611746</td>\n",
       "      <td> 0.516707</td>\n",
       "      <td> 0.696871</td>\n",
       "      <td> 0.289872</td>\n",
       "      <td>  5.759534</td>\n",
       "      <td> 0.159535</td>\n",
       "      <td>       5.76+/-0.16</td>\n",
       "    </tr>\n",
       "    <tr>\n",
       "      <th>(0.309, 0.347]</th>\n",
       "      <td> 7.004704</td>\n",
       "      <td> 0.474510</td>\n",
       "      <td> 0.688319</td>\n",
       "      <td> 0.327229</td>\n",
       "      <td>  3.159964</td>\n",
       "      <td> 0.097779</td>\n",
       "      <td>       3.16+/-0.10</td>\n",
       "    </tr>\n",
       "    <tr>\n",
       "      <th>(0.347, 0.384]</th>\n",
       "      <td> 7.359844</td>\n",
       "      <td> 0.430838</td>\n",
       "      <td> 0.680576</td>\n",
       "      <td> 0.364565</td>\n",
       "      <td>  1.746306</td>\n",
       "      <td> 0.062929</td>\n",
       "      <td>       1.75+/-0.06</td>\n",
       "    </tr>\n",
       "    <tr>\n",
       "      <th>(0.384, 0.422]</th>\n",
       "      <td> 7.698437</td>\n",
       "      <td> 0.386476</td>\n",
       "      <td> 0.674047</td>\n",
       "      <td> 0.401807</td>\n",
       "      <td>  0.950115</td>\n",
       "      <td> 0.041531</td>\n",
       "      <td>       0.95+/-0.04</td>\n",
       "    </tr>\n",
       "    <tr>\n",
       "      <th>(0.422, 0.459]</th>\n",
       "      <td> 8.062610</td>\n",
       "      <td> 0.351639</td>\n",
       "      <td> 0.675276</td>\n",
       "      <td> 0.439079</td>\n",
       "      <td>  0.440103</td>\n",
       "      <td> 0.025905</td>\n",
       "      <td>     0.440+/-0.026</td>\n",
       "    </tr>\n",
       "    <tr>\n",
       "      <th>(0.459, 0.497]</th>\n",
       "      <td> 8.391746</td>\n",
       "      <td> 0.313479</td>\n",
       "      <td> 0.675716</td>\n",
       "      <td> 0.475773</td>\n",
       "      <td>  0.171563</td>\n",
       "      <td> 0.014059</td>\n",
       "      <td>     0.172+/-0.014</td>\n",
       "    </tr>\n",
       "    <tr>\n",
       "      <th>(0.497, 0.534]</th>\n",
       "      <td> 8.820694</td>\n",
       "      <td> 0.301161</td>\n",
       "      <td> 0.693019</td>\n",
       "      <td> 0.511595</td>\n",
       "      <td>  0.047123</td>\n",
       "      <td> 0.006395</td>\n",
       "      <td>     0.047+/-0.006</td>\n",
       "    </tr>\n",
       "    <tr>\n",
       "      <th>(0.534, 0.572]</th>\n",
       "      <td> 8.966345</td>\n",
       "      <td> 0.220954</td>\n",
       "      <td> 0.671643</td>\n",
       "      <td> 0.546992</td>\n",
       "      <td>  0.012634</td>\n",
       "      <td> 0.003030</td>\n",
       "      <td>   0.0126+/-0.0030</td>\n",
       "    </tr>\n",
       "    <tr>\n",
       "      <th>(0.572, 0.61]</th>\n",
       "      <td> 9.011474</td>\n",
       "      <td> 0.115075</td>\n",
       "      <td> 0.640583</td>\n",
       "      <td> 0.582819</td>\n",
       "      <td>  0.001218</td>\n",
       "      <td> 0.000652</td>\n",
       "      <td>   0.0012+/-0.0007</td>\n",
       "    </tr>\n",
       "    <tr>\n",
       "      <th>(0.61, 0.647]</th>\n",
       "      <td> 8.971350</td>\n",
       "      <td> 0.023222</td>\n",
       "      <td> 0.620964</td>\n",
       "      <td> 0.623747</td>\n",
       "      <td>  0.000112</td>\n",
       "      <td> 0.000110</td>\n",
       "      <td> 0.00011+/-0.00011</td>\n",
       "    </tr>\n",
       "    <tr>\n",
       "      <th rowspan=\"14\" valign=\"top\">LH2</th>\n",
       "      <th>(0.0831, 0.121]</th>\n",
       "      <td> 4.459482</td>\n",
       "      <td> 0.829646</td>\n",
       "      <td> 0.859964</td>\n",
       "      <td> 0.109251</td>\n",
       "      <td>  0.874324</td>\n",
       "      <td> 0.024876</td>\n",
       "      <td>     0.874+/-0.025</td>\n",
       "    </tr>\n",
       "    <tr>\n",
       "      <th>(0.121, 0.159]</th>\n",
       "      <td> 4.846420</td>\n",
       "      <td> 0.733003</td>\n",
       "      <td> 0.791222</td>\n",
       "      <td> 0.140723</td>\n",
       "      <td>  5.051992</td>\n",
       "      <td> 0.105887</td>\n",
       "      <td>       5.05+/-0.11</td>\n",
       "    </tr>\n",
       "    <tr>\n",
       "      <th>(0.159, 0.196]</th>\n",
       "      <td> 5.310700</td>\n",
       "      <td> 0.660508</td>\n",
       "      <td> 0.748432</td>\n",
       "      <td> 0.177559</td>\n",
       "      <td>  6.667723</td>\n",
       "      <td> 0.145431</td>\n",
       "      <td>       6.67+/-0.15</td>\n",
       "    </tr>\n",
       "    <tr>\n",
       "      <th>(0.196, 0.234]</th>\n",
       "      <td> 5.784064</td>\n",
       "      <td> 0.609706</td>\n",
       "      <td> 0.726655</td>\n",
       "      <td> 0.215171</td>\n",
       "      <td>  5.010626</td>\n",
       "      <td> 0.118235</td>\n",
       "      <td>       5.01+/-0.12</td>\n",
       "    </tr>\n",
       "    <tr>\n",
       "      <th>(0.234, 0.271]</th>\n",
       "      <td> 6.217191</td>\n",
       "      <td> 0.563817</td>\n",
       "      <td> 0.711212</td>\n",
       "      <td> 0.252412</td>\n",
       "      <td>  3.502266</td>\n",
       "      <td> 0.094862</td>\n",
       "      <td>       3.50+/-0.09</td>\n",
       "    </tr>\n",
       "    <tr>\n",
       "      <th>(0.271, 0.309]</th>\n",
       "      <td> 6.626871</td>\n",
       "      <td> 0.519582</td>\n",
       "      <td> 0.698862</td>\n",
       "      <td> 0.289939</td>\n",
       "      <td>  2.416324</td>\n",
       "      <td> 0.067454</td>\n",
       "      <td>       2.42+/-0.07</td>\n",
       "    </tr>\n",
       "    <tr>\n",
       "      <th>(0.309, 0.347]</th>\n",
       "      <td> 7.006556</td>\n",
       "      <td> 0.474627</td>\n",
       "      <td> 0.688484</td>\n",
       "      <td> 0.327396</td>\n",
       "      <td>  1.573552</td>\n",
       "      <td> 0.048333</td>\n",
       "      <td>       1.57+/-0.05</td>\n",
       "    </tr>\n",
       "    <tr>\n",
       "      <th>(0.347, 0.384]</th>\n",
       "      <td> 7.363348</td>\n",
       "      <td> 0.430317</td>\n",
       "      <td> 0.680297</td>\n",
       "      <td> 0.364807</td>\n",
       "      <td>  0.926570</td>\n",
       "      <td> 0.034335</td>\n",
       "      <td>     0.927+/-0.034</td>\n",
       "    </tr>\n",
       "    <tr>\n",
       "      <th>(0.384, 0.422]</th>\n",
       "      <td> 7.706911</td>\n",
       "      <td> 0.388296</td>\n",
       "      <td> 0.675490</td>\n",
       "      <td> 0.401692</td>\n",
       "      <td>  0.477808</td>\n",
       "      <td> 0.020486</td>\n",
       "      <td>     0.478+/-0.020</td>\n",
       "    </tr>\n",
       "    <tr>\n",
       "      <th>(0.422, 0.459]</th>\n",
       "      <td> 8.067682</td>\n",
       "      <td> 0.353902</td>\n",
       "      <td> 0.676984</td>\n",
       "      <td> 0.438876</td>\n",
       "      <td>  0.220933</td>\n",
       "      <td> 0.012564</td>\n",
       "      <td>     0.221+/-0.013</td>\n",
       "    </tr>\n",
       "    <tr>\n",
       "      <th>(0.459, 0.497]</th>\n",
       "      <td> 8.406310</td>\n",
       "      <td> 0.316819</td>\n",
       "      <td> 0.678040</td>\n",
       "      <td> 0.475467</td>\n",
       "      <td>  0.102093</td>\n",
       "      <td> 0.008194</td>\n",
       "      <td>     0.102+/-0.008</td>\n",
       "    </tr>\n",
       "    <tr>\n",
       "      <th>(0.497, 0.534]</th>\n",
       "      <td> 8.720069</td>\n",
       "      <td> 0.273513</td>\n",
       "      <td> 0.677591</td>\n",
       "      <td> 0.511933</td>\n",
       "      <td>  0.029660</td>\n",
       "      <td> 0.004278</td>\n",
       "      <td>     0.030+/-0.004</td>\n",
       "    </tr>\n",
       "    <tr>\n",
       "      <th>(0.534, 0.572]</th>\n",
       "      <td> 9.013542</td>\n",
       "      <td> 0.227947</td>\n",
       "      <td> 0.678608</td>\n",
       "      <td> 0.547801</td>\n",
       "      <td>  0.006292</td>\n",
       "      <td> 0.001949</td>\n",
       "      <td>   0.0063+/-0.0019</td>\n",
       "    </tr>\n",
       "    <tr>\n",
       "      <th>(0.572, 0.61]</th>\n",
       "      <td> 9.387914</td>\n",
       "      <td> 0.178770</td>\n",
       "      <td> 0.682912</td>\n",
       "      <td> 0.583291</td>\n",
       "      <td>  0.000203</td>\n",
       "      <td> 0.000145</td>\n",
       "      <td> 0.00020+/-0.00015</td>\n",
       "    </tr>\n",
       "  </tbody>\n",
       "</table>\n",
       "<p>29 rows × 7 columns</p>\n",
       "</div>"
      ],
      "text/plain": [
       "                            mass        xF        xB        xT     counts  \\\n",
       "target xT                                                                   \n",
       "LD2    (0.0831, 0.121]  4.466603  0.829912  0.860121  0.109413   2.423741   \n",
       "       (0.121, 0.159]   4.847681  0.733535  0.791654  0.140688  14.039959   \n",
       "       (0.159, 0.196]   5.312684  0.661438  0.749232  0.177625  17.990116   \n",
       "       (0.196, 0.234]   5.780160  0.609273  0.726255  0.215047  13.391880   \n",
       "       (0.234, 0.271]   6.214779  0.562425  0.710093  0.252585   8.866662   \n",
       "       (0.271, 0.309]   6.611746  0.516707  0.696871  0.289872   5.759534   \n",
       "       (0.309, 0.347]   7.004704  0.474510  0.688319  0.327229   3.159964   \n",
       "       (0.347, 0.384]   7.359844  0.430838  0.680576  0.364565   1.746306   \n",
       "       (0.384, 0.422]   7.698437  0.386476  0.674047  0.401807   0.950115   \n",
       "       (0.422, 0.459]   8.062610  0.351639  0.675276  0.439079   0.440103   \n",
       "       (0.459, 0.497]   8.391746  0.313479  0.675716  0.475773   0.171563   \n",
       "       (0.497, 0.534]   8.820694  0.301161  0.693019  0.511595   0.047123   \n",
       "       (0.534, 0.572]   8.966345  0.220954  0.671643  0.546992   0.012634   \n",
       "       (0.572, 0.61]    9.011474  0.115075  0.640583  0.582819   0.001218   \n",
       "       (0.61, 0.647]    8.971350  0.023222  0.620964  0.623747   0.000112   \n",
       "LH2    (0.0831, 0.121]  4.459482  0.829646  0.859964  0.109251   0.874324   \n",
       "       (0.121, 0.159]   4.846420  0.733003  0.791222  0.140723   5.051992   \n",
       "       (0.159, 0.196]   5.310700  0.660508  0.748432  0.177559   6.667723   \n",
       "       (0.196, 0.234]   5.784064  0.609706  0.726655  0.215171   5.010626   \n",
       "       (0.234, 0.271]   6.217191  0.563817  0.711212  0.252412   3.502266   \n",
       "       (0.271, 0.309]   6.626871  0.519582  0.698862  0.289939   2.416324   \n",
       "       (0.309, 0.347]   7.006556  0.474627  0.688484  0.327396   1.573552   \n",
       "       (0.347, 0.384]   7.363348  0.430317  0.680297  0.364807   0.926570   \n",
       "       (0.384, 0.422]   7.706911  0.388296  0.675490  0.401692   0.477808   \n",
       "       (0.422, 0.459]   8.067682  0.353902  0.676984  0.438876   0.220933   \n",
       "       (0.459, 0.497]   8.406310  0.316819  0.678040  0.475467   0.102093   \n",
       "       (0.497, 0.534]   8.720069  0.273513  0.677591  0.511933   0.029660   \n",
       "       (0.534, 0.572]   9.013542  0.227947  0.678608  0.547801   0.006292   \n",
       "       (0.572, 0.61]    9.387914  0.178770  0.682912  0.583291   0.000203   \n",
       "\n",
       "                             unc         normcounts  \n",
       "target xT                                            \n",
       "LD2    (0.0831, 0.121]  0.068803        2.42+/-0.07  \n",
       "       (0.121, 0.159]   0.292692       14.04+/-0.29  \n",
       "       (0.159, 0.196]   0.396449         18.0+/-0.4  \n",
       "       (0.196, 0.234]   0.319694       13.39+/-0.32  \n",
       "       (0.234, 0.271]   0.226541        8.87+/-0.23  \n",
       "       (0.271, 0.309]   0.159535        5.76+/-0.16  \n",
       "       (0.309, 0.347]   0.097779        3.16+/-0.10  \n",
       "       (0.347, 0.384]   0.062929        1.75+/-0.06  \n",
       "       (0.384, 0.422]   0.041531        0.95+/-0.04  \n",
       "       (0.422, 0.459]   0.025905      0.440+/-0.026  \n",
       "       (0.459, 0.497]   0.014059      0.172+/-0.014  \n",
       "       (0.497, 0.534]   0.006395      0.047+/-0.006  \n",
       "       (0.534, 0.572]   0.003030    0.0126+/-0.0030  \n",
       "       (0.572, 0.61]    0.000652    0.0012+/-0.0007  \n",
       "       (0.61, 0.647]    0.000110  0.00011+/-0.00011  \n",
       "LH2    (0.0831, 0.121]  0.024876      0.874+/-0.025  \n",
       "       (0.121, 0.159]   0.105887        5.05+/-0.11  \n",
       "       (0.159, 0.196]   0.145431        6.67+/-0.15  \n",
       "       (0.196, 0.234]   0.118235        5.01+/-0.12  \n",
       "       (0.234, 0.271]   0.094862        3.50+/-0.09  \n",
       "       (0.271, 0.309]   0.067454        2.42+/-0.07  \n",
       "       (0.309, 0.347]   0.048333        1.57+/-0.05  \n",
       "       (0.347, 0.384]   0.034335      0.927+/-0.034  \n",
       "       (0.384, 0.422]   0.020486      0.478+/-0.020  \n",
       "       (0.422, 0.459]   0.012564      0.221+/-0.013  \n",
       "       (0.459, 0.497]   0.008194      0.102+/-0.008  \n",
       "       (0.497, 0.534]   0.004278      0.030+/-0.004  \n",
       "       (0.534, 0.572]   0.001949    0.0063+/-0.0019  \n",
       "       (0.572, 0.61]    0.000145  0.00020+/-0.00015  \n",
       "\n",
       "[29 rows x 7 columns]"
      ]
     },
     "execution_count": 100,
     "metadata": {},
     "output_type": "execute_result"
    }
   ],
   "source": [
    "means_df.ix[['LH2','LD2']]"
   ]
  },
  {
   "cell_type": "code",
   "execution_count": 10,
   "metadata": {
    "collapsed": false
   },
   "outputs": [],
   "source": [
    "emc_df, means_df = mc_emc_analysis(dimuon_df,5)"
   ]
  },
  {
   "cell_type": "code",
   "execution_count": 11,
   "metadata": {
    "collapsed": false
   },
   "outputs": [
    {
     "data": {
      "text/html": [
       "<div style=\"max-height:1000px;max-width:1500px;overflow:auto;\">\n",
       "<table border=\"1\" class=\"dataframe\">\n",
       "  <thead>\n",
       "    <tr style=\"text-align: right;\">\n",
       "      <th></th>\n",
       "      <th>xT</th>\n",
       "      <th>D/H</th>\n",
       "      <th>C/D</th>\n",
       "      <th>Fe/D</th>\n",
       "      <th>Fe/D(iso)</th>\n",
       "      <th>W/D</th>\n",
       "      <th>W/D(iso)</th>\n",
       "    </tr>\n",
       "    <tr>\n",
       "      <th>xT</th>\n",
       "      <th></th>\n",
       "      <th></th>\n",
       "      <th></th>\n",
       "      <th></th>\n",
       "      <th></th>\n",
       "      <th></th>\n",
       "      <th></th>\n",
       "    </tr>\n",
       "  </thead>\n",
       "  <tbody>\n",
       "    <tr>\n",
       "      <th>(0.0831, 0.196]</th>\n",
       "      <td> 0.1506871</td>\n",
       "      <td> 1.168+/-0.024</td>\n",
       "      <td> 0.916+/-0.019</td>\n",
       "      <td> 0.971+/-0.020</td>\n",
       "      <td> 0.961+/-0.020</td>\n",
       "      <td> 1.015+/-0.021</td>\n",
       "      <td> 0.987+/-0.022</td>\n",
       "    </tr>\n",
       "    <tr>\n",
       "      <th>(0.196, 0.309]</th>\n",
       "      <td> 0.2508888</td>\n",
       "      <td> 1.095+/-0.023</td>\n",
       "      <td> 0.948+/-0.021</td>\n",
       "      <td> 0.986+/-0.022</td>\n",
       "      <td> 0.980+/-0.022</td>\n",
       "      <td> 1.018+/-0.022</td>\n",
       "      <td> 1.001+/-0.024</td>\n",
       "    </tr>\n",
       "    <tr>\n",
       "      <th>(0.309, 0.422]</th>\n",
       "      <td> 0.3582112</td>\n",
       "      <td> 0.840+/-0.025</td>\n",
       "      <td> 0.954+/-0.030</td>\n",
       "      <td> 0.992+/-0.030</td>\n",
       "      <td> 1.006+/-0.032</td>\n",
       "      <td> 0.930+/-0.029</td>\n",
       "      <td> 0.967+/-0.034</td>\n",
       "    </tr>\n",
       "    <tr>\n",
       "      <th>(0.422, 0.534]</th>\n",
       "      <td> 0.4602627</td>\n",
       "      <td>   0.80+/-0.05</td>\n",
       "      <td>   0.86+/-0.06</td>\n",
       "      <td>   0.95+/-0.06</td>\n",
       "      <td>   0.96+/-0.07</td>\n",
       "      <td>   0.80+/-0.05</td>\n",
       "      <td>   0.85+/-0.06</td>\n",
       "    </tr>\n",
       "    <tr>\n",
       "      <th>(0.534, 0.647]</th>\n",
       "      <td> 0.5523706</td>\n",
       "      <td>   0.92+/-0.34</td>\n",
       "      <td>   0.89+/-0.33</td>\n",
       "      <td>   0.91+/-0.28</td>\n",
       "      <td>   0.92+/-0.29</td>\n",
       "      <td>     1.2+/-0.5</td>\n",
       "      <td>     1.3+/-0.6</td>\n",
       "    </tr>\n",
       "  </tbody>\n",
       "</table>\n",
       "<p>5 rows × 7 columns</p>\n",
       "</div>"
      ],
      "text/plain": [
       "                        xT            D/H            C/D           Fe/D  \\\n",
       "xT                                                                        \n",
       "(0.0831, 0.196]  0.1506871  1.168+/-0.024  0.916+/-0.019  0.971+/-0.020   \n",
       "(0.196, 0.309]   0.2508888  1.095+/-0.023  0.948+/-0.021  0.986+/-0.022   \n",
       "(0.309, 0.422]   0.3582112  0.840+/-0.025  0.954+/-0.030  0.992+/-0.030   \n",
       "(0.422, 0.534]   0.4602627    0.80+/-0.05    0.86+/-0.06    0.95+/-0.06   \n",
       "(0.534, 0.647]   0.5523706    0.92+/-0.34    0.89+/-0.33    0.91+/-0.28   \n",
       "\n",
       "                     Fe/D(iso)            W/D       W/D(iso)  \n",
       "xT                                                            \n",
       "(0.0831, 0.196]  0.961+/-0.020  1.015+/-0.021  0.987+/-0.022  \n",
       "(0.196, 0.309]   0.980+/-0.022  1.018+/-0.022  1.001+/-0.024  \n",
       "(0.309, 0.422]   1.006+/-0.032  0.930+/-0.029  0.967+/-0.034  \n",
       "(0.422, 0.534]     0.96+/-0.07    0.80+/-0.05    0.85+/-0.06  \n",
       "(0.534, 0.647]     0.92+/-0.29      1.2+/-0.5      1.3+/-0.6  \n",
       "\n",
       "[5 rows x 7 columns]"
      ]
     },
     "execution_count": 11,
     "metadata": {},
     "output_type": "execute_result"
    }
   ],
   "source": [
    "emc_df"
   ]
  },
  {
   "cell_type": "code",
   "execution_count": 15,
   "metadata": {
    "collapsed": false
   },
   "outputs": [],
   "source": [
    "bin_edges = [0.08, 0.14, 0.16, 0.18, 0.21, 0.25, 0.31, 0.53]\n",
    "bin_centers = emc_df['xT'].values\n",
    "lower_val = np.subtract(bin_centers,bin_edges[:-1])\n",
    "upper_val = np.subtract(bin_edges[1:], bin_centers)\n",
    "asymmetric_bars = [lower_val, upper_val]"
   ]
  },
  {
   "cell_type": "code",
   "execution_count": 12,
   "metadata": {
    "collapsed": false
   },
   "outputs": [],
   "source": [
    "bin_centers = emc_df['xT'].values"
   ]
  },
  {
   "cell_type": "code",
   "execution_count": 13,
   "metadata": {
    "collapsed": false
   },
   "outputs": [],
   "source": [
    "# Store the E772 results\n",
    "e772_dict = {}\n",
    "# DY Ratio for C/D vrs Xtgt - E772\n",
    "# --------------------------------\n",
    "e772_dict['C/D'] = {}\n",
    "e772_dict['C/D']['bin_centers'] = [0.041, 0.062, 0.087, 0.111, 0.136, 0.161, 0.186, 0.216, 0.269]\n",
    "e772_dict['C/D']['uratio'] = unp.uarray([0.981, 0.974, 1.013, 1.011, 0.979, 1.049, 1.117, 1.151, 1.044],\n",
    "                                        [0.017, 0.014, 0.016, 0.020, 0.027, 0.044, 0.074, 0.110, 0.202])\n",
    "\n",
    "# DY Ratio for Fe/D vrs Xtgt - E772\n",
    "# --------------------------------\n",
    "e772_dict['Fe/D'] = {}\n",
    "e772_dict['Fe/D']['bin_centers'] = [0.041, 0.062, 0.087, 0.111, 0.136, 0.161, 0.186, 0.219, 0.271]\n",
    "e772_dict['Fe/D']['uratio'] = unp.uarray([0.954, 0.976, 1.009, 0.992, 0.984, 1.009, 0.953, 1.016, 0.984],\n",
    "                                         [0.014, 0.011, 0.012, 0.014, 0.018, 0.027, 0.037, 0.050, 0.088])\n",
    "\n",
    "# DY Ratio for W/D vrs Xtgt - E772\n",
    "# --------------------------------\n",
    "e772_dict['W/D'] = {}\n",
    "e772_dict['W/D']['bin_centers'] = [0.041, 0.062, 0.087, 0.111, 0.136, 0.161, 0.186, 0.216, 0.269]\n",
    "e772_dict['W/D']['uratio'] = unp.uarray([0.954, 0.976, 1.009, 0.992, 0.984, 1.009, 0.953, 1.016, 0.984],\n",
    "                                         [0.016, 0.013, 0.016, 0.020, 0.026, 0.043, 0.067, 0.099, 0.192])"
   ]
  },
  {
   "cell_type": "code",
   "execution_count": 14,
   "metadata": {
    "collapsed": false
   },
   "outputs": [],
   "source": [
    "title_string = r'$\\frac{Yield_{%s}}{s \\cdot \\rho_{%s} \\cdot L_{%s} \\cdot A_{%s}}$ / ' + \\\n",
    "          r'$\\frac{Yield_{%s}}{s \\cdot \\rho_{%s} \\cdot L_{%s} \\cdot A_{%s}}$'"
   ]
  },
  {
   "cell_type": "code",
   "execution_count": 15,
   "metadata": {
    "collapsed": false
   },
   "outputs": [
    {
     "data": {
      "image/png": "[encoded data removed]",
      "text/plain": [
       "<matplotlib.figure.Figure at 0x7f08b856f890>"
      ]
     },
     "metadata": {},
     "output_type": "display_data"
    }
   ],
   "source": [
    "fig, ax = plt.subplots()\n",
    "\n",
    "target2 = 'D'\n",
    "target1 = 'H'\n",
    "\n",
    "ax.errorbar(bin_centers, unp.nominal_values(emc_df['D/H'].values),\n",
    "             yerr=unp.std_devs(emc_df['D/H'].values),\n",
    "             fmt='o', color='red', label='SeaQuest ' + target2 + '/' + target1)\n",
    "\n",
    "ax.set_xlabel(r'$x_T$', fontsize=25)\n",
    "ax.set_ylabel(r'$R \\left(\\frac{' + target2 + r'}{' + target1 + r'}\\right)$', fontsize=25, rotation=0, labelpad=30)\n",
    "ax.set_title(title_string % (target2, target2, target2, target2, target1, target1, target1, target1),\n",
    "          fontsize=16, y=1.05)\n",
    "\n",
    "# position bottom right\n",
    "fig.text(0.95, 0.05, 'SeaQuest Preview',\n",
    "         fontsize=50, color='blue',\n",
    "         position=(0.3, 0.2), alpha=0.2)\n",
    "\n",
    "#ax.subplots_adjust(top=0.85)\n",
    "ax.axhline(y=1, c='red', linewidth=0.5)\n",
    "plt.setp(ax.get_xticklabels(), fontsize=15)\n",
    "plt.setp(ax.get_yticklabels(), fontsize=15)\n",
    "ax.axis((0.05, 0.65, 0.4, 1.5))\n",
    "ax.legend(loc='best', fontsize=17)\n",
    "# plt.savefig(target1 + \"-\" + target2 + \".pdf\")\n",
    "\n",
    "plt.show()"
   ]
  },
  {
   "cell_type": "code",
   "execution_count": 115,
   "metadata": {
    "collapsed": false
   },
   "outputs": [
    {
     "data": {
      "image/png": "[encoded data removed]",
      "text/plain": [
       "<matplotlib.figure.Figure at 0x7ff9d8394ed0>"
      ]
     },
     "metadata": {},
     "output_type": "display_data"
    }
   ],
   "source": [
    "fig, ax = plt.subplots()\n",
    "\n",
    "target2 = 'C'\n",
    "target1 = 'D'\n",
    "\n",
    "ax.errorbar(e772_dict['C/D']['bin_centers'], unp.nominal_values(e772_dict['C/D']['uratio']),\n",
    "            unp.std_devs(e772_dict['C/D']['uratio']), fmt='^', color='black', label='E-772 C/D') \n",
    "ax.errorbar(bin_centers, unp.nominal_values(emc_df['C/D'].values),\n",
    "            yerr=unp.std_devs(emc_df['C/D'].values),\n",
    "            fmt='o', color='red', label='SeaQuest C/D')\n",
    "\n",
    "ax.set_xlabel(r'$x_T$', fontsize=25)\n",
    "ax.set_ylabel(r'$R \\left(\\frac{' + target2 + r'}{' + target1 + r'}\\right)$', fontsize=25, rotation=0, labelpad=30)\n",
    "ax.set_title(title_string % (target2, target2, target2, target2, target1, target1, target1, target1),\n",
    "          fontsize=16, y=1.05)\n",
    "\n",
    "# position bottom right\n",
    "fig.text(0.95, 0.05, 'SeaQuest Preview',\n",
    "         fontsize=50, color='blue',\n",
    "         position=(0.3, 0.2), alpha=0.2)\n",
    "\n",
    "#ax.subplots_adjust(top=0.85)\n",
    "ax.axhline(y=1, c='red', linewidth=0.5)\n",
    "plt.setp(ax.get_xticklabels(), fontsize=15)\n",
    "plt.setp(ax.get_yticklabels(), fontsize=15)\n",
    "ax.axis((0, 0.5, 0.7, 1.3))\n",
    "ax.legend(loc='best', fontsize=17)\n",
    "# plt.savefig(target1 + \"-\" + target2 + \".pdf\")\n",
    "\n",
    "plt.show()"
   ]
  },
  {
   "cell_type": "code",
   "execution_count": 117,
   "metadata": {
    "collapsed": false
   },
   "outputs": [
    {
     "data": {
      "image/png": "[encoded data removed]",
      "text/plain": [
       "<matplotlib.figure.Figure at 0x7ff9d8174490>"
      ]
     },
     "metadata": {},
     "output_type": "display_data"
    }
   ],
   "source": [
    "fig, ax = plt.subplots()\n",
    "\n",
    "target2 = 'Fe'\n",
    "target1 = 'D'\n",
    "\n",
    "ax.errorbar(e772_dict['Fe/D']['bin_centers'], unp.nominal_values(e772_dict['Fe/D']['uratio']),\n",
    "            unp.std_devs(e772_dict['Fe/D']['uratio']), fmt='^', color='black', label='E-772 Fe/D') \n",
    "ax.errorbar(bin_centers, unp.nominal_values(emc_df['Fe/D(iso)'].values),\n",
    "             yerr=unp.std_devs(emc_df['Fe/D(iso)'].values), fmt='o', color='red', label='SeaQuest Fe/D')\n",
    "\n",
    "ax.set_xlabel(r'$x_T$', fontsize=25)\n",
    "ax.set_ylabel(r'$R \\left(\\frac{' + target2 + r'}{' + target1 + r'}\\right)$', fontsize=25, rotation=0, labelpad=30)\n",
    "ax.set_title(title_string % (target2, target2, target2, target2, target1, target1, target1, target1),\n",
    "          fontsize=16, y=1.05)\n",
    "\n",
    "# position bottom right\n",
    "fig.text(0.95, 0.05, 'SeaQuest Preview',\n",
    "         fontsize=50, color='blue',\n",
    "         position=(0.3, 0.2), alpha=0.2)\n",
    "\n",
    "#ax.subplots_adjust(top=0.85)\n",
    "ax.axhline(y=1, c='red', linewidth=0.5)\n",
    "plt.setp(ax.get_xticklabels(), fontsize=15)\n",
    "plt.setp(ax.get_yticklabels(), fontsize=15)\n",
    "ax.axis((0.0, 0.65, 0.7, 1.3))\n",
    "ax.legend(loc='best', fontsize=17)\n",
    "# plt.savefig(target1 + \"-\" + target2 + \".pdf\")\n",
    "\n",
    "plt.show()"
   ]
  },
  {
   "cell_type": "code",
   "execution_count": 118,
   "metadata": {
    "collapsed": false
   },
   "outputs": [
    {
     "data": {
      "image/png": "[encoded data removed]",
      "text/plain": [
       "<matplotlib.figure.Figure at 0x7ff9d8264390>"
      ]
     },
     "metadata": {},
     "output_type": "display_data"
    }
   ],
   "source": [
    "fig, ax = plt.subplots()\n",
    "\n",
    "target2 = 'W'\n",
    "target1 = 'D'\n",
    "\n",
    "ax.errorbar(e772_dict['W/D']['bin_centers'], unp.nominal_values(e772_dict['W/D']['uratio']),\n",
    "            unp.std_devs(e772_dict['W/D']['uratio']), fmt='^', color='black', label='E-772 W/D') \n",
    "ax.errorbar(bin_centers, unp.nominal_values(emc_df['W/D(iso)'].values),\n",
    "             yerr=unp.std_devs(emc_df['W/D(iso)'].values), fmt='o', color='red', label='SeaQuest W/D')\n",
    "\n",
    "ax.set_xlabel(r'$x_T$', fontsize=25)\n",
    "ax.set_ylabel(r'$R \\left(\\frac{' + target2 + r'}{' + target1 + r'}\\right)$', fontsize=25, rotation=0, labelpad=30)\n",
    "#ax.set_title(title_string % (target2, target2, target2, target2, target1, target1, target1, target1),\n",
    "#          fontsize=16, y=1.05)\n",
    "\n",
    "# position bottom right\n",
    "fig.text(0.95, 0.05, 'SeaQuest Preview',\n",
    "         fontsize=50, color='blue',\n",
    "         position=(0.3, 0.2), alpha=0.2)\n",
    "\n",
    "#ax.subplots_adjust(top=0.85)\n",
    "ax.axhline(y=1, c='red', linewidth=0.5)\n",
    "plt.setp(ax.get_xticklabels(), fontsize=15)\n",
    "plt.setp(ax.get_yticklabels(), fontsize=15)\n",
    "ax.axis((0, 0.65, 0.8, 1.2))\n",
    "ax.legend(loc='best', fontsize=17)\n",
    "# plt.savefig(target1 + \"-\" + target2 + \".pdf\")\n",
    "\n",
    "plt.show()"
   ]
  },
  {
   "cell_type": "code",
   "execution_count": 17,
   "metadata": {
    "collapsed": false
   },
   "outputs": [
    {
     "data": {
      "image/png": "[encoded data removed]",
      "text/plain": [
       "<matplotlib.figure.Figure at 0x7f08b84137d0>"
      ]
     },
     "metadata": {},
     "output_type": "display_data"
    }
   ],
   "source": [
    "f, (ax1, ax2, ax3) = plt.subplots(1, 3, sharex=True, sharey=True, figsize=(19,7))\n",
    "\n",
    "\n",
    "ax1.set_title('C/D', fontsize=28)\n",
    "ax1.errorbar(e772_dict['C/D']['bin_centers'], unp.nominal_values(e772_dict['C/D']['uratio']),\n",
    "            unp.std_devs(e772_dict['C/D']['uratio']), fmt='s', ms=11, elinewidth=2.5, color='black', label='E-772 C/D') \n",
    "ax1.errorbar(bin_centers, unp.nominal_values(emc_df['C/D'].values),\n",
    "             yerr=unp.std_devs(emc_df['C/D'].values),\n",
    "             fmt='o', ms=11, elinewidth=2.5, color='red', label='SeaQuest C/D')\n",
    "ax1.axhline(y=1, c='black', ls='--', linewidth=1.5)\n",
    "ax1.set_ylabel(r'$\\boldsymbol{R \\left(\\frac{A}{D}\\right)}$', fontsize=30, rotation=0, labelpad=35)\n",
    "plt.setp(ax1.get_xticklabels(), fontsize=23)\n",
    "plt.setp(ax1.get_yticklabels(), fontsize=23)\n",
    "\n",
    "ax2.set_title('Fe/D', fontsize=28)\n",
    "ax2.errorbar(e772_dict['Fe/D']['bin_centers'], unp.nominal_values(e772_dict['Fe/D']['uratio']),\n",
    "            unp.std_devs(e772_dict['Fe/D']['uratio']), fmt='s', ms=11, elinewidth=2.5, color='black', label='E-772 Fe/D') \n",
    "ax2.errorbar(bin_centers, unp.nominal_values(emc_df['Fe/D(iso)'].values),\n",
    "             yerr=unp.std_devs(emc_df['Fe/D(iso)'].values),\n",
    "             fmt='o', ms=11, elinewidth=2.5, color='red', label='SeaQuest Fe/D')\n",
    "ax2.set_xlabel(r'$\\boldsymbol{x_T}$', fontsize=35)\n",
    "ax2.axhline(y=1, c='black', ls='--', linewidth=1.5)\n",
    "plt.setp(ax2.get_xticklabels(), fontsize=23)\n",
    "\n",
    "ax3.set_title('W/D', fontsize=28)\n",
    "ax3.errorbar(bin_centers, unp.nominal_values(emc_df['W/D(iso)'].values),\n",
    "             yerr=unp.std_devs(emc_df['W/D(iso)'].values), \n",
    "             fmt='o', ms=11, elinewidth=2.5, color='red', label='kTracked MC')\n",
    "ax3.errorbar(e772_dict['W/D']['bin_centers'], unp.nominal_values(e772_dict['W/D']['uratio']),\n",
    "            unp.std_devs(e772_dict['W/D']['uratio']), fmt='s', ms=11, elinewidth=2.5, color='black', label='E-772') \n",
    "ax3.axhline(y=1, c='black', ls='--', linewidth=1.5)\n",
    "ax3.legend(loc='best', fontsize=22, numpoints=1)\n",
    "plt.setp(ax3.get_xticklabels(), fontsize=23)\n",
    "\n",
    "xtick_locs = [0.0, 0.1, 0.2, 0.3, 0.4, 0.5]\n",
    "ytick_locs = [0.8, 0.9, 1.0, 1.1, 1.2, 1.3]\n",
    "plt.xticks(xtick_locs, [r\"$\\mathbf{%.1f}$\" % x for x in xtick_locs]) \n",
    "plt.yticks(ytick_locs, [r\"$\\mathbf{%.1f}$\" % x for x in ytick_locs]) \n",
    "\n",
    "ax3.axis((0, 0.654, 0.75, 1.3))\n",
    "\n",
    "plt.tight_layout()\n",
    "plt.setp([a.get_yticklabels() for a in f.axes[1:]], visible=False)\n",
    "plt.setp([a.get_xticklines() for a in f.axes[:]], lw=20)\n",
    "plt.show()"
   ]
  },
  {
   "cell_type": "code",
   "execution_count": null,
   "metadata": {
    "collapsed": false
   },
   "outputs": [],
   "source": []
  }
 ],
 "metadata": {
  "kernelspec": {
   "display_name": "Python 2",
   "language": "python",
   "name": "python2"
  },
  "language_info": {
   "codemirror_mode": {
    "name": "ipython",
    "version": 2
   },
   "file_extension": ".py",
   "mimetype": "text/x-python",
   "name": "python",
   "nbconvert_exporter": "python",
   "pygments_lexer": "ipython2",
   "version": "2.7.6"
  }
 },
 "nbformat": 4,
 "nbformat_minor": 0
}
