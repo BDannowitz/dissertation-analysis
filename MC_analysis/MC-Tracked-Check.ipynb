{
 "cells": [
  {
   "cell_type": "code",
   "execution_count": 1,
   "metadata": {
    "collapsed": false
   },
   "outputs": [],
   "source": [
    "%load_ext autoreload"
   ]
  },
  {
   "cell_type": "code",
   "execution_count": 2,
   "metadata": {
    "collapsed": false
   },
   "outputs": [],
   "source": [
    "%matplotlib inline\n",
    "import matplotlib.pyplot as plt\n",
    "import matplotlib.pylab as pylab\n",
    "import uncertainties as unc\n",
    "from uncertainties import unumpy as unp\n",
    "import numpy as np\n",
    "from sys import path\n",
    "import pandas as pd\n",
    "\n",
    "path.append('../pylib')\n",
    "path.append('..')\n",
    "from emc import *\n",
    "from targets import mc_target_df\n",
    "\n",
    "%autoreload 2\n",
    "%aimport emc"
   ]
  },
  {
   "cell_type": "code",
   "execution_count": 4,
   "metadata": {
    "collapsed": false
   },
   "outputs": [],
   "source": [
    "server = 'seaquel.physics.illinois.edu'\n",
    "analysis_schema = 'user_dannowitz_mc_tracked'\n",
    "mc_schema_list = ['mc_drellyan_LH2_M013_S002',\n",
    "                  'mc_drellyan_LD2_M013_S002',\n",
    "                  'mc_drellyan_C_M013_S002']\n",
    "analysis_table = 'mc_tracked_analysis'\n",
    "fresh_start = False\n",
    "#fresh_start = True"
   ]
  },
  {
   "cell_type": "code",
   "execution_count": 5,
   "metadata": {
    "collapsed": false
   },
   "outputs": [],
   "source": [
    "dimuon_df = get_dimuon_df(server=server, \n",
    "                          analysis_schema=analysis_schema, \n",
    "                          source_schema_list=mc_schema_list,\n",
    "                          analysis_table=analysis_table,\n",
    "                          fresh_start=fresh_start,\n",
    "                          tracked_mc=True)"
   ]
  },
  {
   "cell_type": "code",
   "execution_count": 6,
   "metadata": {
    "collapsed": false
   },
   "outputs": [
    {
     "data": {
      "text/html": [
       "<div>\n",
       "<table border=\"1\" class=\"dataframe\">\n",
       "  <thead>\n",
       "    <tr style=\"text-align: right;\">\n",
       "      <th></th>\n",
       "      <th>dx</th>\n",
       "      <th>dy</th>\n",
       "      <th>dz</th>\n",
       "      <th>dpx</th>\n",
       "      <th>dpy</th>\n",
       "      <th>dpz</th>\n",
       "      <th>mass</th>\n",
       "      <th>xF</th>\n",
       "      <th>xB</th>\n",
       "      <th>xT</th>\n",
       "      <th>...</th>\n",
       "      <th>px2</th>\n",
       "      <th>py2</th>\n",
       "      <th>pz2</th>\n",
       "      <th>targetPos</th>\n",
       "      <th>weight</th>\n",
       "      <th>dpt</th>\n",
       "      <th>pt1</th>\n",
       "      <th>pt2</th>\n",
       "      <th>target</th>\n",
       "      <th>weight_sq</th>\n",
       "    </tr>\n",
       "  </thead>\n",
       "  <tbody>\n",
       "    <tr>\n",
       "      <th>0</th>\n",
       "      <td>0.492204</td>\n",
       "      <td>-0.283410</td>\n",
       "      <td>-167.290474</td>\n",
       "      <td>0.472603</td>\n",
       "      <td>1.118025</td>\n",
       "      <td>86.463378</td>\n",
       "      <td>7.748206</td>\n",
       "      <td>0.465411</td>\n",
       "      <td>0.717875</td>\n",
       "      <td>0.378281</td>\n",
       "      <td>...</td>\n",
       "      <td>-2.960150</td>\n",
       "      <td>1.575561</td>\n",
       "      <td>64.140088</td>\n",
       "      <td>1</td>\n",
       "      <td>0.000021</td>\n",
       "      <td>1.213809</td>\n",
       "      <td>3.463111</td>\n",
       "      <td>3.353339</td>\n",
       "      <td>LH2</td>\n",
       "      <td>4.376284e-10</td>\n",
       "    </tr>\n",
       "    <tr>\n",
       "      <th>1</th>\n",
       "      <td>-0.141913</td>\n",
       "      <td>-0.465873</td>\n",
       "      <td>-159.622676</td>\n",
       "      <td>0.735936</td>\n",
       "      <td>-0.343088</td>\n",
       "      <td>87.875972</td>\n",
       "      <td>5.427140</td>\n",
       "      <td>0.630209</td>\n",
       "      <td>0.728035</td>\n",
       "      <td>0.183911</td>\n",
       "      <td>...</td>\n",
       "      <td>-0.962435</td>\n",
       "      <td>-2.455897</td>\n",
       "      <td>53.065765</td>\n",
       "      <td>1</td>\n",
       "      <td>0.000258</td>\n",
       "      <td>0.811980</td>\n",
       "      <td>2.710798</td>\n",
       "      <td>2.637747</td>\n",
       "      <td>LH2</td>\n",
       "      <td>6.676547e-08</td>\n",
       "    </tr>\n",
       "    <tr>\n",
       "      <th>2</th>\n",
       "      <td>0.335350</td>\n",
       "      <td>0.208475</td>\n",
       "      <td>-139.389786</td>\n",
       "      <td>-0.180593</td>\n",
       "      <td>-1.336224</td>\n",
       "      <td>92.778198</td>\n",
       "      <td>5.450138</td>\n",
       "      <td>0.679596</td>\n",
       "      <td>0.768558</td>\n",
       "      <td>0.182537</td>\n",
       "      <td>...</td>\n",
       "      <td>-2.695914</td>\n",
       "      <td>-0.907887</td>\n",
       "      <td>61.411165</td>\n",
       "      <td>1</td>\n",
       "      <td>0.000135</td>\n",
       "      <td>1.348373</td>\n",
       "      <td>2.551531</td>\n",
       "      <td>2.844681</td>\n",
       "      <td>LH2</td>\n",
       "      <td>1.822526e-08</td>\n",
       "    </tr>\n",
       "    <tr>\n",
       "      <th>3</th>\n",
       "      <td>0.149769</td>\n",
       "      <td>0.241947</td>\n",
       "      <td>-193.851255</td>\n",
       "      <td>1.012935</td>\n",
       "      <td>-0.250931</td>\n",
       "      <td>79.677556</td>\n",
       "      <td>4.225663</td>\n",
       "      <td>0.581507</td>\n",
       "      <td>0.659812</td>\n",
       "      <td>0.128243</td>\n",
       "      <td>...</td>\n",
       "      <td>-1.332268</td>\n",
       "      <td>-0.836445</td>\n",
       "      <td>48.270456</td>\n",
       "      <td>1</td>\n",
       "      <td>0.001447</td>\n",
       "      <td>1.043553</td>\n",
       "      <td>2.417189</td>\n",
       "      <td>1.573079</td>\n",
       "      <td>LH2</td>\n",
       "      <td>2.092633e-06</td>\n",
       "    </tr>\n",
       "    <tr>\n",
       "      <th>4</th>\n",
       "      <td>0.164867</td>\n",
       "      <td>0.033036</td>\n",
       "      <td>-108.346786</td>\n",
       "      <td>0.658107</td>\n",
       "      <td>0.327504</td>\n",
       "      <td>100.573837</td>\n",
       "      <td>6.581773</td>\n",
       "      <td>0.747115</td>\n",
       "      <td>0.833416</td>\n",
       "      <td>0.233660</td>\n",
       "      <td>...</td>\n",
       "      <td>-2.124008</td>\n",
       "      <td>-0.469705</td>\n",
       "      <td>78.306586</td>\n",
       "      <td>1</td>\n",
       "      <td>0.000007</td>\n",
       "      <td>0.735094</td>\n",
       "      <td>2.894081</td>\n",
       "      <td>2.175324</td>\n",
       "      <td>LH2</td>\n",
       "      <td>5.459304e-11</td>\n",
       "    </tr>\n",
       "  </tbody>\n",
       "</table>\n",
       "<p>5 rows × 27 columns</p>\n",
       "</div>"
      ],
      "text/plain": [
       "         dx        dy          dz       dpx       dpy         dpz      mass  \\\n",
       "0  0.492204 -0.283410 -167.290474  0.472603  1.118025   86.463378  7.748206   \n",
       "1 -0.141913 -0.465873 -159.622676  0.735936 -0.343088   87.875972  5.427140   \n",
       "2  0.335350  0.208475 -139.389786 -0.180593 -1.336224   92.778198  5.450138   \n",
       "3  0.149769  0.241947 -193.851255  1.012935 -0.250931   79.677556  4.225663   \n",
       "4  0.164867  0.033036 -108.346786  0.658107  0.327504  100.573837  6.581773   \n",
       "\n",
       "         xF        xB        xT      ...            px2       py2        pz2  \\\n",
       "0  0.465411  0.717875  0.378281      ...      -2.960150  1.575561  64.140088   \n",
       "1  0.630209  0.728035  0.183911      ...      -0.962435 -2.455897  53.065765   \n",
       "2  0.679596  0.768558  0.182537      ...      -2.695914 -0.907887  61.411165   \n",
       "3  0.581507  0.659812  0.128243      ...      -1.332268 -0.836445  48.270456   \n",
       "4  0.747115  0.833416  0.233660      ...      -2.124008 -0.469705  78.306586   \n",
       "\n",
       "   targetPos    weight       dpt       pt1       pt2  target     weight_sq  \n",
       "0          1  0.000021  1.213809  3.463111  3.353339     LH2  4.376284e-10  \n",
       "1          1  0.000258  0.811980  2.710798  2.637747     LH2  6.676547e-08  \n",
       "2          1  0.000135  1.348373  2.551531  2.844681     LH2  1.822526e-08  \n",
       "3          1  0.001447  1.043553  2.417189  1.573079     LH2  2.092633e-06  \n",
       "4          1  0.000007  0.735094  2.894081  2.175324     LH2  5.459304e-11  \n",
       "\n",
       "[5 rows x 27 columns]"
      ]
     },
     "execution_count": 6,
     "metadata": {},
     "output_type": "execute_result"
    }
   ],
   "source": [
    "dimuon_df.head()"
   ]
  },
  {
   "cell_type": "code",
   "execution_count": 7,
   "metadata": {
    "collapsed": true
   },
   "outputs": [],
   "source": [
    "dimuon_df.to_csv('dimuon_tracked_mc_M013_S002.tsv', sep='\\t')"
   ]
  },
  {
   "cell_type": "code",
   "execution_count": null,
   "metadata": {
    "collapsed": true
   },
   "outputs": [],
   "source": [
    "dimuon_df = pd.read_csv('dimuon_mc_M013_S002.tsv', sep='\\t', index_col='Unnamed: 0')"
   ]
  },
  {
   "cell_type": "code",
   "execution_count": 16,
   "metadata": {
    "collapsed": false
   },
   "outputs": [
    {
     "data": {
      "text/plain": [
       "[0.08, 0.16, 0.24, 0.32, 0.4, 0.48, 0.56]"
      ]
     },
     "execution_count": 16,
     "metadata": {},
     "output_type": "execute_result"
    }
   ],
   "source": [
    "#bin_edges = [0.08, 0.14, 0.16, 0.18, 0.21, 0.25, 0.31, 0.53]\n",
    "bin_edges = [i*0.08 for i in range(1,8)]; bin_edges"
   ]
  },
  {
   "cell_type": "code",
   "execution_count": 113,
   "metadata": {
    "collapsed": false
   },
   "outputs": [],
   "source": [
    "emc_df, means_list, means_df = emc_analysis(dimuon_df,\n",
    "                                            None,\n",
    "                                            (),\n",
    "                                            bin_edges,\n",
    "                                            qie_correction=False,\n",
    "                                            tracked_mc=True)"
   ]
  },
  {
   "cell_type": "code",
   "execution_count": 114,
   "metadata": {
    "collapsed": false
   },
   "outputs": [
    {
     "data": {
      "text/html": [
       "<div>\n",
       "<table border=\"1\" class=\"dataframe\">\n",
       "  <thead>\n",
       "    <tr style=\"text-align: right;\">\n",
       "      <th></th>\n",
       "      <th>xT</th>\n",
       "      <th>D/H</th>\n",
       "      <th>C/D</th>\n",
       "      <th>C/H</th>\n",
       "    </tr>\n",
       "  </thead>\n",
       "  <tbody>\n",
       "    <tr>\n",
       "      <th>(0.08, 0.16]</th>\n",
       "      <td>0.134+/-0.017</td>\n",
       "      <td>1.202+/-0.015</td>\n",
       "      <td>1.007+/-0.012</td>\n",
       "      <td>1.210+/-0.015</td>\n",
       "    </tr>\n",
       "    <tr>\n",
       "      <th>(0.16, 0.24]</th>\n",
       "      <td>0.200+/-0.023</td>\n",
       "      <td>1.186+/-0.011</td>\n",
       "      <td>0.993+/-0.010</td>\n",
       "      <td>1.178+/-0.011</td>\n",
       "    </tr>\n",
       "    <tr>\n",
       "      <th>(0.24, 0.32]</th>\n",
       "      <td>0.279+/-0.023</td>\n",
       "      <td>1.031+/-0.011</td>\n",
       "      <td>0.983+/-0.010</td>\n",
       "      <td>1.013+/-0.011</td>\n",
       "    </tr>\n",
       "    <tr>\n",
       "      <th>(0.32, 0.40]</th>\n",
       "      <td>0.358+/-0.023</td>\n",
       "      <td>0.872+/-0.011</td>\n",
       "      <td>0.964+/-0.012</td>\n",
       "      <td>0.840+/-0.010</td>\n",
       "    </tr>\n",
       "    <tr>\n",
       "      <th>(0.40, 0.48]</th>\n",
       "      <td>0.436+/-0.023</td>\n",
       "      <td>0.733+/-0.012</td>\n",
       "      <td>0.959+/-0.016</td>\n",
       "      <td>0.703+/-0.012</td>\n",
       "    </tr>\n",
       "    <tr>\n",
       "      <th>(0.48, 0.56]</th>\n",
       "      <td>0.513+/-0.022</td>\n",
       "      <td>0.702+/-0.019</td>\n",
       "      <td>0.966+/-0.027</td>\n",
       "      <td>0.678+/-0.019</td>\n",
       "    </tr>\n",
       "  </tbody>\n",
       "</table>\n",
       "</div>"
      ],
      "text/plain": [
       "                         xT            D/H            C/D            C/H\n",
       "(0.08, 0.16]  0.134+/-0.017  1.202+/-0.015  1.007+/-0.012  1.210+/-0.015\n",
       "(0.16, 0.24]  0.200+/-0.023  1.186+/-0.011  0.993+/-0.010  1.178+/-0.011\n",
       "(0.24, 0.32]  0.279+/-0.023  1.031+/-0.011  0.983+/-0.010  1.013+/-0.011\n",
       "(0.32, 0.40]  0.358+/-0.023  0.872+/-0.011  0.964+/-0.012  0.840+/-0.010\n",
       "(0.40, 0.48]  0.436+/-0.023  0.733+/-0.012  0.959+/-0.016  0.703+/-0.012\n",
       "(0.48, 0.56]  0.513+/-0.022  0.702+/-0.019  0.966+/-0.027  0.678+/-0.019"
      ]
     },
     "execution_count": 114,
     "metadata": {},
     "output_type": "execute_result"
    }
   ],
   "source": [
    "emc_df"
   ]
  },
  {
   "cell_type": "code",
   "execution_count": 115,
   "metadata": {
    "collapsed": true
   },
   "outputs": [],
   "source": [
    "emc_df.to_csv('emc_tracked_mc_M013_S002.tsv', sep='\\t')"
   ]
  },
  {
   "cell_type": "code",
   "execution_count": 46,
   "metadata": {
    "collapsed": false
   },
   "outputs": [],
   "source": [
    "emc_df = pd.read_csv('emc_mc_M013_S002.tsv', sep='\\t',\n",
    "                     index_col='Unnamed: 0')\n",
    "emc_df[['C/D', 'C/H', 'D/H']] = emc_df[['C/D', 'C/H', 'D/H']].applymap(unc.ufloat_fromstr)"
   ]
  },
  {
   "cell_type": "code",
   "execution_count": 116,
   "metadata": {
    "collapsed": false
   },
   "outputs": [],
   "source": [
    "bin_centers = unp.nominal_values(emc_df['xT'].values)\n",
    "lower_val = np.subtract(bin_centers,bin_edges[:-1])\n",
    "upper_val = np.subtract(bin_edges[1:], bin_centers)\n",
    "asymmetric_bars = [lower_val, upper_val]"
   ]
  },
  {
   "cell_type": "code",
   "execution_count": 119,
   "metadata": {
    "collapsed": false,
    "scrolled": false
   },
   "outputs": [
    {
     "data": {
      "image/png": "[encoded data removed]",
      "text/plain": [
       "<matplotlib.figure.Figure at 0x7f606bcb56d0>"
      ]
     },
     "metadata": {},
     "output_type": "display_data"
    }
   ],
   "source": [
    "plot_one_emc(bin_centers, asymmetric_bars,\n",
    "             [emc_df['C/D']],\n",
    "             [r'C/D'], \n",
    "             lims=(0.05, 0.55, 0.9, 1.1),\n",
    "             title='C/D kTracked MC',\n",
    "             savefile='c-ktracked-mc.png')"
   ]
  },
  {
   "cell_type": "code",
   "execution_count": 131,
   "metadata": {
    "collapsed": false
   },
   "outputs": [
    {
     "data": {
      "image/png": "[encoded data removed]",
      "text/plain": [
       "<matplotlib.figure.Figure at 0x7f606bddd2d0>"
      ]
     },
     "metadata": {},
     "output_type": "display_data"
    }
   ],
   "source": [
    "plot_one_emc(bin_centers, asymmetric_bars,\n",
    "             [emc_df['C/H'], emc_df['C/D'], emc_df['D/H']],\n",
    "             [r'C/H', r'C/D', r'D/H'], \n",
    "             lims=(0.05, 0.58, 0.6, 1.3),\n",
    "             title='kTracked MC',\n",
    "             savefile='c-d-h-ktracked-mc.png',\n",
    "             ylabel=r'$\\boldsymbol{R\\left(\\frac{A_1}{A_2}\\right)}$')"
   ]
  },
  {
   "cell_type": "code",
   "execution_count": 124,
   "metadata": {
    "collapsed": false
   },
   "outputs": [
    {
     "data": {
      "image/png": "[encoded data removed]",
      "text/plain": [
       "<matplotlib.figure.Figure at 0x7f606be745d0>"
      ]
     },
     "metadata": {},
     "output_type": "display_data"
    }
   ],
   "source": [
    "plot_one_emc(bin_centers, asymmetric_bars,\n",
    "             [emc_df['D/H']],\n",
    "             [r'D/H'], \n",
    "             lims=(0.05, 0.55, 0.5, 1.3),\n",
    "             title='D/H kTracked MC',\n",
    "             savefile='d-h-ktracked-mc.png')"
   ]
  }
 ],
 "metadata": {
  "kernelspec": {
   "display_name": "Python 2",
   "language": "python",
   "name": "python2"
  },
  "language_info": {
   "codemirror_mode": {
    "name": "ipython",
    "version": 2
   },
   "file_extension": ".py",
   "mimetype": "text/x-python",
   "name": "python",
   "nbconvert_exporter": "python",
   "pygments_lexer": "ipython2",
   "version": "2.7.6"
  }
 },
 "nbformat": 4,
 "nbformat_minor": 0
}
