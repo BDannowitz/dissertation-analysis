{
 "cells": [
  {
   "cell_type": "markdown",
   "metadata": {},
   "source": [
    "# Classification of Target Position based on Ancillary Measurements\n",
    "### *Identifying our targets by what they \"sound\" like*\n",
    "\n",
    "by: Bryan Dannowitz\n",
    "\n",
    "### Problem:\n",
    "Our proton beam shoots at our *target table*. The table shifts back and forth, allowing us to hit one of seven targets. For a certain range of data, we're not 100% sure what our target position was. We want to be certain before we analyze it.\n",
    "\n",
    "### Objective:\n",
    "We have many (90+) readouts of esoteric measures like *trigger rates* and radiation levels. Here, I aggregate these readouts, exclude non-useful *features*, and train a *Random Forest Classifier* to predict our target position.\n",
    "\n",
    "### Procedure:\n",
    "1. Get a full readout of *features* from our MySQL storage\n",
    "2. Clean it up by removing entries from 'bad spills'\n",
    "3. Exclude any non-helpful *features*\n",
    "4. Train and test an RFC\n",
    "5. Pickle it for daily use at our experiment"
   ]
  },
  {
   "cell_type": "code",
   "execution_count": 1,
   "metadata": {
    "collapsed": true
   },
   "outputs": [],
   "source": [
    "from os import path, remove         # Check if files exist\n",
    "import MySQLdb as mdb               # Raw data source is MySQL\n",
    "import pandas as pd                 # Workhorse data management tool\n",
    "import numpy as np                  # For matrices, arrays, matrix math, and nan's\n",
    "from math import floor"
   ]
  },
  {
   "cell_type": "markdown",
   "metadata": {},
   "source": [
    "## Notebook Specifics"
   ]
  },
  {
   "cell_type": "code",
   "execution_count": 2,
   "metadata": {
    "collapsed": false
   },
   "outputs": [],
   "source": [
    "%matplotlib inline           \n",
    "pd.set_option(\"max_rows\", 10)\n",
    "np.set_printoptions(precision=3)       "
   ]
  },
  {
   "cell_type": "markdown",
   "metadata": {},
   "source": [
    "## Plotting, Graphics"
   ]
  },
  {
   "cell_type": "code",
   "execution_count": 3,
   "metadata": {
    "collapsed": true
   },
   "outputs": [],
   "source": [
    "import matplotlib.pyplot as plt     # For plotting some distributions\n",
    "import seaborn as sns               # For easy, pretty plotting\n",
    "sns.set_style(\"darkgrid\")\n",
    "sns.set_context(\"talk\", font_scale=1.4)"
   ]
  },
  {
   "cell_type": "markdown",
   "metadata": {},
   "source": [
    "# Wrangling the data into shape"
   ]
  },
  {
   "cell_type": "markdown",
   "metadata": {},
   "source": [
    "## Reading Data from MySQL"
   ]
  },
  {
   "cell_type": "code",
   "execution_count": 4,
   "metadata": {
    "collapsed": false
   },
   "outputs": [],
   "source": [
    "server = 'e906-db3.fnal.gov'                         # Source MySQL server\n",
    "port = 3306\n",
    "schema = 'merged_roadset62_R004_V005'                # Source MySQL schema\n",
    "analysis_schema = 'user_dannowitz_target_analysis'   # A schema name for temporary storage\n",
    "analysis_table = 'target_analysis'                   # A table name for that schema"
   ]
  },
  {
   "cell_type": "code",
   "execution_count": 5,
   "metadata": {
    "collapsed": true
   },
   "outputs": [],
   "source": [
    "# Aggregate data into our analysis schema and table.\n",
    "# Table defined here:\n",
    "create_query = \"\"\"\n",
    "               CREATE TABLE IF NOT EXISTS %s.%s\n",
    "               (\n",
    "                   spillID MEDIUMINT NOT NULL,\n",
    "                   name VARCHAR(64),\n",
    "                   value DOUBLE NOT NULL,\n",
    "                   targetPos INT NOT NULL\n",
    "                )\"\"\""
   ]
  },
  {
   "cell_type": "code",
   "execution_count": 6,
   "metadata": {
    "collapsed": false
   },
   "outputs": [],
   "source": [
    "# Here is one MySQL query that will grab all the data we want\n",
    "#     Most of this requires a bit of domain expertise to understand\n",
    "#     as it's specific to our experiment's data structure\n",
    "scaler_query =  \"\"\"\n",
    "                INSERT INTO %s.%s\n",
    "                ### Get data from our Scaler table, along with the target position.\n",
    "                ### This contains features from our triggering systems (data taking rates)\n",
    "                \n",
    "                SELECT s.spillID, scalerName AS `name`, value, targetPos\n",
    "                FROM Scaler \n",
    "                INNER JOIN Spill s              # Source of targetPos\n",
    "                    USING(spillID) \n",
    "                WHERE scalerName IS NOT NULL AND \n",
    "                      s.spillID NOT BETWEEN 409000 AND 430000 AND     \n",
    "                      s.spillID NOT BETWEEN 416709 AND 424180 AND\n",
    "                      s.spillID NOT BETWEEN 482574 AND 484924 AND\n",
    "                      spillType='EOS' AND\n",
    "                      s.dataQuality = 0\n",
    "                \"\"\""
   ]
  },
  {
   "cell_type": "code",
   "execution_count": 7,
   "metadata": {
    "collapsed": true
   },
   "outputs": [],
   "source": [
    "beam_query = \"\"\"\n",
    "             INSERT INTO %s.%s\n",
    "             ### Get data from our Beam table, along with the target position\n",
    "             ### This contains features from our proton beam and radiation monitors\n",
    "\n",
    "             SELECT s.spillID, name, value, targetPos \n",
    "             FROM Beam\n",
    "             INNER JOIN Spill s              # Source of targetPos\n",
    "                 USING(spillID)\n",
    "             WHERE name IS NOT NULL AND\n",
    "                 LEFT(name,3)!='F:M' AND   # Exclude features that are always NULL\n",
    "                 name!='F:NM2SEM' AND      # \n",
    "                 name!='U:TODB25' AND      #\n",
    "                 name!='S:KTEVTC' AND      #\n",
    "                 s.spillID NOT BETWEEN 409000 AND 430000 AND\n",
    "                 s.spillID NOT BETWEEN 416709 AND 424180 AND\n",
    "                 s.spillID NOT BETWEEN 482574 AND 484924 AND\n",
    "                 s.dataQuality = 0\n",
    "             \"\"\""
   ]
  },
  {
   "cell_type": "code",
   "execution_count": 8,
   "metadata": {
    "collapsed": true
   },
   "outputs": [],
   "source": [
    "# The query for reading out the aggregated information\n",
    "fetch_query = \"\"\"SELECT * FROM %s.%s\"\"\""
   ]
  },
  {
   "cell_type": "code",
   "execution_count": 9,
   "metadata": {
    "collapsed": false
   },
   "outputs": [],
   "source": [
    "# Run the query and read the resultset into a DataFrame\n",
    "try:\n",
    "    db = mdb.connect(read_default_file='../.my.cnf',                  # Keep my login credentials secure\n",
    "                     read_default_group='guest',                   # Read-only access to important data\n",
    "                     host=server,\n",
    "                     db=schema,\n",
    "                     port=port)\n",
    "    \n",
    "    cur = db.cursor()\n",
    "    \n",
    "    cur.execute(\"SHOW DATABASES LIKE '%s'\" % analysis_schema)      # See if schema exists\n",
    "    \n",
    "    if cur.rowcount != 0:\n",
    "        cur.execute(\"DROP DATABASE %s\" % analysis_schema)          # Drop if it does\n",
    "    \n",
    "    cur.execute(\"CREATE DATABASE %s\" % analysis_schema)            # Create analysis schema\n",
    "    cur.execute(create_query % (analysis_schema, analysis_table))  # Create analysis table\n",
    "    \n",
    "    cur.execute(scaler_query % (analysis_schema, analysis_table))  # Fill table with scaler data\n",
    "    cur.execute(beam_query % (analysis_schema, analysis_table))    # Fill table with beam data\n",
    "    \n",
    "    data_df = pd.read_sql(fetch_query %                            # Read data into DataFrame\n",
    "                          (analysis_schema, analysis_table), db)\n",
    "\n",
    "    if db:\n",
    "        db.close()\n",
    "\n",
    "except mdb.Error, e:\n",
    "\n",
    "    print \"Error %d: %s\" % (e.args[0], e.args[1])"
   ]
  },
  {
   "cell_type": "code",
   "execution_count": 10,
   "metadata": {
    "collapsed": false
   },
   "outputs": [],
   "source": [
    "# Write to file, and you can read it back instead of querying again\n",
    "data_df.to_csv('insight_demo_roadset62_long.csv')"
   ]
  },
  {
   "cell_type": "code",
   "execution_count": 12,
   "metadata": {
    "collapsed": false
   },
   "outputs": [],
   "source": [
    "# Write to file, and you can read it back instead of querying again\n",
    "data_df = pd.read_csv('insight_demo_roadset62_long.csv', index_col='Unnamed: 0')"
   ]
  },
  {
   "cell_type": "markdown",
   "metadata": {},
   "source": [
    "## Explore the Data"
   ]
  },
  {
   "cell_type": "code",
   "execution_count": 11,
   "metadata": {
    "collapsed": false
   },
   "outputs": [
    {
     "data": {
      "text/html": [
       "<div>\n",
       "<table border=\"1\" class=\"dataframe\">\n",
       "  <thead>\n",
       "    <tr style=\"text-align: right;\">\n",
       "      <th></th>\n",
       "      <th>spillID</th>\n",
       "      <th>name</th>\n",
       "      <th>value</th>\n",
       "      <th>targetPos</th>\n",
       "    </tr>\n",
       "  </thead>\n",
       "  <tbody>\n",
       "    <tr>\n",
       "      <th>0</th>\n",
       "      <td>441627</td>\n",
       "      <td>AcceptedMATRIX1</td>\n",
       "      <td>2589</td>\n",
       "      <td>1</td>\n",
       "    </tr>\n",
       "    <tr>\n",
       "      <th>1</th>\n",
       "      <td>441627</td>\n",
       "      <td>AcceptedMATRIX2</td>\n",
       "      <td>49</td>\n",
       "      <td>1</td>\n",
       "    </tr>\n",
       "    <tr>\n",
       "      <th>2</th>\n",
       "      <td>441627</td>\n",
       "      <td>AcceptedMATRIX3</td>\n",
       "      <td>22</td>\n",
       "      <td>1</td>\n",
       "    </tr>\n",
       "    <tr>\n",
       "      <th>3</th>\n",
       "      <td>441627</td>\n",
       "      <td>AcceptedMATRIX4</td>\n",
       "      <td>16</td>\n",
       "      <td>1</td>\n",
       "    </tr>\n",
       "    <tr>\n",
       "      <th>4</th>\n",
       "      <td>441627</td>\n",
       "      <td>AcceptedMATRIX5</td>\n",
       "      <td>16</td>\n",
       "      <td>1</td>\n",
       "    </tr>\n",
       "  </tbody>\n",
       "</table>\n",
       "</div>"
      ],
      "text/plain": [
       "   spillID             name  value  targetPos\n",
       "0   441627  AcceptedMATRIX1   2589          1\n",
       "1   441627  AcceptedMATRIX2     49          1\n",
       "2   441627  AcceptedMATRIX3     22          1\n",
       "3   441627  AcceptedMATRIX4     16          1\n",
       "4   441627  AcceptedMATRIX5     16          1"
      ]
     },
     "execution_count": 11,
     "metadata": {},
     "output_type": "execute_result"
    }
   ],
   "source": [
    "data_df.head()                   # Peek at the data"
   ]
  },
  {
   "cell_type": "code",
   "execution_count": 12,
   "metadata": {
    "collapsed": false
   },
   "outputs": [
    {
     "name": "stdout",
     "output_type": "stream",
     "text": [
      "<class 'pandas.core.frame.DataFrame'>\n",
      "Int64Index: 3694410 entries, 0 to 3694409\n",
      "Data columns (total 4 columns):\n",
      "spillID      int64\n",
      "name         object\n",
      "value        float64\n",
      "targetPos    int64\n",
      "dtypes: float64(1), int64(2), object(1)\n",
      "memory usage: 140.9+ MB\n"
     ]
    }
   ],
   "source": [
    "data_df.info()                # ...and investigate data types."
   ]
  },
  {
   "cell_type": "markdown",
   "metadata": {},
   "source": [
    "## Clean the Data some more\n",
    "### *Feature Exclusion*\n",
    "\n",
    "1. Pivot the dataframe\n",
    "2. Eliminate rows with missing data\n",
    "3. Inspect the means and standard deviations\n",
    "4. Identify the *zero standard deviation* features, as they're not helpful\n",
    "5. Remove them from our pivoted dataframe and our scaler_df dataset"
   ]
  },
  {
   "cell_type": "code",
   "execution_count": 13,
   "metadata": {
    "collapsed": false
   },
   "outputs": [
    {
     "data": {
      "text/html": [
       "<div>\n",
       "<table border=\"1\" class=\"dataframe\">\n",
       "  <thead>\n",
       "    <tr style=\"text-align: right;\">\n",
       "      <th>name</th>\n",
       "      <th>AcceptedBOS</th>\n",
       "      <th>AcceptedEOS</th>\n",
       "      <th>AcceptedMATRIX1</th>\n",
       "      <th>AcceptedMATRIX2</th>\n",
       "      <th>AcceptedMATRIX3</th>\n",
       "      <th>AcceptedMATRIX4</th>\n",
       "      <th>AcceptedMATRIX5</th>\n",
       "      <th>AcceptedNIM1</th>\n",
       "      <th>AcceptedNIM2</th>\n",
       "      <th>AcceptedNIM3</th>\n",
       "      <th>...</th>\n",
       "      <th>RawMATRIX4</th>\n",
       "      <th>RawMATRIX5</th>\n",
       "      <th>RawNIM1</th>\n",
       "      <th>RawNIM2</th>\n",
       "      <th>RawTriggers</th>\n",
       "      <th>S:F1SEM</th>\n",
       "      <th>S:G2SEM</th>\n",
       "      <th>S:MSEP1U</th>\n",
       "      <th>TSGo</th>\n",
       "      <th>TsBusy</th>\n",
       "    </tr>\n",
       "    <tr>\n",
       "      <th>spillID</th>\n",
       "      <th></th>\n",
       "      <th></th>\n",
       "      <th></th>\n",
       "      <th></th>\n",
       "      <th></th>\n",
       "      <th></th>\n",
       "      <th></th>\n",
       "      <th></th>\n",
       "      <th></th>\n",
       "      <th></th>\n",
       "      <th></th>\n",
       "      <th></th>\n",
       "      <th></th>\n",
       "      <th></th>\n",
       "      <th></th>\n",
       "      <th></th>\n",
       "      <th></th>\n",
       "      <th></th>\n",
       "      <th></th>\n",
       "      <th></th>\n",
       "      <th></th>\n",
       "    </tr>\n",
       "  </thead>\n",
       "  <tbody>\n",
       "    <tr>\n",
       "      <th>430001</th>\n",
       "      <td>0</td>\n",
       "      <td>1</td>\n",
       "      <td>1606</td>\n",
       "      <td>220</td>\n",
       "      <td>14</td>\n",
       "      <td>14</td>\n",
       "      <td>12</td>\n",
       "      <td>31</td>\n",
       "      <td>0</td>\n",
       "      <td>12</td>\n",
       "      <td>...</td>\n",
       "      <td>1598521</td>\n",
       "      <td>304915</td>\n",
       "      <td>2361033</td>\n",
       "      <td>8328860</td>\n",
       "      <td>10759045</td>\n",
       "      <td>147773484</td>\n",
       "      <td>5.022777e+12</td>\n",
       "      <td>446.734375</td>\n",
       "      <td>1904</td>\n",
       "      <td>1905</td>\n",
       "    </tr>\n",
       "    <tr>\n",
       "      <th>430002</th>\n",
       "      <td>0</td>\n",
       "      <td>1</td>\n",
       "      <td>2341</td>\n",
       "      <td>247</td>\n",
       "      <td>19</td>\n",
       "      <td>16</td>\n",
       "      <td>14</td>\n",
       "      <td>31</td>\n",
       "      <td>0</td>\n",
       "      <td>13</td>\n",
       "      <td>...</td>\n",
       "      <td>1670878</td>\n",
       "      <td>338078</td>\n",
       "      <td>2311914</td>\n",
       "      <td>9156547</td>\n",
       "      <td>11813291</td>\n",
       "      <td>235342956</td>\n",
       "      <td>5.087022e+12</td>\n",
       "      <td>446.734375</td>\n",
       "      <td>2678</td>\n",
       "      <td>2679</td>\n",
       "    </tr>\n",
       "    <tr>\n",
       "      <th>430003</th>\n",
       "      <td>0</td>\n",
       "      <td>1</td>\n",
       "      <td>2341</td>\n",
       "      <td>233</td>\n",
       "      <td>20</td>\n",
       "      <td>16</td>\n",
       "      <td>15</td>\n",
       "      <td>35</td>\n",
       "      <td>0</td>\n",
       "      <td>16</td>\n",
       "      <td>...</td>\n",
       "      <td>1675869</td>\n",
       "      <td>327909</td>\n",
       "      <td>2327753</td>\n",
       "      <td>9302103</td>\n",
       "      <td>12002554</td>\n",
       "      <td>314702790</td>\n",
       "      <td>5.150387e+12</td>\n",
       "      <td>446.687500</td>\n",
       "      <td>2671</td>\n",
       "      <td>2672</td>\n",
       "    </tr>\n",
       "    <tr>\n",
       "      <th>430004</th>\n",
       "      <td>0</td>\n",
       "      <td>1</td>\n",
       "      <td>2317</td>\n",
       "      <td>248</td>\n",
       "      <td>19</td>\n",
       "      <td>15</td>\n",
       "      <td>14</td>\n",
       "      <td>28</td>\n",
       "      <td>0</td>\n",
       "      <td>16</td>\n",
       "      <td>...</td>\n",
       "      <td>1637602</td>\n",
       "      <td>337641</td>\n",
       "      <td>2305265</td>\n",
       "      <td>8949368</td>\n",
       "      <td>11564482</td>\n",
       "      <td>180612036</td>\n",
       "      <td>5.060495e+12</td>\n",
       "      <td>446.703125</td>\n",
       "      <td>2652</td>\n",
       "      <td>2653</td>\n",
       "    </tr>\n",
       "    <tr>\n",
       "      <th>430005</th>\n",
       "      <td>0</td>\n",
       "      <td>1</td>\n",
       "      <td>1533</td>\n",
       "      <td>203</td>\n",
       "      <td>13</td>\n",
       "      <td>16</td>\n",
       "      <td>12</td>\n",
       "      <td>35</td>\n",
       "      <td>0</td>\n",
       "      <td>18</td>\n",
       "      <td>...</td>\n",
       "      <td>1587623</td>\n",
       "      <td>289114</td>\n",
       "      <td>2262125</td>\n",
       "      <td>8177669</td>\n",
       "      <td>10627391</td>\n",
       "      <td>224396772</td>\n",
       "      <td>5.104749e+12</td>\n",
       "      <td>446.734375</td>\n",
       "      <td>1830</td>\n",
       "      <td>1831</td>\n",
       "    </tr>\n",
       "  </tbody>\n",
       "</table>\n",
       "<p>5 rows × 90 columns</p>\n",
       "</div>"
      ],
      "text/plain": [
       "name     AcceptedBOS  AcceptedEOS  AcceptedMATRIX1  AcceptedMATRIX2  \\\n",
       "spillID                                                               \n",
       "430001             0            1             1606              220   \n",
       "430002             0            1             2341              247   \n",
       "430003             0            1             2341              233   \n",
       "430004             0            1             2317              248   \n",
       "430005             0            1             1533              203   \n",
       "\n",
       "name     AcceptedMATRIX3  AcceptedMATRIX4  AcceptedMATRIX5  AcceptedNIM1  \\\n",
       "spillID                                                                    \n",
       "430001                14               14               12            31   \n",
       "430002                19               16               14            31   \n",
       "430003                20               16               15            35   \n",
       "430004                19               15               14            28   \n",
       "430005                13               16               12            35   \n",
       "\n",
       "name     AcceptedNIM2  AcceptedNIM3   ...    RawMATRIX4  RawMATRIX5  RawNIM1  \\\n",
       "spillID                               ...                                      \n",
       "430001              0            12   ...       1598521      304915  2361033   \n",
       "430002              0            13   ...       1670878      338078  2311914   \n",
       "430003              0            16   ...       1675869      327909  2327753   \n",
       "430004              0            16   ...       1637602      337641  2305265   \n",
       "430005              0            18   ...       1587623      289114  2262125   \n",
       "\n",
       "name     RawNIM2  RawTriggers    S:F1SEM       S:G2SEM    S:MSEP1U  TSGo  \\\n",
       "spillID                                                                    \n",
       "430001   8328860     10759045  147773484  5.022777e+12  446.734375  1904   \n",
       "430002   9156547     11813291  235342956  5.087022e+12  446.734375  2678   \n",
       "430003   9302103     12002554  314702790  5.150387e+12  446.687500  2671   \n",
       "430004   8949368     11564482  180612036  5.060495e+12  446.703125  2652   \n",
       "430005   8177669     10627391  224396772  5.104749e+12  446.734375  1830   \n",
       "\n",
       "name     TsBusy  \n",
       "spillID          \n",
       "430001     1905  \n",
       "430002     2679  \n",
       "430003     2672  \n",
       "430004     2653  \n",
       "430005     1831  \n",
       "\n",
       "[5 rows x 90 columns]"
      ]
     },
     "execution_count": 13,
     "metadata": {},
     "output_type": "execute_result"
    }
   ],
   "source": [
    "# We want to see our scalerNames as column indexes\n",
    "pivoted_df = data_df.pivot('spillID', 'name', 'value'); pivoted_df.head()"
   ]
  },
  {
   "cell_type": "markdown",
   "metadata": {},
   "source": [
    "### Handle missing data"
   ]
  },
  {
   "cell_type": "code",
   "execution_count": 14,
   "metadata": {
    "collapsed": false
   },
   "outputs": [],
   "source": [
    "# Replace sentinel values with NaN's and then drop those rows\n",
    "pivoted_df = pivoted_df.replace(-9999,np.nan).dropna(axis=0,how='any')"
   ]
  },
  {
   "cell_type": "code",
   "execution_count": 15,
   "metadata": {
    "collapsed": false
   },
   "outputs": [
    {
     "data": {
      "text/html": [
       "<div>\n",
       "<table border=\"1\" class=\"dataframe\">\n",
       "  <thead>\n",
       "    <tr style=\"text-align: right;\">\n",
       "      <th></th>\n",
       "      <th>AcceptedBOS</th>\n",
       "      <th>AcceptedEOS</th>\n",
       "      <th>AcceptedMATRIX1</th>\n",
       "      <th>AcceptedMATRIX2</th>\n",
       "      <th>AcceptedMATRIX3</th>\n",
       "      <th>AcceptedMATRIX4</th>\n",
       "      <th>AcceptedMATRIX5</th>\n",
       "      <th>AcceptedNIM1</th>\n",
       "      <th>AcceptedNIM2</th>\n",
       "      <th>AcceptedNIM3</th>\n",
       "      <th>...</th>\n",
       "      <th>RawMATRIX4</th>\n",
       "      <th>RawMATRIX5</th>\n",
       "      <th>RawNIM1</th>\n",
       "      <th>RawNIM2</th>\n",
       "      <th>RawTriggers</th>\n",
       "      <th>S:F1SEM</th>\n",
       "      <th>S:G2SEM</th>\n",
       "      <th>S:MSEP1U</th>\n",
       "      <th>TSGo</th>\n",
       "      <th>TsBusy</th>\n",
       "    </tr>\n",
       "  </thead>\n",
       "  <tbody>\n",
       "    <tr>\n",
       "      <th>count</th>\n",
       "      <td>40951</td>\n",
       "      <td>40951</td>\n",
       "      <td>40951.000000</td>\n",
       "      <td>40951.000000</td>\n",
       "      <td>40951.000000</td>\n",
       "      <td>40951.000000</td>\n",
       "      <td>40951.000000</td>\n",
       "      <td>40951.000000</td>\n",
       "      <td>40951</td>\n",
       "      <td>40951.000000</td>\n",
       "      <td>...</td>\n",
       "      <td>40951.000000</td>\n",
       "      <td>40951.000000</td>\n",
       "      <td>40951.000000</td>\n",
       "      <td>40951.000000</td>\n",
       "      <td>40951.000000</td>\n",
       "      <td>4.095100e+04</td>\n",
       "      <td>4.095100e+04</td>\n",
       "      <td>40951.000000</td>\n",
       "      <td>40951.000000</td>\n",
       "      <td>40951.000000</td>\n",
       "    </tr>\n",
       "    <tr>\n",
       "      <th>mean</th>\n",
       "      <td>0</td>\n",
       "      <td>1</td>\n",
       "      <td>2544.457913</td>\n",
       "      <td>70.110132</td>\n",
       "      <td>21.456594</td>\n",
       "      <td>27.310469</td>\n",
       "      <td>21.573026</td>\n",
       "      <td>41.841713</td>\n",
       "      <td>0</td>\n",
       "      <td>17.899392</td>\n",
       "      <td>...</td>\n",
       "      <td>2339390.447706</td>\n",
       "      <td>364359.886547</td>\n",
       "      <td>2149008.467608</td>\n",
       "      <td>8730119.084564</td>\n",
       "      <td>12096416.665820</td>\n",
       "      <td>2.646751e+10</td>\n",
       "      <td>5.505983e+12</td>\n",
       "      <td>371.624283</td>\n",
       "      <td>2739.995702</td>\n",
       "      <td>2740.972748</td>\n",
       "    </tr>\n",
       "    <tr>\n",
       "      <th>std</th>\n",
       "      <td>0</td>\n",
       "      <td>0</td>\n",
       "      <td>482.039903</td>\n",
       "      <td>131.662513</td>\n",
       "      <td>4.603769</td>\n",
       "      <td>6.589574</td>\n",
       "      <td>5.037009</td>\n",
       "      <td>6.095684</td>\n",
       "      <td>0</td>\n",
       "      <td>1.736201</td>\n",
       "      <td>...</td>\n",
       "      <td>502128.475285</td>\n",
       "      <td>179819.547210</td>\n",
       "      <td>145900.010250</td>\n",
       "      <td>521481.997410</td>\n",
       "      <td>737011.675984</td>\n",
       "      <td>5.372721e+10</td>\n",
       "      <td>3.798618e+11</td>\n",
       "      <td>134.952897</td>\n",
       "      <td>509.452873</td>\n",
       "      <td>509.443011</td>\n",
       "    </tr>\n",
       "    <tr>\n",
       "      <th>min</th>\n",
       "      <td>0</td>\n",
       "      <td>1</td>\n",
       "      <td>746.000000</td>\n",
       "      <td>1.000000</td>\n",
       "      <td>5.000000</td>\n",
       "      <td>6.000000</td>\n",
       "      <td>6.000000</td>\n",
       "      <td>12.000000</td>\n",
       "      <td>0</td>\n",
       "      <td>9.000000</td>\n",
       "      <td>...</td>\n",
       "      <td>686606.000000</td>\n",
       "      <td>58155.000000</td>\n",
       "      <td>767803.000000</td>\n",
       "      <td>3174248.000000</td>\n",
       "      <td>5843118.000000</td>\n",
       "      <td>4.652128e+07</td>\n",
       "      <td>2.307905e+12</td>\n",
       "      <td>81.562500</td>\n",
       "      <td>870.000000</td>\n",
       "      <td>871.000000</td>\n",
       "    </tr>\n",
       "    <tr>\n",
       "      <th>25%</th>\n",
       "      <td>0</td>\n",
       "      <td>1</td>\n",
       "      <td>2217.000000</td>\n",
       "      <td>12.000000</td>\n",
       "      <td>18.000000</td>\n",
       "      <td>21.000000</td>\n",
       "      <td>18.000000</td>\n",
       "      <td>38.000000</td>\n",
       "      <td>0</td>\n",
       "      <td>17.000000</td>\n",
       "      <td>...</td>\n",
       "      <td>2008121.000000</td>\n",
       "      <td>251156.500000</td>\n",
       "      <td>2057599.000000</td>\n",
       "      <td>8436446.500000</td>\n",
       "      <td>11672054.000000</td>\n",
       "      <td>3.420682e+08</td>\n",
       "      <td>5.308673e+12</td>\n",
       "      <td>402.015625</td>\n",
       "      <td>2395.000000</td>\n",
       "      <td>2396.000000</td>\n",
       "    </tr>\n",
       "    <tr>\n",
       "      <th>50%</th>\n",
       "      <td>0</td>\n",
       "      <td>1</td>\n",
       "      <td>2514.000000</td>\n",
       "      <td>15.000000</td>\n",
       "      <td>21.000000</td>\n",
       "      <td>30.000000</td>\n",
       "      <td>22.000000</td>\n",
       "      <td>43.000000</td>\n",
       "      <td>0</td>\n",
       "      <td>18.000000</td>\n",
       "      <td>...</td>\n",
       "      <td>2218191.000000</td>\n",
       "      <td>292212.000000</td>\n",
       "      <td>2129868.000000</td>\n",
       "      <td>8785584.000000</td>\n",
       "      <td>12159985.000000</td>\n",
       "      <td>5.993036e+08</td>\n",
       "      <td>5.572063e+12</td>\n",
       "      <td>434.671875</td>\n",
       "      <td>2689.000000</td>\n",
       "      <td>2690.000000</td>\n",
       "    </tr>\n",
       "    <tr>\n",
       "      <th>75%</th>\n",
       "      <td>0</td>\n",
       "      <td>1</td>\n",
       "      <td>2839.000000</td>\n",
       "      <td>38.000000</td>\n",
       "      <td>24.000000</td>\n",
       "      <td>32.000000</td>\n",
       "      <td>25.000000</td>\n",
       "      <td>46.000000</td>\n",
       "      <td>0</td>\n",
       "      <td>19.000000</td>\n",
       "      <td>...</td>\n",
       "      <td>2582538.000000</td>\n",
       "      <td>378699.000000</td>\n",
       "      <td>2224128.000000</td>\n",
       "      <td>9085496.500000</td>\n",
       "      <td>12585684.500000</td>\n",
       "      <td>1.149349e+09</td>\n",
       "      <td>5.769700e+12</td>\n",
       "      <td>451.640625</td>\n",
       "      <td>3039.000000</td>\n",
       "      <td>3040.000000</td>\n",
       "    </tr>\n",
       "    <tr>\n",
       "      <th>max</th>\n",
       "      <td>0</td>\n",
       "      <td>1</td>\n",
       "      <td>5183.000000</td>\n",
       "      <td>818.000000</td>\n",
       "      <td>53.000000</td>\n",
       "      <td>45.000000</td>\n",
       "      <td>38.000000</td>\n",
       "      <td>61.000000</td>\n",
       "      <td>0</td>\n",
       "      <td>24.000000</td>\n",
       "      <td>...</td>\n",
       "      <td>4846645.000000</td>\n",
       "      <td>1807106.000000</td>\n",
       "      <td>4162679.000000</td>\n",
       "      <td>10496755.000000</td>\n",
       "      <td>15170123.000000</td>\n",
       "      <td>3.609942e+11</td>\n",
       "      <td>7.777378e+12</td>\n",
       "      <td>494.625000</td>\n",
       "      <td>5740.000000</td>\n",
       "      <td>5741.000000</td>\n",
       "    </tr>\n",
       "  </tbody>\n",
       "</table>\n",
       "<p>8 rows × 90 columns</p>\n",
       "</div>"
      ],
      "text/plain": [
       "       AcceptedBOS  AcceptedEOS  AcceptedMATRIX1  AcceptedMATRIX2  \\\n",
       "count        40951        40951     40951.000000     40951.000000   \n",
       "mean             0            1      2544.457913        70.110132   \n",
       "std              0            0       482.039903       131.662513   \n",
       "min              0            1       746.000000         1.000000   \n",
       "25%              0            1      2217.000000        12.000000   \n",
       "50%              0            1      2514.000000        15.000000   \n",
       "75%              0            1      2839.000000        38.000000   \n",
       "max              0            1      5183.000000       818.000000   \n",
       "\n",
       "       AcceptedMATRIX3  AcceptedMATRIX4  AcceptedMATRIX5  AcceptedNIM1  \\\n",
       "count     40951.000000     40951.000000     40951.000000  40951.000000   \n",
       "mean         21.456594        27.310469        21.573026     41.841713   \n",
       "std           4.603769         6.589574         5.037009      6.095684   \n",
       "min           5.000000         6.000000         6.000000     12.000000   \n",
       "25%          18.000000        21.000000        18.000000     38.000000   \n",
       "50%          21.000000        30.000000        22.000000     43.000000   \n",
       "75%          24.000000        32.000000        25.000000     46.000000   \n",
       "max          53.000000        45.000000        38.000000     61.000000   \n",
       "\n",
       "       AcceptedNIM2  AcceptedNIM3      ...           RawMATRIX4  \\\n",
       "count         40951  40951.000000      ...         40951.000000   \n",
       "mean              0     17.899392      ...       2339390.447706   \n",
       "std               0      1.736201      ...        502128.475285   \n",
       "min               0      9.000000      ...        686606.000000   \n",
       "25%               0     17.000000      ...       2008121.000000   \n",
       "50%               0     18.000000      ...       2218191.000000   \n",
       "75%               0     19.000000      ...       2582538.000000   \n",
       "max               0     24.000000      ...       4846645.000000   \n",
       "\n",
       "           RawMATRIX5         RawNIM1          RawNIM2      RawTriggers  \\\n",
       "count    40951.000000    40951.000000     40951.000000     40951.000000   \n",
       "mean    364359.886547  2149008.467608   8730119.084564  12096416.665820   \n",
       "std     179819.547210   145900.010250    521481.997410    737011.675984   \n",
       "min      58155.000000   767803.000000   3174248.000000   5843118.000000   \n",
       "25%     251156.500000  2057599.000000   8436446.500000  11672054.000000   \n",
       "50%     292212.000000  2129868.000000   8785584.000000  12159985.000000   \n",
       "75%     378699.000000  2224128.000000   9085496.500000  12585684.500000   \n",
       "max    1807106.000000  4162679.000000  10496755.000000  15170123.000000   \n",
       "\n",
       "            S:F1SEM       S:G2SEM      S:MSEP1U          TSGo        TsBusy  \n",
       "count  4.095100e+04  4.095100e+04  40951.000000  40951.000000  40951.000000  \n",
       "mean   2.646751e+10  5.505983e+12    371.624283   2739.995702   2740.972748  \n",
       "std    5.372721e+10  3.798618e+11    134.952897    509.452873    509.443011  \n",
       "min    4.652128e+07  2.307905e+12     81.562500    870.000000    871.000000  \n",
       "25%    3.420682e+08  5.308673e+12    402.015625   2395.000000   2396.000000  \n",
       "50%    5.993036e+08  5.572063e+12    434.671875   2689.000000   2690.000000  \n",
       "75%    1.149349e+09  5.769700e+12    451.640625   3039.000000   3040.000000  \n",
       "max    3.609942e+11  7.777378e+12    494.625000   5740.000000   5741.000000  \n",
       "\n",
       "[8 rows x 90 columns]"
      ]
     },
     "execution_count": 15,
     "metadata": {},
     "output_type": "execute_result"
    }
   ],
   "source": [
    "# We take a peek to see what the values in each look like overall\n",
    "pivoted_df.describe()"
   ]
  },
  {
   "cell_type": "markdown",
   "metadata": {},
   "source": [
    "### Identify *zero standard deviation* features"
   ]
  },
  {
   "cell_type": "code",
   "execution_count": 16,
   "metadata": {
    "collapsed": false
   },
   "outputs": [
    {
     "data": {
      "text/plain": [
       "array(['AcceptedBOS', 'AcceptedEOS', 'AcceptedNIM2', 'AcceptedNIM4',\n",
       "       'AcceptedNIM5', 'E:M3TGHF', 'E:M3TGHI', 'E:M3TGVF', 'E:M3TGVI',\n",
       "       'F:NM3ION', 'G:BNCH13', 'G:TURN13', 'NM3SEM', 'PrescaleNIM2',\n",
       "       'PrescaleNIM4', 'PrescaleNIM5', 'PrescaledBOS', 'PrescaledEOS'], dtype=object)"
      ]
     },
     "execution_count": 16,
     "metadata": {},
     "output_type": "execute_result"
    }
   ],
   "source": [
    "# It's sufficient to say that if the standard deviation is 0, then it's certainly not useful\n",
    "zero_std_series = (pivoted_df.describe().ix['std'] == 0)\n",
    "# Get an array of all the features with zero standard deviations\n",
    "zero_std_features = zero_std_series[zero_std_series == True].index.values; zero_std_features"
   ]
  },
  {
   "cell_type": "markdown",
   "metadata": {},
   "source": [
    "### Remove these from our analysis"
   ]
  },
  {
   "cell_type": "code",
   "execution_count": 17,
   "metadata": {
    "collapsed": false
   },
   "outputs": [],
   "source": [
    "# Get rid of these features\n",
    "_ = pivoted_df.drop(zero_std_features, axis=1, inplace=True)"
   ]
  },
  {
   "cell_type": "markdown",
   "metadata": {},
   "source": [
    "# Assemble Cleaned, Processed Data\n",
    "### With data and labels, so that it's well-suited to be fed to our RFC"
   ]
  },
  {
   "cell_type": "code",
   "execution_count": 18,
   "metadata": {
    "collapsed": false
   },
   "outputs": [
    {
     "data": {
      "text/html": [
       "<div>\n",
       "<table border=\"1\" class=\"dataframe\">\n",
       "  <thead>\n",
       "    <tr style=\"text-align: right;\">\n",
       "      <th></th>\n",
       "      <th>spillID</th>\n",
       "      <th>targetPos</th>\n",
       "    </tr>\n",
       "  </thead>\n",
       "  <tbody>\n",
       "    <tr>\n",
       "      <th>549780</th>\n",
       "      <td>430001</td>\n",
       "      <td>2</td>\n",
       "    </tr>\n",
       "    <tr>\n",
       "      <th>549824</th>\n",
       "      <td>430002</td>\n",
       "      <td>3</td>\n",
       "    </tr>\n",
       "    <tr>\n",
       "      <th>549868</th>\n",
       "      <td>430003</td>\n",
       "      <td>3</td>\n",
       "    </tr>\n",
       "    <tr>\n",
       "      <th>549912</th>\n",
       "      <td>430004</td>\n",
       "      <td>3</td>\n",
       "    </tr>\n",
       "    <tr>\n",
       "      <th>549956</th>\n",
       "      <td>430005</td>\n",
       "      <td>4</td>\n",
       "    </tr>\n",
       "  </tbody>\n",
       "</table>\n",
       "</div>"
      ],
      "text/plain": [
       "        spillID  targetPos\n",
       "549780   430001          2\n",
       "549824   430002          3\n",
       "549868   430003          3\n",
       "549912   430004          3\n",
       "549956   430005          4"
      ]
     },
     "execution_count": 18,
     "metadata": {},
     "output_type": "execute_result"
    }
   ],
   "source": [
    "# Let's prepare the lables, or, our target positions\n",
    "targpos_df = data_df[['spillID','targetPos']].drop_duplicates().sort('spillID')\n",
    "targpos_df.head()"
   ]
  },
  {
   "cell_type": "markdown",
   "metadata": {},
   "source": [
    "### Merge the data with the labels"
   ]
  },
  {
   "cell_type": "code",
   "execution_count": 19,
   "metadata": {
    "collapsed": false
   },
   "outputs": [],
   "source": [
    "full_df = pd.merge(pivoted_df, targpos_df, how='left', right_on='spillID', left_index=True)"
   ]
  },
  {
   "cell_type": "code",
   "execution_count": 20,
   "metadata": {
    "collapsed": false
   },
   "outputs": [
    {
     "data": {
      "text/html": [
       "<div>\n",
       "<table border=\"1\" class=\"dataframe\">\n",
       "  <thead>\n",
       "    <tr style=\"text-align: right;\">\n",
       "      <th>name</th>\n",
       "      <th>AcceptedMATRIX1</th>\n",
       "      <th>AcceptedMATRIX2</th>\n",
       "      <th>AcceptedMATRIX3</th>\n",
       "      <th>AcceptedMATRIX4</th>\n",
       "      <th>AcceptedMATRIX5</th>\n",
       "      <th>AcceptedNIM1</th>\n",
       "      <th>AcceptedNIM3</th>\n",
       "      <th>AfterInhMATRIX1</th>\n",
       "      <th>AfterInhMATRIX2</th>\n",
       "      <th>AfterInhMATRIX3</th>\n",
       "      <th>...</th>\n",
       "      <th>RawMATRIX5</th>\n",
       "      <th>RawNIM1</th>\n",
       "      <th>RawNIM2</th>\n",
       "      <th>RawTriggers</th>\n",
       "      <th>S:F1SEM</th>\n",
       "      <th>S:G2SEM</th>\n",
       "      <th>S:MSEP1U</th>\n",
       "      <th>TSGo</th>\n",
       "      <th>TsBusy</th>\n",
       "      <th>targetPos</th>\n",
       "    </tr>\n",
       "    <tr>\n",
       "      <th>spillID</th>\n",
       "      <th></th>\n",
       "      <th></th>\n",
       "      <th></th>\n",
       "      <th></th>\n",
       "      <th></th>\n",
       "      <th></th>\n",
       "      <th></th>\n",
       "      <th></th>\n",
       "      <th></th>\n",
       "      <th></th>\n",
       "      <th></th>\n",
       "      <th></th>\n",
       "      <th></th>\n",
       "      <th></th>\n",
       "      <th></th>\n",
       "      <th></th>\n",
       "      <th></th>\n",
       "      <th></th>\n",
       "      <th></th>\n",
       "      <th></th>\n",
       "      <th></th>\n",
       "    </tr>\n",
       "  </thead>\n",
       "  <tbody>\n",
       "    <tr>\n",
       "      <th>430001</th>\n",
       "      <td>1606</td>\n",
       "      <td>220</td>\n",
       "      <td>14</td>\n",
       "      <td>14</td>\n",
       "      <td>12</td>\n",
       "      <td>31</td>\n",
       "      <td>12</td>\n",
       "      <td>1608</td>\n",
       "      <td>259557</td>\n",
       "      <td>1700</td>\n",
       "      <td>...</td>\n",
       "      <td>304915</td>\n",
       "      <td>2361033</td>\n",
       "      <td>8328860</td>\n",
       "      <td>10759045</td>\n",
       "      <td>147773484</td>\n",
       "      <td>5.022777e+12</td>\n",
       "      <td>446.734375</td>\n",
       "      <td>1904</td>\n",
       "      <td>1905</td>\n",
       "      <td>2</td>\n",
       "    </tr>\n",
       "    <tr>\n",
       "      <th>430002</th>\n",
       "      <td>2341</td>\n",
       "      <td>247</td>\n",
       "      <td>19</td>\n",
       "      <td>16</td>\n",
       "      <td>14</td>\n",
       "      <td>31</td>\n",
       "      <td>13</td>\n",
       "      <td>2344</td>\n",
       "      <td>294878</td>\n",
       "      <td>2369</td>\n",
       "      <td>...</td>\n",
       "      <td>338078</td>\n",
       "      <td>2311914</td>\n",
       "      <td>9156547</td>\n",
       "      <td>11813291</td>\n",
       "      <td>235342956</td>\n",
       "      <td>5.087022e+12</td>\n",
       "      <td>446.734375</td>\n",
       "      <td>2678</td>\n",
       "      <td>2679</td>\n",
       "      <td>3</td>\n",
       "    </tr>\n",
       "    <tr>\n",
       "      <th>430003</th>\n",
       "      <td>2341</td>\n",
       "      <td>233</td>\n",
       "      <td>20</td>\n",
       "      <td>16</td>\n",
       "      <td>15</td>\n",
       "      <td>35</td>\n",
       "      <td>16</td>\n",
       "      <td>2343</td>\n",
       "      <td>277955</td>\n",
       "      <td>2407</td>\n",
       "      <td>...</td>\n",
       "      <td>327909</td>\n",
       "      <td>2327753</td>\n",
       "      <td>9302103</td>\n",
       "      <td>12002554</td>\n",
       "      <td>314702790</td>\n",
       "      <td>5.150387e+12</td>\n",
       "      <td>446.687500</td>\n",
       "      <td>2671</td>\n",
       "      <td>2672</td>\n",
       "      <td>3</td>\n",
       "    </tr>\n",
       "    <tr>\n",
       "      <th>430004</th>\n",
       "      <td>2317</td>\n",
       "      <td>248</td>\n",
       "      <td>19</td>\n",
       "      <td>15</td>\n",
       "      <td>14</td>\n",
       "      <td>28</td>\n",
       "      <td>16</td>\n",
       "      <td>2321</td>\n",
       "      <td>296784</td>\n",
       "      <td>2412</td>\n",
       "      <td>...</td>\n",
       "      <td>337641</td>\n",
       "      <td>2305265</td>\n",
       "      <td>8949368</td>\n",
       "      <td>11564482</td>\n",
       "      <td>180612036</td>\n",
       "      <td>5.060495e+12</td>\n",
       "      <td>446.703125</td>\n",
       "      <td>2652</td>\n",
       "      <td>2653</td>\n",
       "      <td>3</td>\n",
       "    </tr>\n",
       "    <tr>\n",
       "      <th>430005</th>\n",
       "      <td>1533</td>\n",
       "      <td>203</td>\n",
       "      <td>13</td>\n",
       "      <td>16</td>\n",
       "      <td>12</td>\n",
       "      <td>35</td>\n",
       "      <td>18</td>\n",
       "      <td>1532</td>\n",
       "      <td>240062</td>\n",
       "      <td>1567</td>\n",
       "      <td>...</td>\n",
       "      <td>289114</td>\n",
       "      <td>2262125</td>\n",
       "      <td>8177669</td>\n",
       "      <td>10627391</td>\n",
       "      <td>224396772</td>\n",
       "      <td>5.104749e+12</td>\n",
       "      <td>446.734375</td>\n",
       "      <td>1830</td>\n",
       "      <td>1831</td>\n",
       "      <td>4</td>\n",
       "    </tr>\n",
       "  </tbody>\n",
       "</table>\n",
       "<p>5 rows × 73 columns</p>\n",
       "</div>"
      ],
      "text/plain": [
       "name     AcceptedMATRIX1  AcceptedMATRIX2  AcceptedMATRIX3  AcceptedMATRIX4  \\\n",
       "spillID                                                                       \n",
       "430001              1606              220               14               14   \n",
       "430002              2341              247               19               16   \n",
       "430003              2341              233               20               16   \n",
       "430004              2317              248               19               15   \n",
       "430005              1533              203               13               16   \n",
       "\n",
       "name     AcceptedMATRIX5  AcceptedNIM1  AcceptedNIM3  AfterInhMATRIX1  \\\n",
       "spillID                                                                 \n",
       "430001                12            31            12             1608   \n",
       "430002                14            31            13             2344   \n",
       "430003                15            35            16             2343   \n",
       "430004                14            28            16             2321   \n",
       "430005                12            35            18             1532   \n",
       "\n",
       "name     AfterInhMATRIX2  AfterInhMATRIX3    ...      RawMATRIX5  RawNIM1  \\\n",
       "spillID                                      ...                            \n",
       "430001            259557             1700    ...          304915  2361033   \n",
       "430002            294878             2369    ...          338078  2311914   \n",
       "430003            277955             2407    ...          327909  2327753   \n",
       "430004            296784             2412    ...          337641  2305265   \n",
       "430005            240062             1567    ...          289114  2262125   \n",
       "\n",
       "name     RawNIM2  RawTriggers    S:F1SEM       S:G2SEM    S:MSEP1U  TSGo  \\\n",
       "spillID                                                                    \n",
       "430001   8328860     10759045  147773484  5.022777e+12  446.734375  1904   \n",
       "430002   9156547     11813291  235342956  5.087022e+12  446.734375  2678   \n",
       "430003   9302103     12002554  314702790  5.150387e+12  446.687500  2671   \n",
       "430004   8949368     11564482  180612036  5.060495e+12  446.703125  2652   \n",
       "430005   8177669     10627391  224396772  5.104749e+12  446.734375  1830   \n",
       "\n",
       "name     TsBusy  targetPos  \n",
       "spillID                     \n",
       "430001     1905          2  \n",
       "430002     2679          3  \n",
       "430003     2672          3  \n",
       "430004     2653          3  \n",
       "430005     1831          4  \n",
       "\n",
       "[5 rows x 73 columns]"
      ]
     },
     "execution_count": 20,
     "metadata": {},
     "output_type": "execute_result"
    }
   ],
   "source": [
    "full_df = full_df.set_index('spillID')\n",
    "full_df.head()"
   ]
  },
  {
   "cell_type": "code",
   "execution_count": 21,
   "metadata": {
    "collapsed": false
   },
   "outputs": [
    {
     "name": "stdout",
     "output_type": "stream",
     "text": [
      "<class 'pandas.core.frame.DataFrame'>\n",
      "Int64Index: 40951 entries, 430001 to 482555\n",
      "Data columns (total 73 columns):\n",
      "AcceptedMATRIX1     40951 non-null float64\n",
      "AcceptedMATRIX2     40951 non-null float64\n",
      "AcceptedMATRIX3     40951 non-null float64\n",
      "AcceptedMATRIX4     40951 non-null float64\n",
      "AcceptedMATRIX5     40951 non-null float64\n",
      "AcceptedNIM1        40951 non-null float64\n",
      "AcceptedNIM3        40951 non-null float64\n",
      "AfterInhMATRIX1     40951 non-null float64\n",
      "AfterInhMATRIX2     40951 non-null float64\n",
      "AfterInhMATRIX3     40951 non-null float64\n",
      "AfterInhMATRIX4     40951 non-null float64\n",
      "AfterInhMATRIX5     40951 non-null float64\n",
      "AfterInhNIM1        40951 non-null float64\n",
      "AfterInhNIM2        40951 non-null float64\n",
      "E:M2C2HF            40951 non-null float64\n",
      "E:M2C2HI            40951 non-null float64\n",
      "E:M2C2HM            40951 non-null float64\n",
      "E:M2C2HS            40951 non-null float64\n",
      "E:M2C2VF            40951 non-null float64\n",
      "E:M2C2VI            40951 non-null float64\n",
      "E:M2C2VM            40951 non-null float64\n",
      "E:M2C2VS            40951 non-null float64\n",
      "E:M3TGHM            40951 non-null float64\n",
      "E:M3TGHS            40951 non-null float64\n",
      "E:M3TGVM            40951 non-null float64\n",
      "E:M3TGVS            40951 non-null float64\n",
      "F:E906BM            40951 non-null float64\n",
      "F:NM2D1             40951 non-null float64\n",
      "F:NM2H              40951 non-null float64\n",
      "F:NM2ION            40951 non-null float64\n",
      "F:NM2Q1             40951 non-null float64\n",
      "F:NM2Q2             40951 non-null float64\n",
      "F:NM2V              40951 non-null float64\n",
      "F:NM3RRT            40951 non-null float64\n",
      "F:NM3RST            40951 non-null float64\n",
      "F:NM3S              40951 non-null float64\n",
      "F:NM3SEM            40951 non-null float64\n",
      "F:NM4AN             40951 non-null float64\n",
      "F:NS2FLO            40951 non-null float64\n",
      "F:NS2RET            40951 non-null float64\n",
      "F:NS2SUP            40951 non-null float64\n",
      "F:NS7DFP            40951 non-null float64\n",
      "G:NBSYD             40951 non-null float64\n",
      "G:RD3161            40951 non-null float64\n",
      "G:RD3162            40951 non-null float64\n",
      "I:BEAM21            40951 non-null float64\n",
      "I:FTSDF             40951 non-null float64\n",
      "I:VFOUT             40951 non-null float64\n",
      "L:CBAR              40951 non-null float64\n",
      "M:OUTTMP            40951 non-null float64\n",
      "PrescaleMATRIX1     40951 non-null float64\n",
      "PrescaleMATRIX2     40951 non-null float64\n",
      "PrescaleMATRIX3     40951 non-null float64\n",
      "PrescaleMATRIX4     40951 non-null float64\n",
      "PrescaleMATRIX5     40951 non-null float64\n",
      "PrescaleNIM1        40951 non-null float64\n",
      "PrescaleNIM3        40951 non-null float64\n",
      "PrescaledTrigger    40951 non-null float64\n",
      "RF                  40951 non-null float64\n",
      "RawMATRIX1          40951 non-null float64\n",
      "RawMATRIX2          40951 non-null float64\n",
      "RawMATRIX3          40951 non-null float64\n",
      "RawMATRIX4          40951 non-null float64\n",
      "RawMATRIX5          40951 non-null float64\n",
      "RawNIM1             40951 non-null float64\n",
      "RawNIM2             40951 non-null float64\n",
      "RawTriggers         40951 non-null float64\n",
      "S:F1SEM             40951 non-null float64\n",
      "S:G2SEM             40951 non-null float64\n",
      "S:MSEP1U            40951 non-null float64\n",
      "TSGo                40951 non-null float64\n",
      "TsBusy              40951 non-null float64\n",
      "targetPos           40951 non-null int64\n",
      "dtypes: float64(72), int64(1)\n",
      "memory usage: 23.1 MB\n"
     ]
    }
   ],
   "source": [
    "full_df.info()"
   ]
  },
  {
   "cell_type": "code",
   "execution_count": 22,
   "metadata": {
    "collapsed": false
   },
   "outputs": [],
   "source": [
    "# Write it to file for use in the next part.\n",
    "full_df.to_csv('roadset62_targetPos_study.csv')"
   ]
  },
  {
   "cell_type": "markdown",
   "metadata": {
    "collapsed": false
   },
   "source": [
    "# Create, Train Random Forest From Data"
   ]
  },
  {
   "cell_type": "code",
   "execution_count": 5,
   "metadata": {
    "collapsed": true
   },
   "outputs": [],
   "source": [
    "from sklearn.ensemble import RandomForestClassifier \n",
    "from sklearn.preprocessing import StandardScaler\n",
    "from sklearn import cross_validation              # We'll want to cross-validate our RF\n",
    "sns.set_context(\"poster\")"
   ]
  },
  {
   "cell_type": "code",
   "execution_count": 6,
   "metadata": {
    "collapsed": false
   },
   "outputs": [],
   "source": [
    "# If the data is already written, and we're re-visiting, \n",
    "#    just load the prepared data here\n",
    "full_df = pd.read_csv('roadset62_targetPos_study.csv', index_col='spillID')"
   ]
  },
  {
   "cell_type": "code",
   "execution_count": 7,
   "metadata": {
    "collapsed": false
   },
   "outputs": [],
   "source": [
    "# Split the DataFrame up into 'data' and 'labels'\n",
    "labels = full_df.values[:,-1]"
   ]
  },
  {
   "cell_type": "markdown",
   "metadata": {},
   "source": [
    "## Feature Engineering\n",
    "* One thing we do know in this experiment is that *'S:G2SEM'* is a measure of ***Beam Intensity***\n",
    "* ***Beam Intensity*** does not depend on anything in our experiment...\n",
    "* BUT many, *many* things in our experiment depend on *Beam Intensity*\n",
    "* So, normalize all *features* to ***Beam Intensity*** for more robust classifier"
   ]
  },
  {
   "cell_type": "code",
   "execution_count": 8,
   "metadata": {
    "collapsed": false
   },
   "outputs": [],
   "source": [
    "# Rescale the training data to beam intensity\n",
    "#    Beam intensity is a big number (O(10^12)), so multiply by a big constant\n",
    "#    to bring it back up to normal feature ranges \n",
    "normed_df = pd.DataFrame( (full_df.drop('targetPos', axis=1).values / full_df[['S:G2SEM']].values) * 5000000000000.0, \n",
    "                           columns=full_df.columns[:-1] )\n",
    "\n",
    "_ = normed_df.drop('S:G2SEM', axis=1, inplace=True)"
   ]
  },
  {
   "cell_type": "markdown",
   "metadata": {},
   "source": [
    "## Feature Scaling\n",
    "* Over time, these features may *drift* a little due to many, many effects\n",
    "* Hopefully, the relative differences are key to differentiating targets"
   ]
  },
  {
   "cell_type": "code",
   "execution_count": 45,
   "metadata": {
    "collapsed": false
   },
   "outputs": [],
   "source": [
    "data = full_df.values[:,:-1]"
   ]
  },
  {
   "cell_type": "code",
   "execution_count": 9,
   "metadata": {
    "collapsed": false
   },
   "outputs": [],
   "source": [
    "data = normed_df.values"
   ]
  },
  {
   "cell_type": "code",
   "execution_count": 10,
   "metadata": {
    "collapsed": true
   },
   "outputs": [],
   "source": [
    "scale = StandardScaler().fit(data)"
   ]
  },
  {
   "cell_type": "code",
   "execution_count": 11,
   "metadata": {
    "collapsed": false
   },
   "outputs": [],
   "source": [
    "data_scaled = scale.transform(data)"
   ]
  },
  {
   "cell_type": "markdown",
   "metadata": {},
   "source": [
    "### Split our data up into training and test sets"
   ]
  },
  {
   "cell_type": "code",
   "execution_count": 29,
   "metadata": {
    "collapsed": true
   },
   "outputs": [],
   "source": [
    "d_train, d_test, l_train, l_test \\\n",
    "    = cross_validation.train_test_split(data, labels, test_size=0.33, random_state=2)"
   ]
  },
  {
   "cell_type": "code",
   "execution_count": 30,
   "metadata": {
    "collapsed": false
   },
   "outputs": [],
   "source": [
    "d_train, d_test, l_train, l_test \\\n",
    "    = cross_validation.train_test_split(data_scaled, labels, test_size=0.33, random_state=2)"
   ]
  },
  {
   "cell_type": "markdown",
   "metadata": {},
   "source": [
    "### Create RFC instance"
   ]
  },
  {
   "cell_type": "code",
   "execution_count": 31,
   "metadata": {
    "collapsed": false
   },
   "outputs": [],
   "source": [
    "rfc = RandomForestClassifier(n_estimators=100, max_depth=None, max_features='sqrt',\n",
    "                             min_samples_split=1, random_state=2)"
   ]
  },
  {
   "cell_type": "markdown",
   "metadata": {},
   "source": [
    "### Train on training data"
   ]
  },
  {
   "cell_type": "code",
   "execution_count": 32,
   "metadata": {
    "collapsed": false
   },
   "outputs": [
    {
     "data": {
      "text/plain": [
       "RandomForestClassifier(bootstrap=True, class_weight=None, criterion='gini',\n",
       "            max_depth=None, max_features='sqrt', max_leaf_nodes=None,\n",
       "            min_samples_leaf=1, min_samples_split=1,\n",
       "            min_weight_fraction_leaf=0.0, n_estimators=100, n_jobs=1,\n",
       "            oob_score=False, random_state=2, verbose=0, warm_start=False)"
      ]
     },
     "execution_count": 32,
     "metadata": {},
     "output_type": "execute_result"
    }
   ],
   "source": [
    "rfc.fit(d_train, l_train)"
   ]
  },
  {
   "cell_type": "code",
   "execution_count": 33,
   "metadata": {
    "collapsed": false
   },
   "outputs": [
    {
     "name": "stdout",
     "output_type": "stream",
     "text": [
      "RF prediction accuracy =  90.3%\n"
     ]
    }
   ],
   "source": [
    "result = rfc.predict(d_test)\n",
    "\n",
    "print(\"RF prediction accuracy = {0:5.1f}%\".format(100.0 * rfc.score(d_test, l_test)))"
   ]
  },
  {
   "cell_type": "markdown",
   "metadata": {},
   "source": [
    "### Create a Confusion histogram to examine prediction performance"
   ]
  },
  {
   "cell_type": "code",
   "execution_count": 12,
   "metadata": {
    "collapsed": false
   },
   "outputs": [],
   "source": [
    "def confusion(labels, results, names):\n",
    "    plt.figure(figsize=(10, 10))\n",
    "    \n",
    "    # Make a 2D histogram from the test and result arrays\n",
    "    pts, xe, ye = np.histogram2d(labels.astype(int), results.astype(int), bins=len(names))\n",
    "\n",
    "    # For simplicity we create a new DataFrame\n",
    "    pd_pts = pd.DataFrame(np.flipud(pts.astype(int)), index=np.flipud(names), columns=names )\n",
    "\n",
    "    # Display heatmap and add decorations\n",
    "    hm = sns.heatmap(pd_pts, annot=True, fmt=\"d\", cbar=False)\n",
    "\n",
    "    _, ylabels = plt.xticks()\n",
    "    _, xlabels = plt.yticks()\n",
    "    plt.setp(xlabels, rotation=45)\n",
    "    plt.setp(ylabels, rotation=45)\n",
    "    plt.xlabel(\"Actual\", size=22)\n",
    "    plt.ylabel(\"Prediction\", size=22)\n",
    "    \n",
    "    return pts\n",
    "\n",
    "def per_target_accuracy(hist2d_pts, names):\n",
    "\n",
    "    for i in range(len(names)):\n",
    "        rowsum = np.sum(hist2d_pts.T[i])\n",
    "        if rowsum>0:\n",
    "            print names[i] + \":   \\t\" + str(round((hist2d_pts[i][i] / np.sum(hist2d_pts.T[i]))*100,2)) + \"%\"\n",
    "        else:\n",
    "            print names[i] + \":   \\tN/A\""
   ]
  },
  {
   "cell_type": "code",
   "execution_count": 35,
   "metadata": {
    "collapsed": false
   },
   "outputs": [
    {
     "name": "stdout",
     "output_type": "stream",
     "text": [
      "Hydrogen:   \t93.57%\n",
      "Empty:   \t68.58%\n",
      "Deuterium:   \t97.93%\n",
      "None:   \t72.32%\n",
      "Carbon:   \t95.29%\n",
      "Iron:   \t91.61%\n",
      "Tungsten:   \t92.89%\n"
     ]
    },
    {
     "data": {
      "image/png": "[encoded data removed]",
      "text/plain": [
       "<matplotlib.figure.Figure at 0x7fcba8db8690>"
      ]
     },
     "metadata": {},
     "output_type": "display_data"
    }
   ],
   "source": [
    "# Define names for the target positions\n",
    "names = ['Hydrogen','Empty','Deuterium','None','Carbon','Iron','Tungsten']\n",
    "\n",
    "pts = confusion(l_test, result, names)\n",
    "per_target_accuracy(pts, names)"
   ]
  },
  {
   "cell_type": "markdown",
   "metadata": {},
   "source": [
    "### Domain knowledge: \"Empty\" and \"None\" Similarity\n",
    "* *\"Empty\"* is basically a hollow tin can\n",
    "* *\"None\"* is no target at all\n",
    "* Used to study background signals\n",
    "* Will be naturally very, very similar -- and we see above that they get mistaken for each other\n",
    "* We can collapse these into one category"
   ]
  },
  {
   "cell_type": "code",
   "execution_count": 13,
   "metadata": {
    "collapsed": true
   },
   "outputs": [],
   "source": [
    "def relabel(label_array):\n",
    "    # Collapse target position 4 and 2 both into category 2\n",
    "    # Then shift over the rest\n",
    "    label_array_revised = label_array.copy()\n",
    "    label_array_revised[label_array_revised == 4] = 2\n",
    "    label_array_revised[label_array_revised == 5] = 4\n",
    "    label_array_revised[label_array_revised == 6] = 5\n",
    "    label_array_revised[label_array_revised == 7] = 6\n",
    "    \n",
    "    return label_array_revised"
   ]
  },
  {
   "cell_type": "code",
   "execution_count": 14,
   "metadata": {
    "collapsed": false
   },
   "outputs": [],
   "source": [
    "# Call the new re-labelling function\n",
    "#    and modify the names array\n",
    "labels_revised = relabel(labels)\n",
    "names = ['Hydrogen','Empty/None','Deuterium','Carbon','Iron','Tungsten']"
   ]
  },
  {
   "cell_type": "code",
   "execution_count": 15,
   "metadata": {
    "collapsed": false
   },
   "outputs": [
    {
     "name": "stdout",
     "output_type": "stream",
     "text": [
      "RF prediction accuracy =  95.8%\n",
      "\n"
     ]
    }
   ],
   "source": [
    "d_train, d_test, l_train, l_test \\\n",
    "    = cross_validation.train_test_split(data_scaled, labels_revised, test_size=0.33, random_state=5)\n",
    "\n",
    "rfc = RandomForestClassifier(n_estimators=100, max_depth=None, max_features='sqrt',\n",
    "                             min_samples_split=1, random_state=2).fit(d_train, l_train)\n",
    "\n",
    "result = rfc.predict(d_test)\n",
    "print(\"RF prediction accuracy = {0:5.1f}%\\n\".format(100.0 * rfc.score(d_test, l_test)))"
   ]
  },
  {
   "cell_type": "code",
   "execution_count": 16,
   "metadata": {
    "collapsed": false
   },
   "outputs": [
    {
     "name": "stdout",
     "output_type": "stream",
     "text": [
      "Hydrogen:   \t93.76%\n",
      "Empty/None:   \t99.38%\n",
      "Deuterium:   \t98.17%\n",
      "Carbon:   \t97.76%\n",
      "Iron:   \t95.07%\n",
      "Tungsten:   \t89.39%\n"
     ]
    },
    {
     "data": {
      "image/png": "[encoded data removed]",
      "text/plain": [
       "<matplotlib.figure.Figure at 0x7f1f2e9ebb10>"
      ]
     },
     "metadata": {},
     "output_type": "display_data"
    }
   ],
   "source": [
    "pts = confusion(l_test, result, names)   # Show confusion matrix\n",
    "per_target_accuracy(pts, names)          # Print per-target accuracy"
   ]
  },
  {
   "cell_type": "markdown",
   "metadata": {},
   "source": [
    "# Most Valuable Features\n",
    "* Rank our top most valuable features\n",
    "* See if any make obvious sense\n",
    "* Perhaps use only useful features in future iterations"
   ]
  },
  {
   "cell_type": "code",
   "execution_count": 17,
   "metadata": {
    "collapsed": false
   },
   "outputs": [
    {
     "name": "stdout",
     "output_type": "stream",
     "text": [
      "Feature ranking:\n",
      "1. Feature 'G:RD3161' (0.096497)\n",
      "2. Feature 'AfterInhMATRIX5' (0.081609)\n",
      "3. Feature 'G:RD3162' (0.075144)\n",
      "4. Feature 'PrescaleMATRIX5' (0.072497)\n",
      "5. Feature 'RawMATRIX4' (0.056967)\n",
      "6. Feature 'RawTriggers' (0.043715)\n",
      "7. Feature 'RawMATRIX5' (0.043319)\n",
      "8. Feature 'AfterInhMATRIX3' (0.036605)\n",
      "9. Feature 'PrescaledTrigger' (0.028029)\n",
      "10. Feature 'PrescaleMATRIX3' (0.026866)\n",
      "11. Feature 'AfterInhMATRIX4' (0.023046)\n",
      "12. Feature 'TsBusy' (0.021676)\n",
      "13. Feature 'PrescaleMATRIX1' (0.021607)\n",
      "14. Feature 'TSGo' (0.020898)\n",
      "15. Feature 'PrescaleMATRIX2' (0.020148)\n",
      "16. Feature 'PrescaleMATRIX4' (0.018129)\n",
      "17. Feature 'RawMATRIX2' (0.017642)\n",
      "18. Feature 'AfterInhNIM2' (0.016969)\n",
      "19. Feature 'AcceptedMATRIX5' (0.016335)\n",
      "20. Feature 'AfterInhMATRIX2' (0.016152)\n"
     ]
    }
   ],
   "source": [
    "features = full_df.drop(['S:G2SEM','targetPos'], axis=1).columns.values\n",
    "importances = rfc.feature_importances_\n",
    "indices = np.argsort(importances)[::-1]\n",
    "\n",
    "# Print the feature ranking\n",
    "print(\"Feature ranking:\")\n",
    "\n",
    "useful_feature_list = []\n",
    "for f in range(20):\n",
    "    print(\"%d. Feature '%s' (%f)\" % (f + 1, features[indices[f]], importances[indices[f]]))\n",
    "    useful_feature_list.append(features[indices[f]])"
   ]
  },
  {
   "cell_type": "markdown",
   "metadata": {},
   "source": [
    "## Train on *useful*, vetted, approved features\n",
    "* Time-invariant (always been read out, always will be read out)for the experiment\n",
    "* Ensures that our RFC can be used on past and future data"
   ]
  },
  {
   "cell_type": "code",
   "execution_count": 18,
   "metadata": {
    "collapsed": false
   },
   "outputs": [],
   "source": [
    "reduced_df = pd.DataFrame( (full_df[useful_feature_list].values / full_df[['S:G2SEM']].values) * 5000000000000.0, \n",
    "                              columns=useful_feature_list )\n",
    "data_reduced = reduced_df.values\n",
    "scale_reduced = StandardScaler().fit(data_reduced)\n",
    "data_reduced_scaled = scale_reduced.transform(data_reduced)"
   ]
  },
  {
   "cell_type": "code",
   "execution_count": 43,
   "metadata": {
    "collapsed": false
   },
   "outputs": [
    {
     "name": "stdout",
     "output_type": "stream",
     "text": [
      "RF prediction accuracy =  95.8%\n",
      "Hydrogen:   \t94.47%\n",
      "Empty/None:   \t99.42%\n",
      "Deuterium:   \t97.76%\n",
      "Carbon:   \t93.43%\n",
      "Iron:   \t94.09%\n",
      "Tungsten:   \t88.27%\n"
     ]
    },
    {
     "data": {
      "image/png": "[encoded data removed]",
      "text/plain": [
       "<matplotlib.figure.Figure at 0x7fcba6a94ed0>"
      ]
     },
     "metadata": {},
     "output_type": "display_data"
    }
   ],
   "source": [
    "# We've reduced the number of features and normalized them all to beam intensity\n",
    "# Let's see how that's affected our predictor\n",
    "\n",
    "d_train, d_test, l_train, l_test \\\n",
    "    = cross_validation.train_test_split(data_reduced_scaled, labels_revised, test_size=0.33, random_state=6)\n",
    "rfc = RandomForestClassifier(n_estimators=100, max_depth=None, max_features='sqrt',\n",
    "                             min_samples_split=1, random_state=2).fit(d_train, l_train)\n",
    "result = rfc.predict(d_test)\n",
    "print(\"RF prediction accuracy = {0:5.1f}%\".format(100.0 * rfc.score(d_test, l_test)))\n",
    "\n",
    "pts = confusion(l_test, result, names)\n",
    "per_target_accuracy(pts, names)"
   ]
  },
  {
   "cell_type": "markdown",
   "metadata": {},
   "source": [
    "# Cross-Validation\n",
    "* Let us exhaustively check how robust the RFC is\n",
    "* We do this by cross-validation using the whole data set\n",
    "* Randomly split the data into 10 *folds* using KFold"
   ]
  },
  {
   "cell_type": "code",
   "execution_count": 44,
   "metadata": {
    "collapsed": false
   },
   "outputs": [],
   "source": [
    "kf_total = cross_validation.StratifiedKFold(labels_revised, n_folds=10, shuffle=True, random_state=4)\n",
    "rfc_scores = cross_validation.cross_val_score(rfc, data_reduced_scaled, labels_revised, cv=kf_total)"
   ]
  },
  {
   "cell_type": "code",
   "execution_count": 45,
   "metadata": {
    "collapsed": false
   },
   "outputs": [
    {
     "name": "stdout",
     "output_type": "stream",
     "text": [
      "RFC Scores:  [ 0.959  0.964  0.966  0.961  0.959  0.961  0.963  0.961  0.963  0.961]\n",
      "Accuracy: 0.96 (+/- 0.00)\n"
     ]
    }
   ],
   "source": [
    "print \"RFC Scores: \", rfc_scores\n",
    "print \"Accuracy: %0.2f (+/- %0.2f)\" % (rfc_scores.mean(), rfc_scores.std() * 2)"
   ]
  },
  {
   "cell_type": "markdown",
   "metadata": {},
   "source": [
    "# Looks Good!\n",
    "* Let's put together our official Train and Test data sets!\n",
    "* We'll need to pull the data for the range of questionable target position\n",
    "* We'll also need to parse apart the run log file to extract the labels"
   ]
  },
  {
   "cell_type": "code",
   "execution_count": 19,
   "metadata": {
    "collapsed": true
   },
   "outputs": [],
   "source": [
    "import re"
   ]
  },
  {
   "cell_type": "code",
   "execution_count": 20,
   "metadata": {
    "collapsed": true
   },
   "outputs": [],
   "source": [
    "# Go ahead and train the RFC using the whole, well-labelled data set\n",
    "rfc = RandomForestClassifier(n_estimators=100, max_depth=None, max_features='sqrt',\n",
    "                             min_samples_split=1, random_state=2).fit(data_reduced_scaled, labels_revised)"
   ]
  },
  {
   "cell_type": "code",
   "execution_count": 21,
   "metadata": {
    "collapsed": false
   },
   "outputs": [],
   "source": [
    "# Parse apart the run log file\n",
    "with open('run3.log.snip','r') as f:\n",
    "    log_lines = f.readlines()\n",
    "match_list = []\n",
    "p = re.compile(\"^(\\d+) nominal running conditions, physics run with (\\w+)\")\n",
    "for line in log_lines:\n",
    "    m = p.match(line)\n",
    "    if m:\n",
    "        match_list.append(m)\n",
    "run_target_dict = { m.groups()[0] : m.groups()[1] for m in match_list }"
   ]
  },
  {
   "cell_type": "code",
   "execution_count": 22,
   "metadata": {
    "collapsed": false
   },
   "outputs": [
    {
     "data": {
      "text/plain": [
       "{'C',\n",
       " 'Deuterium',\n",
       " 'Fe',\n",
       " 'Hydrogen',\n",
       " 'W',\n",
       " 'carbon',\n",
       " 'deuterium',\n",
       " 'dueterium',\n",
       " 'empty',\n",
       " 'hydrogen',\n",
       " 'iron',\n",
       " 'no',\n",
       " 'tungsten'}"
      ]
     },
     "execution_count": 22,
     "metadata": {},
     "output_type": "execute_result"
    }
   ],
   "source": [
    "# Yuck! Mispellings, differet cases, symbolic terms, etc. We need to clean this up.\n",
    "# Get the distinct set of names given\n",
    "target_set = set()\n",
    "for run, target in run_target_dict.iteritems():\n",
    "    target_set.add(target)\n",
    "target_set"
   ]
  },
  {
   "cell_type": "code",
   "execution_count": 23,
   "metadata": {
    "collapsed": false
   },
   "outputs": [],
   "source": [
    "# Create a map of these names to the target position\n",
    "target_map = {'C' : 6,\n",
    "              'carbon' : 6,\n",
    "              'Deuterium' : 3,\n",
    "              'deuterium' : 3,\n",
    "              'dueterium' : 3,\n",
    "              'hydrogen' : 1,\n",
    "              'Hydrogen' : 1,\n",
    "              'Fe' : 5,\n",
    "              'iron' : 5,\n",
    "              'W' : 7,\n",
    "              'tungsten' : 7,\n",
    "              'no' : 4,\n",
    "              'empty' : 2 }\n",
    "# Update the dictionary accordingly\n",
    "for run, target in run_target_dict.iteritems():\n",
    "    run_target_dict[run] = target_map[target]"
   ]
  },
  {
   "cell_type": "code",
   "execution_count": 32,
   "metadata": {
    "collapsed": true
   },
   "outputs": [],
   "source": [
    "# Aggregate data into our analysis schema and table.\n",
    "# Table defined here:\n",
    "drop_test_table = \"\"\"\n",
    "                  DROP TABLE IF EXISTS %s.%s\n",
    "                  \"\"\""
   ]
  },
  {
   "cell_type": "code",
   "execution_count": 24,
   "metadata": {
    "collapsed": true
   },
   "outputs": [],
   "source": [
    "# Aggregate data into our analysis schema and table.\n",
    "# Table defined here:\n",
    "create_test_query = \"\"\"\n",
    "                    CREATE TABLE IF NOT EXISTS %s.%s\n",
    "                    (\n",
    "                        runID MEDIUMINT NOT NULL,\n",
    "                        spillID MEDIUMINT NOT NULL,\n",
    "                        name VARCHAR(64),\n",
    "                        value DOUBLE NOT NULL,\n",
    "                        targetPos INT NOT NULL\n",
    "                    )\n",
    "                    \"\"\""
   ]
  },
  {
   "cell_type": "code",
   "execution_count": 40,
   "metadata": {
    "collapsed": false
   },
   "outputs": [],
   "source": [
    "# Here is one MySQL query that will grab all the data we want\n",
    "#     Most of this requires a bit of domain expertise to understand\n",
    "#     as it's specific to our experiment's data structure\n",
    "scaler_test_query =  \"\"\"\n",
    "                INSERT INTO %s.%s\n",
    "                ### Get data from our Scaler table, along with the target position.\n",
    "                ### This contains features from our triggering systems (data taking rates)\n",
    "                \n",
    "                SELECT s.runID, s.spillID, scalerName AS `name`, value, targetPos\n",
    "                FROM Scaler \n",
    "                INNER JOIN Spill s              # Source of targetPos\n",
    "                    USING(spillID) \n",
    "                WHERE scalerName IS NOT NULL AND \n",
    "                      s.spillID BETWEEN 416709 AND 424180 AND\n",
    "                      spillType='EOS' AND\n",
    "                      s.dataQuality & ~(1<<26) = 0\n",
    "                \"\"\""
   ]
  },
  {
   "cell_type": "code",
   "execution_count": 41,
   "metadata": {
    "collapsed": true
   },
   "outputs": [],
   "source": [
    "beam_test_query = \"\"\"\n",
    "             INSERT INTO %s.%s\n",
    "             ### Get data from our Beam table, along with the target position\n",
    "             ### This contains features from our proton beam and radiation monitors\n",
    "\n",
    "             SELECT s.runID, s.spillID, name, value, targetPos \n",
    "             FROM Beam\n",
    "             INNER JOIN Spill s              # Source of targetPos\n",
    "                 USING(spillID)\n",
    "             WHERE name IS NOT NULL AND\n",
    "                 LEFT(name,3)!='F:M' AND   # Exclude features that are always NULL\n",
    "                 name!='F:NM2SEM' AND      # \n",
    "                 name!='U:TODB25' AND      #\n",
    "                 name!='S:KTEVTC' AND      #\n",
    "                 s.spillID BETWEEN 416709 AND 424180 AND\n",
    "                 s.dataQuality & ~(1<<26) = 0\n",
    "             \"\"\""
   ]
  },
  {
   "cell_type": "code",
   "execution_count": 42,
   "metadata": {
    "collapsed": true
   },
   "outputs": [],
   "source": [
    "# The query for reading out the aggregated information\n",
    "fetch_query = \"\"\"SELECT * FROM %s.%s\"\"\""
   ]
  },
  {
   "cell_type": "code",
   "execution_count": 43,
   "metadata": {
    "collapsed": false
   },
   "outputs": [],
   "source": [
    "# Run the query and read the resultset into a DataFrame\n",
    "try:\n",
    "    db = mdb.connect(read_default_file='../.my.cnf',               # Keep my login credentials secure\n",
    "                     read_default_group='guest',                   # Read-only access to important data\n",
    "                     host=server,\n",
    "                     db=schema,\n",
    "                     port=port)\n",
    "    \n",
    "    cur = db.cursor()\n",
    "    \n",
    "    cur.execute(drop_test_table % (analysis_schema, analysis_table + '_test'))  # Create analysis table\n",
    "    cur.execute(create_test_query % (analysis_schema, analysis_table + '_test'))  # Create analysis table\n",
    "    cur.execute(scaler_test_query % (analysis_schema, analysis_table + '_test'))  # Fill table with scaler data\n",
    "    cur.execute(beam_test_query % (analysis_schema, analysis_table + '_test'))    # Fill table with beam data\n",
    "    \n",
    "    # Read data into DataFrame\n",
    "    test_df = pd.read_sql(fetch_query % (analysis_schema, analysis_table + '_test'), db)\n",
    "\n",
    "    if db:\n",
    "        db.close()\n",
    "\n",
    "except mdb.Error, e:\n",
    "\n",
    "    print \"Error %d: %s\" % (e.args[0], e.args[1])"
   ]
  },
  {
   "cell_type": "code",
   "execution_count": 44,
   "metadata": {
    "collapsed": false
   },
   "outputs": [
    {
     "data": {
      "text/html": [
       "<div>\n",
       "<table border=\"1\" class=\"dataframe\">\n",
       "  <thead>\n",
       "    <tr style=\"text-align: right;\">\n",
       "      <th></th>\n",
       "      <th>runID</th>\n",
       "      <th>spillID</th>\n",
       "      <th>name</th>\n",
       "      <th>value</th>\n",
       "      <th>targetPos</th>\n",
       "    </tr>\n",
       "  </thead>\n",
       "  <tbody>\n",
       "    <tr>\n",
       "      <th>0</th>\n",
       "      <td>11350</td>\n",
       "      <td>416709</td>\n",
       "      <td>AcceptedMATRIX1</td>\n",
       "      <td>1348</td>\n",
       "      <td>4</td>\n",
       "    </tr>\n",
       "    <tr>\n",
       "      <th>1</th>\n",
       "      <td>11350</td>\n",
       "      <td>416709</td>\n",
       "      <td>AcceptedMATRIX2</td>\n",
       "      <td>86</td>\n",
       "      <td>4</td>\n",
       "    </tr>\n",
       "    <tr>\n",
       "      <th>2</th>\n",
       "      <td>11350</td>\n",
       "      <td>416709</td>\n",
       "      <td>AcceptedMATRIX3</td>\n",
       "      <td>11</td>\n",
       "      <td>4</td>\n",
       "    </tr>\n",
       "    <tr>\n",
       "      <th>3</th>\n",
       "      <td>11350</td>\n",
       "      <td>416709</td>\n",
       "      <td>AcceptedMATRIX4</td>\n",
       "      <td>14</td>\n",
       "      <td>4</td>\n",
       "    </tr>\n",
       "    <tr>\n",
       "      <th>4</th>\n",
       "      <td>11350</td>\n",
       "      <td>416709</td>\n",
       "      <td>AcceptedMATRIX5</td>\n",
       "      <td>11</td>\n",
       "      <td>4</td>\n",
       "    </tr>\n",
       "  </tbody>\n",
       "</table>\n",
       "</div>"
      ],
      "text/plain": [
       "   runID  spillID             name  value  targetPos\n",
       "0  11350   416709  AcceptedMATRIX1   1348          4\n",
       "1  11350   416709  AcceptedMATRIX2     86          4\n",
       "2  11350   416709  AcceptedMATRIX3     11          4\n",
       "3  11350   416709  AcceptedMATRIX4     14          4\n",
       "4  11350   416709  AcceptedMATRIX5     11          4"
      ]
     },
     "execution_count": 44,
     "metadata": {},
     "output_type": "execute_result"
    }
   ],
   "source": [
    "test_df.head()"
   ]
  },
  {
   "cell_type": "code",
   "execution_count": 60,
   "metadata": {
    "collapsed": false
   },
   "outputs": [
    {
     "name": "stdout",
     "output_type": "stream",
     "text": [
      "89\n",
      "89\n"
     ]
    }
   ],
   "source": [
    "print len(test_df.runID.unique())\n",
    "print len(run_target_dict)"
   ]
  },
  {
   "cell_type": "code",
   "execution_count": 54,
   "metadata": {
    "collapsed": false
   },
   "outputs": [
    {
     "name": "stdout",
     "output_type": "stream",
     "text": [
      "11378\n",
      "11363\n",
      "11442\n",
      "11441\n",
      "11440\n",
      "11351\n",
      "11355\n",
      "11455\n",
      "11456\n",
      "11457\n",
      "11452\n",
      "11421\n",
      "11420\n",
      "11392\n",
      "11391\n",
      "11434\n",
      "11407\n",
      "11402\n",
      "11408\n"
     ]
    }
   ],
   "source": [
    "runs_to_remove = []\n",
    "for run in run_target_dict:\n",
    "    if int(run) not in test_df.runID.unique():\n",
    "        runs_to_remove.append(run)\n",
    "for run in runs_to_remove:\n",
    "    run_target_dict.pop(run)"
   ]
  },
  {
   "cell_type": "code",
   "execution_count": 57,
   "metadata": {
    "collapsed": true
   },
   "outputs": [],
   "source": [
    "runs_to_remove = []\n",
    "for run in test_df.runID.unique():\n",
    "    if str(run) not in run_target_dict:\n",
    "        runs_to_remove.append(run)\n",
    "test_df = test_df.query('runID not in @runs_to_remove').copy()"
   ]
  },
  {
   "cell_type": "code",
   "execution_count": 60,
   "metadata": {
    "collapsed": false
   },
   "outputs": [
    {
     "name": "stdout",
     "output_type": "stream",
     "text": [
      "89\n",
      "89\n"
     ]
    }
   ],
   "source": [
    "print len(test_df.runID.unique())\n",
    "print len(run_target_dict)"
   ]
  },
  {
   "cell_type": "code",
   "execution_count": 45,
   "metadata": {
    "collapsed": true
   },
   "outputs": [],
   "source": [
    "pivoted_df = test_df.pivot('spillID', 'name', 'value')\n",
    "pivoted_df = pivoted_df.replace(-9999,np.nan).dropna(axis=0,how='any')\n",
    "zero_std_series = (pivoted_df.describe().ix['std'] == 0)\n",
    "zero_std_features = zero_std_series[zero_std_series == True].index.values\n",
    "_ = pivoted_df.drop(zero_std_features, axis=1, inplace=True)"
   ]
  },
  {
   "cell_type": "code",
   "execution_count": 46,
   "metadata": {
    "collapsed": false
   },
   "outputs": [
    {
     "data": {
      "text/html": [
       "<div>\n",
       "<table border=\"1\" class=\"dataframe\">\n",
       "  <thead>\n",
       "    <tr style=\"text-align: right;\">\n",
       "      <th>name</th>\n",
       "      <th>G:RD3161</th>\n",
       "      <th>AfterInhMATRIX5</th>\n",
       "      <th>G:RD3162</th>\n",
       "      <th>PrescaleMATRIX5</th>\n",
       "      <th>RawMATRIX4</th>\n",
       "      <th>RawTriggers</th>\n",
       "      <th>RawMATRIX5</th>\n",
       "      <th>AfterInhMATRIX3</th>\n",
       "      <th>PrescaledTrigger</th>\n",
       "      <th>PrescaleMATRIX3</th>\n",
       "      <th>AfterInhMATRIX4</th>\n",
       "      <th>TsBusy</th>\n",
       "      <th>PrescaleMATRIX1</th>\n",
       "      <th>TSGo</th>\n",
       "      <th>PrescaleMATRIX2</th>\n",
       "      <th>PrescaleMATRIX4</th>\n",
       "      <th>RawMATRIX2</th>\n",
       "      <th>AfterInhNIM2</th>\n",
       "      <th>AcceptedMATRIX5</th>\n",
       "      <th>AfterInhMATRIX2</th>\n",
       "    </tr>\n",
       "    <tr>\n",
       "      <th>spillID</th>\n",
       "      <th></th>\n",
       "      <th></th>\n",
       "      <th></th>\n",
       "      <th></th>\n",
       "      <th></th>\n",
       "      <th></th>\n",
       "      <th></th>\n",
       "      <th></th>\n",
       "      <th></th>\n",
       "      <th></th>\n",
       "      <th></th>\n",
       "      <th></th>\n",
       "      <th></th>\n",
       "      <th></th>\n",
       "      <th></th>\n",
       "      <th></th>\n",
       "      <th></th>\n",
       "      <th></th>\n",
       "      <th></th>\n",
       "      <th></th>\n",
       "    </tr>\n",
       "  </thead>\n",
       "  <tbody>\n",
       "    <tr>\n",
       "      <th>416709</th>\n",
       "      <td>4.35</td>\n",
       "      <td>26976</td>\n",
       "      <td>7.35</td>\n",
       "      <td>11</td>\n",
       "      <td>1041762</td>\n",
       "      <td>9204850</td>\n",
       "      <td>150481</td>\n",
       "      <td>1456</td>\n",
       "      <td>1529</td>\n",
       "      <td>11</td>\n",
       "      <td>382481</td>\n",
       "      <td>1520</td>\n",
       "      <td>1348</td>\n",
       "      <td>1519</td>\n",
       "      <td>86</td>\n",
       "      <td>14</td>\n",
       "      <td>100427</td>\n",
       "      <td>4974710</td>\n",
       "      <td>11</td>\n",
       "      <td>100427</td>\n",
       "    </tr>\n",
       "    <tr>\n",
       "      <th>416710</th>\n",
       "      <td>4.20</td>\n",
       "      <td>25163</td>\n",
       "      <td>7.20</td>\n",
       "      <td>10</td>\n",
       "      <td>1107556</td>\n",
       "      <td>8903347</td>\n",
       "      <td>170776</td>\n",
       "      <td>1312</td>\n",
       "      <td>1430</td>\n",
       "      <td>11</td>\n",
       "      <td>357740</td>\n",
       "      <td>1419</td>\n",
       "      <td>1238</td>\n",
       "      <td>1418</td>\n",
       "      <td>102</td>\n",
       "      <td>14</td>\n",
       "      <td>119928</td>\n",
       "      <td>4640709</td>\n",
       "      <td>10</td>\n",
       "      <td>119928</td>\n",
       "    </tr>\n",
       "    <tr>\n",
       "      <th>416711</th>\n",
       "      <td>4.20</td>\n",
       "      <td>26892</td>\n",
       "      <td>7.35</td>\n",
       "      <td>11</td>\n",
       "      <td>1108251</td>\n",
       "      <td>9347469</td>\n",
       "      <td>168507</td>\n",
       "      <td>1459</td>\n",
       "      <td>1603</td>\n",
       "      <td>12</td>\n",
       "      <td>374561</td>\n",
       "      <td>1594</td>\n",
       "      <td>1406</td>\n",
       "      <td>1593</td>\n",
       "      <td>101</td>\n",
       "      <td>15</td>\n",
       "      <td>117721</td>\n",
       "      <td>4885878</td>\n",
       "      <td>11</td>\n",
       "      <td>117722</td>\n",
       "    </tr>\n",
       "    <tr>\n",
       "      <th>416712</th>\n",
       "      <td>4.35</td>\n",
       "      <td>27050</td>\n",
       "      <td>7.35</td>\n",
       "      <td>11</td>\n",
       "      <td>1066804</td>\n",
       "      <td>9308605</td>\n",
       "      <td>160303</td>\n",
       "      <td>1398</td>\n",
       "      <td>1574</td>\n",
       "      <td>11</td>\n",
       "      <td>381321</td>\n",
       "      <td>1565</td>\n",
       "      <td>1381</td>\n",
       "      <td>1564</td>\n",
       "      <td>96</td>\n",
       "      <td>15</td>\n",
       "      <td>111842</td>\n",
       "      <td>4978495</td>\n",
       "      <td>11</td>\n",
       "      <td>111842</td>\n",
       "    </tr>\n",
       "    <tr>\n",
       "      <th>416713</th>\n",
       "      <td>4.35</td>\n",
       "      <td>27043</td>\n",
       "      <td>7.50</td>\n",
       "      <td>12</td>\n",
       "      <td>1090884</td>\n",
       "      <td>9239172</td>\n",
       "      <td>160791</td>\n",
       "      <td>1387</td>\n",
       "      <td>1519</td>\n",
       "      <td>12</td>\n",
       "      <td>379791</td>\n",
       "      <td>1503</td>\n",
       "      <td>1329</td>\n",
       "      <td>1502</td>\n",
       "      <td>94</td>\n",
       "      <td>15</td>\n",
       "      <td>109680</td>\n",
       "      <td>4906191</td>\n",
       "      <td>12</td>\n",
       "      <td>109681</td>\n",
       "    </tr>\n",
       "  </tbody>\n",
       "</table>\n",
       "</div>"
      ],
      "text/plain": [
       "name     G:RD3161  AfterInhMATRIX5  G:RD3162  PrescaleMATRIX5  RawMATRIX4  \\\n",
       "spillID                                                                     \n",
       "416709       4.35            26976      7.35               11     1041762   \n",
       "416710       4.20            25163      7.20               10     1107556   \n",
       "416711       4.20            26892      7.35               11     1108251   \n",
       "416712       4.35            27050      7.35               11     1066804   \n",
       "416713       4.35            27043      7.50               12     1090884   \n",
       "\n",
       "name     RawTriggers  RawMATRIX5  AfterInhMATRIX3  PrescaledTrigger  \\\n",
       "spillID                                                               \n",
       "416709       9204850      150481             1456              1529   \n",
       "416710       8903347      170776             1312              1430   \n",
       "416711       9347469      168507             1459              1603   \n",
       "416712       9308605      160303             1398              1574   \n",
       "416713       9239172      160791             1387              1519   \n",
       "\n",
       "name     PrescaleMATRIX3  AfterInhMATRIX4  TsBusy  PrescaleMATRIX1  TSGo  \\\n",
       "spillID                                                                    \n",
       "416709                11           382481    1520             1348  1519   \n",
       "416710                11           357740    1419             1238  1418   \n",
       "416711                12           374561    1594             1406  1593   \n",
       "416712                11           381321    1565             1381  1564   \n",
       "416713                12           379791    1503             1329  1502   \n",
       "\n",
       "name     PrescaleMATRIX2  PrescaleMATRIX4  RawMATRIX2  AfterInhNIM2  \\\n",
       "spillID                                                               \n",
       "416709                86               14      100427       4974710   \n",
       "416710               102               14      119928       4640709   \n",
       "416711               101               15      117721       4885878   \n",
       "416712                96               15      111842       4978495   \n",
       "416713                94               15      109680       4906191   \n",
       "\n",
       "name     AcceptedMATRIX5  AfterInhMATRIX2  \n",
       "spillID                                    \n",
       "416709                11           100427  \n",
       "416710                10           119928  \n",
       "416711                11           117722  \n",
       "416712                11           111842  \n",
       "416713                12           109681  "
      ]
     },
     "execution_count": 46,
     "metadata": {},
     "output_type": "execute_result"
    }
   ],
   "source": [
    "pivoted_df[useful_feature_list].head()"
   ]
  },
  {
   "cell_type": "code",
   "execution_count": null,
   "metadata": {
    "collapsed": true
   },
   "outputs": [],
   "source": []
  }
 ],
 "metadata": {
  "kernelspec": {
   "display_name": "Python 2",
   "language": "python",
   "name": "python2"
  },
  "language_info": {
   "codemirror_mode": {
    "name": "ipython",
    "version": 2
   },
   "file_extension": ".py",
   "mimetype": "text/x-python",
   "name": "python",
   "nbconvert_exporter": "python",
   "pygments_lexer": "ipython2",
   "version": "2.7.6"
  }
 },
 "nbformat": 4,
 "nbformat_minor": 0
}
