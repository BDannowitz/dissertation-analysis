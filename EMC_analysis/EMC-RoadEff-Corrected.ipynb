{
 "cells": [
  {
   "cell_type": "code",
   "execution_count": 60,
   "metadata": {
    "collapsed": false
   },
   "outputs": [
    {
     "name": "stdout",
     "output_type": "stream",
     "text": [
      "The autoreload extension is already loaded. To reload it, use:\n",
      "  %reload_ext autoreload\n"
     ]
    }
   ],
   "source": [
    "%load_ext autoreload"
   ]
  },
  {
   "cell_type": "code",
   "execution_count": 2,
   "metadata": {
    "collapsed": false
   },
   "outputs": [],
   "source": [
    "%matplotlib inline\n",
    "\n",
    "import pandas as pd\n",
    "from matplotlib import pyplot as plt\n",
    "from uncertainties import unumpy as unp\n",
    "import  uncertainties as unc\n",
    "import numpy as np\n",
    "import math\n",
    "import MySQLdb as mdb\n",
    "\n",
    "from sys import path\n",
    "path.append('../')\n",
    "from emc import get_dimuon_df, get_spill_df, emc_analysis, plot_three_emc\n",
    "\n",
    "%autoreload 2\n",
    "%aimport emc"
   ]
  },
  {
   "cell_type": "markdown",
   "metadata": {},
   "source": [
    "### Objectives\n",
    "1. Create analysis schema and table\n",
    "2. Get dimuons and spill (proton) data that satisfies specified criteria\n",
    "3. Apply efficiencies to dimuons with tracks with known road efficiencies\n",
    "4. Find dimuons where tracks have unknown roadID's\n",
    "5. Change roadID to closest known roadID\n",
    "6. Re-apply efficiencies\n",
    "7. Specify $x_2$ bin edges and roadset run ranges\n",
    "8. Calculate EMC ratio for each run range\n",
    "9. Combine EMC ratio values into a single weighted sum\n",
    "10. Plot values over E-772 data\n",
    "\n",
    "Note: set preferences in *emc.cfg* first!"
   ]
  },
  {
   "cell_type": "code",
   "execution_count": 3,
   "metadata": {
    "collapsed": false
   },
   "outputs": [],
   "source": [
    "server = 'e906-db3.fnal.gov'\n",
    "analysis_schema = 'user_dannowitz_roadeff'\n",
    "analysis_table = 'kDimuon_copy'\n",
    "merged_schema_list = ['merged_roadset57_R005_V001',\n",
    "                      'merged_roadset59_R005_V001',\n",
    "                      'merged_roadset62_R005_V001',\n",
    "                      'merged_roadset67_R005_V001',\n",
    "                      'merged_roadset70_R005_V001']\n",
    "# If fresh start == True, re-apply all cuts (takes ~10min)\n",
    "fresh_start = False\n",
    "#fresh_start = True"
   ]
  },
  {
   "cell_type": "code",
   "execution_count": 4,
   "metadata": {
    "collapsed": false
   },
   "outputs": [],
   "source": [
    "# Get valid target dimuons\n",
    "dimuon_df = get_dimuon_df(server=server, \n",
    "                          analysis_schema=analysis_schema, \n",
    "                          source_schema_list=merged_schema_list,\n",
    "                          analysis_table=analysis_table,\n",
    "                          fresh_start=fresh_start)"
   ]
  },
  {
   "cell_type": "code",
   "execution_count": 5,
   "metadata": {
    "collapsed": false
   },
   "outputs": [
    {
     "name": "stdout",
     "output_type": "stream",
     "text": [
      "Before Intensity Cut: 86991\n",
      "After Intensity Cut: 86934\n"
     ]
    }
   ],
   "source": [
    "print \"Before Intensity Cut:\", len(dimuon_df)\n",
    "dimuon_df = dimuon_df.query(\"0 < Intensity_p < 100000\")\n",
    "print \"After Intensity Cut:\", len(dimuon_df)"
   ]
  },
  {
   "cell_type": "code",
   "execution_count": 6,
   "metadata": {
    "collapsed": false
   },
   "outputs": [],
   "source": [
    "# Get spill data from specified spills\n",
    "spill_df = get_spill_df(server=server,\n",
    "                        analysis_schema=analysis_schema,\n",
    "                        merged_schema_list=merged_schema_list)"
   ]
  },
  {
   "cell_type": "markdown",
   "metadata": {},
   "source": [
    "## Road Class Definition\n",
    "\n",
    "A road defines a path through the hodoscope elements."
   ]
  },
  {
   "cell_type": "code",
   "execution_count": 44,
   "metadata": {
    "collapsed": false
   },
   "outputs": [],
   "source": [
    "class Road:\n",
    "        \n",
    "    def __init__(self, roadID=None, H1=None, H2=None, H3=None, \n",
    "                 H4=None, detectorHalf=None):\n",
    "        self.CONST_H1 = 16*16*16\n",
    "        self.CONST_H2 = 16*16\n",
    "        self.CONST_H3 = 16\n",
    "        self.CONST_H4 = 1\n",
    "        if roadID:\n",
    "            self.roadID = roadID\n",
    "            self.detectorHalf = self.getTB()\n",
    "            self.H1 = self.getH1ElementID()\n",
    "            self.H2 = self.getH2ElementID()\n",
    "            self.H3 = self.getH3ElementID()\n",
    "            self.H4 = self.getH4ElementID()    \n",
    "        elif all([H1, H2, H3, H4, detectorHalf]):\n",
    "            self.detectorHalf = detectorHalf\n",
    "            self.H1 = H1\n",
    "            self.H2 = H2\n",
    "            self.H3 = H3\n",
    "            self.H4 = H4\n",
    "            self.roadID = self.getRoadID()\n",
    "        else:\n",
    "            print (\"Must define either (roadID) or (H1, H2, H3, H4, detectorHalf)\")\n",
    "    \n",
    "    def getTB(self):\n",
    "        if self.roadID > 0:\n",
    "            return \"T\"\n",
    "        else:\n",
    "            return \"B\"\n",
    "\n",
    "    def getH1ElementID(self):\n",
    "        elementID = (abs(self.roadID)-1)//self.CONST_H1 + 1\n",
    "        return elementID\n",
    "\n",
    "    def getH2ElementID(self):\n",
    "        elementID = ((abs(self.roadID)-1)//self.CONST_H2)%16 + 1\n",
    "        return elementID\n",
    "\n",
    "    def getH3ElementID(self):\n",
    "        elementID = ((abs(self.roadID)-1)//self.CONST_H3)%16 + 1\n",
    "        return elementID\n",
    "\n",
    "    def getH4ElementID(self):\n",
    "        elementID = ((abs(self.roadID)-1)//self.CONST_H4)%16 + 1\n",
    "        return elementID\n",
    "    \n",
    "    def getRoadID(self):\n",
    "        roadID = (self.H1-1)*self.CONST_H1 + (self.H2-1)*self.CONST_H2 + \\\n",
    "                 (self.H3-1)*self.CONST_H3 + self.H4*self.CONST_H4\n",
    "        if self.detectorHalf == \"B\":\n",
    "            roadID *= -1\n",
    "        return roadID\n",
    "\n",
    "    def info(self):\n",
    "        print (\"roadID: %d\\ndetectorHalf: %s\\nH1: %d\\nH2: %d\\nH3: %d\\nH4: %d\" %\n",
    "               (self.roadID, self.detectorHalf, self.H1, self.H2, self.H3, self.H4))"
   ]
  },
  {
   "cell_type": "markdown",
   "metadata": {},
   "source": [
    "### A function for calculating the known road that most closely resembles the given road\n",
    "\n",
    "$$ D(X\\ \\vert\\ Y) = \\sqrt{3(X_{H1} - Y_{H1})^2 + 2(X_{H2} - Y_{H2})^2 + (X_{H3} - Y_{H3})^2} $$\n",
    "$$ R = \\arg \\min_{X \\in RS} D(X\\ \\vert\\ Y)$$\n",
    "\n",
    "*Note*: Since the efficiency position-dependence varies most drastically in H1 and H2, respectively, we put added weight on those differences."
   ]
  },
  {
   "cell_type": "code",
   "execution_count": 8,
   "metadata": {
    "collapsed": false
   },
   "outputs": [
    {
     "data": {
      "text/html": [
       "<div>\n",
       "<table border=\"1\" class=\"dataframe\">\n",
       "  <thead>\n",
       "    <tr style=\"text-align: right;\">\n",
       "      <th></th>\n",
       "      <th>detectorHalf</th>\n",
       "      <th>H1</th>\n",
       "      <th>H2</th>\n",
       "      <th>H3</th>\n",
       "      <th>H4</th>\n",
       "    </tr>\n",
       "    <tr>\n",
       "      <th>roadID</th>\n",
       "      <th></th>\n",
       "      <th></th>\n",
       "      <th></th>\n",
       "      <th></th>\n",
       "      <th></th>\n",
       "    </tr>\n",
       "  </thead>\n",
       "  <tbody>\n",
       "    <tr>\n",
       "      <th>-77294</th>\n",
       "      <td>B</td>\n",
       "      <td>19</td>\n",
       "      <td>14</td>\n",
       "      <td>15</td>\n",
       "      <td>14</td>\n",
       "    </tr>\n",
       "    <tr>\n",
       "      <th>-77293</th>\n",
       "      <td>B</td>\n",
       "      <td>19</td>\n",
       "      <td>14</td>\n",
       "      <td>15</td>\n",
       "      <td>13</td>\n",
       "    </tr>\n",
       "    <tr>\n",
       "      <th>-77277</th>\n",
       "      <td>B</td>\n",
       "      <td>19</td>\n",
       "      <td>14</td>\n",
       "      <td>14</td>\n",
       "      <td>13</td>\n",
       "    </tr>\n",
       "    <tr>\n",
       "      <th>-77276</th>\n",
       "      <td>B</td>\n",
       "      <td>19</td>\n",
       "      <td>14</td>\n",
       "      <td>14</td>\n",
       "      <td>12</td>\n",
       "    </tr>\n",
       "    <tr>\n",
       "      <th>-77260</th>\n",
       "      <td>B</td>\n",
       "      <td>19</td>\n",
       "      <td>14</td>\n",
       "      <td>13</td>\n",
       "      <td>12</td>\n",
       "    </tr>\n",
       "  </tbody>\n",
       "</table>\n",
       "</div>"
      ],
      "text/plain": [
       "       detectorHalf  H1  H2  H3  H4\n",
       "roadID                             \n",
       "-77294            B  19  14  15  14\n",
       "-77293            B  19  14  15  13\n",
       "-77277            B  19  14  14  13\n",
       "-77276            B  19  14  14  12\n",
       "-77260            B  19  14  13  12"
      ]
     },
     "execution_count": 8,
     "metadata": {},
     "output_type": "execute_result"
    }
   ],
   "source": [
    "trigger_roads = pd.read_csv('data/triggerroads.csv', sep='\\t', index_col='roadID')\n",
    "trigger_roads.head(5)"
   ]
  },
  {
   "cell_type": "code",
   "execution_count": 35,
   "metadata": {
    "collapsed": true
   },
   "outputs": [],
   "source": [
    "def closest_road(road_df, roadID):\n",
    "    my_road = Road(roadID=roadID)\n",
    "    my_road_df = road_df.query('detectorHalf == @my_road.detectorHalf').copy()\n",
    "    my_road_df['distance'] = my_road_df.apply(\n",
    "        lambda x: math.sqrt(3*(x.H1 - my_road.H1)**2 + 2*(x.H2 - my_road.H2)**2 + \\\n",
    "                            (x.H3 - my_road.H3)**2), axis=1)\n",
    "    return my_road_df.distance.argmin()"
   ]
  },
  {
   "cell_type": "markdown",
   "metadata": {},
   "source": [
    "### Use this to assign an efficiency to an unknown roadID"
   ]
  },
  {
   "cell_type": "code",
   "execution_count": 51,
   "metadata": {
    "collapsed": false
   },
   "outputs": [
    {
     "data": {
      "text/html": [
       "<div>\n",
       "<table border=\"1\" class=\"dataframe\">\n",
       "  <thead>\n",
       "    <tr style=\"text-align: right;\">\n",
       "      <th></th>\n",
       "      <th></th>\n",
       "      <th></th>\n",
       "      <th></th>\n",
       "      <th></th>\n",
       "      <th>efficiency</th>\n",
       "      <th>uncertainty</th>\n",
       "    </tr>\n",
       "    <tr>\n",
       "      <th>target</th>\n",
       "      <th>roadID</th>\n",
       "      <th>min_intensity</th>\n",
       "      <th>intensity</th>\n",
       "      <th>max_intensity</th>\n",
       "      <th></th>\n",
       "      <th></th>\n",
       "    </tr>\n",
       "  </thead>\n",
       "  <tbody>\n",
       "    <tr>\n",
       "      <th rowspan=\"10\" valign=\"top\">1</th>\n",
       "      <th rowspan=\"10\" valign=\"top\">-56832</th>\n",
       "      <th>0</th>\n",
       "      <th>5000</th>\n",
       "      <th>10000</th>\n",
       "      <td>0.980</td>\n",
       "      <td>0.070000</td>\n",
       "    </tr>\n",
       "    <tr>\n",
       "      <th>10000</th>\n",
       "      <th>15000</th>\n",
       "      <th>20000</th>\n",
       "      <td>0.970</td>\n",
       "      <td>0.069642</td>\n",
       "    </tr>\n",
       "    <tr>\n",
       "      <th>20000</th>\n",
       "      <th>25000</th>\n",
       "      <th>30000</th>\n",
       "      <td>0.955</td>\n",
       "      <td>0.069101</td>\n",
       "    </tr>\n",
       "    <tr>\n",
       "      <th>30000</th>\n",
       "      <th>35000</th>\n",
       "      <th>40000</th>\n",
       "      <td>0.925</td>\n",
       "      <td>0.068007</td>\n",
       "    </tr>\n",
       "    <tr>\n",
       "      <th>40000</th>\n",
       "      <th>45000</th>\n",
       "      <th>50000</th>\n",
       "      <td>0.875</td>\n",
       "      <td>0.066144</td>\n",
       "    </tr>\n",
       "    <tr>\n",
       "      <th>50000</th>\n",
       "      <th>55000</th>\n",
       "      <th>60000</th>\n",
       "      <td>0.870</td>\n",
       "      <td>0.065955</td>\n",
       "    </tr>\n",
       "    <tr>\n",
       "      <th>60000</th>\n",
       "      <th>65000</th>\n",
       "      <th>70000</th>\n",
       "      <td>0.905</td>\n",
       "      <td>0.067268</td>\n",
       "    </tr>\n",
       "    <tr>\n",
       "      <th>70000</th>\n",
       "      <th>75000</th>\n",
       "      <th>80000</th>\n",
       "      <td>0.825</td>\n",
       "      <td>0.064226</td>\n",
       "    </tr>\n",
       "    <tr>\n",
       "      <th>80000</th>\n",
       "      <th>85000</th>\n",
       "      <th>90000</th>\n",
       "      <td>0.870</td>\n",
       "      <td>0.065955</td>\n",
       "    </tr>\n",
       "    <tr>\n",
       "      <th>90000</th>\n",
       "      <th>95000</th>\n",
       "      <th>100000</th>\n",
       "      <td>0.770</td>\n",
       "      <td>0.062048</td>\n",
       "    </tr>\n",
       "  </tbody>\n",
       "</table>\n",
       "</div>"
      ],
      "text/plain": [
       "                                                     efficiency  uncertainty\n",
       "target roadID min_intensity intensity max_intensity                         \n",
       "1      -56832 0             5000      10000               0.980     0.070000\n",
       "              10000         15000     20000               0.970     0.069642\n",
       "              20000         25000     30000               0.955     0.069101\n",
       "              30000         35000     40000               0.925     0.068007\n",
       "              40000         45000     50000               0.875     0.066144\n",
       "              50000         55000     60000               0.870     0.065955\n",
       "              60000         65000     70000               0.905     0.067268\n",
       "              70000         75000     80000               0.825     0.064226\n",
       "              80000         85000     90000               0.870     0.065955\n",
       "              90000         95000     100000              0.770     0.062048"
      ]
     },
     "execution_count": 51,
     "metadata": {},
     "output_type": "execute_result"
    }
   ],
   "source": [
    "try:\n",
    "    db = mdb.connect(read_default_file='../.my.cnf',\n",
    "                     read_default_group='guest',\n",
    "                     host=server,\n",
    "                     db=analysis_schema)\n",
    "    roadeff_query = \"\"\"SELECT * FROM road_eff2\"\"\"\n",
    "    roadeff_df = pd.read_sql(roadeff_query, db, index_col=['target', 'roadID', 'min_intensity',\n",
    "                                                           'intensity', 'max_intensity'])\n",
    "    db.close()\n",
    "except mdb.Error, e:\n",
    "    print (\"Error %d: %s\" % (e.args[0], e.args[1]))\n",
    "\n",
    "roadeff_df.head(10)"
   ]
  },
  {
   "cell_type": "code",
   "execution_count": 52,
   "metadata": {
    "collapsed": false
   },
   "outputs": [],
   "source": [
    "def closest_eff(road_df, roadeff_df, roadID, intensity, target):\n",
    "    closest_roadID = closest_road(road_df, roadID)\n",
    "    query = \"roadID == @closest_roadID and min_intensity <= @intensity < max_intensity and target==@target\"\n",
    "    entry = roadeff_df.query(query)\n",
    "    if len(entry.efficiency.values) == 0:\n",
    "        return None\n",
    "    return entry.efficiency.values[0]"
   ]
  },
  {
   "cell_type": "code",
   "execution_count": 53,
   "metadata": {
    "collapsed": false
   },
   "outputs": [],
   "source": [
    "def fill_in_eff(df, road_df, roadeff_df):\n",
    "    for idx, data in df[dimuon_df['negRoadEff'].isnull()][['negRoadID', 'Intensity_p', 'targetPos']].iterrows():\n",
    "        eff = closest_eff(trigger_roads, roadeff_df, data.negRoadID, data.Intensity_p, data.targetPos)\n",
    "        df.loc[idx,'negRoadEff'] = eff\n",
    "    for idx, data in df[dimuon_df['posRoadEff'].isnull()][['posRoadID', 'Intensity_p', 'targetPos']].iterrows():\n",
    "        eff = closest_eff(trigger_roads, roadeff_df, data.posRoadID, data.Intensity_p, data.targetPos)\n",
    "        df.loc[idx,'posRoadEff'] = eff\n",
    "    return df"
   ]
  },
  {
   "cell_type": "code",
   "execution_count": 56,
   "metadata": {
    "collapsed": false
   },
   "outputs": [],
   "source": [
    "dimuon_df.loc[0, 'posRoadEff'] = np.NaN"
   ]
  },
  {
   "cell_type": "code",
   "execution_count": 57,
   "metadata": {
    "collapsed": false
   },
   "outputs": [
    {
     "name": "stdout",
     "output_type": "stream",
     "text": [
      "Number of dimuons missing negRoadEff: 0\n",
      "Number of dimuons missing posRoadEff: 1\n"
     ]
    }
   ],
   "source": [
    "print \"Number of dimuons missing negRoadEff:\", len(dimuon_df[dimuon_df['negRoadEff'].isnull()])\n",
    "print \"Number of dimuons missing posRoadEff:\", len(dimuon_df[dimuon_df['posRoadEff'].isnull()])"
   ]
  },
  {
   "cell_type": "code",
   "execution_count": 58,
   "metadata": {
    "collapsed": false
   },
   "outputs": [],
   "source": [
    "dimuon_df = fill_in_eff(dimuon_df, trigger_roads, roadeff_df)"
   ]
  },
  {
   "cell_type": "code",
   "execution_count": 59,
   "metadata": {
    "collapsed": false
   },
   "outputs": [
    {
     "name": "stdout",
     "output_type": "stream",
     "text": [
      "Number of dimuons missing negRoadEff: 0\n",
      "Number of dimuons missing posRoadEff: 0\n"
     ]
    }
   ],
   "source": [
    "print \"Number of dimuons missing negRoadEff:\", len(dimuon_df[dimuon_df['negRoadEff'].isnull()])\n",
    "print \"Number of dimuons missing posRoadEff:\", len(dimuon_df[dimuon_df['posRoadEff'].isnull()])"
   ]
  },
  {
   "cell_type": "code",
   "execution_count": 22,
   "metadata": {
    "collapsed": false
   },
   "outputs": [],
   "source": [
    "dimuon_df.to_csv('dimuon_roadeff.tsv', sep='\\t')\n",
    "spill_df.to_csv('spill_roadeff.tsv', sep='\\t')"
   ]
  },
  {
   "cell_type": "code",
   "execution_count": 29,
   "metadata": {
    "collapsed": false
   },
   "outputs": [],
   "source": [
    "# Establish run ranges and x_2 bin edges \n",
    "run_ranges = [(8912, 10420), (11075, 12438), (12525, 15789)]\n",
    "bin_edges = [0.08, 0.14, 0.16, 0.18, 0.21, 0.25, 0.31, 0.53]"
   ]
  },
  {
   "cell_type": "code",
   "execution_count": 30,
   "metadata": {
    "collapsed": false
   },
   "outputs": [],
   "source": [
    "emc_df_corrected, means_list_corrected, avg_means_df_corrected = \\\n",
    "    emc_analysis(dimuon_df, spill_df, run_ranges, bin_edges, qie_correction=True)\n",
    "emc_df, means_list, avg_means_df = \\\n",
    "    emc_analysis(dimuon_df, spill_df, run_ranges, bin_edges, qie_correction=False)"
   ]
  },
  {
   "cell_type": "code",
   "execution_count": 66,
   "metadata": {
    "collapsed": false
   },
   "outputs": [
    {
     "data": {
      "text/plain": [
       "array([[<matplotlib.axes._subplots.AxesSubplot object at 0x7fe11a2fe310>]], dtype=object)"
      ]
     },
     "execution_count": 66,
     "metadata": {},
     "output_type": "execute_result"
    },
    {
     "data": {
      "image/png": "[encoded data removed]",
      "text/plain": [
       "<matplotlib.figure.Figure at 0x7fe11a3ce610>"
      ]
     },
     "metadata": {},
     "output_type": "display_data"
    }
   ],
   "source": [
    "dimuon_df.hist('xT', bins=20)"
   ]
  },
  {
   "cell_type": "code",
   "execution_count": 64,
   "metadata": {
    "collapsed": false
   },
   "outputs": [
    {
     "ename": "AttributeError",
     "evalue": "'DataFrame' object has no attribute 'bar'",
     "output_type": "error",
     "traceback": [
      "\u001b[1;31m---------------------------------------------------------------------------\u001b[0m",
      "\u001b[1;31mAttributeError\u001b[0m                            Traceback (most recent call last)",
      "\u001b[1;32m<ipython-input-64-4d488d3b31f1>\u001b[0m in \u001b[0;36m<module>\u001b[1;34m()\u001b[0m\n\u001b[1;32m----> 1\u001b[1;33m \u001b[0mmeans_list\u001b[0m\u001b[1;33m[\u001b[0m\u001b[1;36m2\u001b[0m\u001b[1;33m]\u001b[0m\u001b[1;33m.\u001b[0m\u001b[0mbar\u001b[0m\u001b[1;33m(\u001b[0m\u001b[1;34m'ncounts_bg'\u001b[0m\u001b[1;33m)\u001b[0m\u001b[1;33m\u001b[0m\u001b[0m\n\u001b[0m",
      "\u001b[1;32m/usr/lib/python2.7/dist-packages/pandas/core/generic.pyc\u001b[0m in \u001b[0;36m__getattr__\u001b[1;34m(self, name)\u001b[0m\n\u001b[0;32m   2244\u001b[0m                 \u001b[1;32mreturn\u001b[0m \u001b[0mself\u001b[0m\u001b[1;33m[\u001b[0m\u001b[0mname\u001b[0m\u001b[1;33m]\u001b[0m\u001b[1;33m\u001b[0m\u001b[0m\n\u001b[0;32m   2245\u001b[0m             raise AttributeError(\"'%s' object has no attribute '%s'\" %\n\u001b[1;32m-> 2246\u001b[1;33m                                  (type(self).__name__, name))\n\u001b[0m\u001b[0;32m   2247\u001b[0m \u001b[1;33m\u001b[0m\u001b[0m\n\u001b[0;32m   2248\u001b[0m     \u001b[1;32mdef\u001b[0m \u001b[0m__setattr__\u001b[0m\u001b[1;33m(\u001b[0m\u001b[0mself\u001b[0m\u001b[1;33m,\u001b[0m \u001b[0mname\u001b[0m\u001b[1;33m,\u001b[0m \u001b[0mvalue\u001b[0m\u001b[1;33m)\u001b[0m\u001b[1;33m:\u001b[0m\u001b[1;33m\u001b[0m\u001b[0m\n",
      "\u001b[1;31mAttributeError\u001b[0m: 'DataFrame' object has no attribute 'bar'"
     ]
    }
   ],
   "source": [
    "means_list[2].bar('ncounts_bg')"
   ]
  },
  {
   "cell_type": "code",
   "execution_count": 31,
   "metadata": {
    "collapsed": false
   },
   "outputs": [
    {
     "data": {
      "text/html": [
       "<div>\n",
       "<table border=\"1\" class=\"dataframe\">\n",
       "  <thead>\n",
       "    <tr style=\"text-align: right;\">\n",
       "      <th></th>\n",
       "      <th>xT</th>\n",
       "      <th>D/H</th>\n",
       "      <th>C/D</th>\n",
       "      <th>Fe/D</th>\n",
       "      <th>W/D</th>\n",
       "      <th>C/H</th>\n",
       "      <th>Fe/H</th>\n",
       "      <th>W/H</th>\n",
       "      <th>Fe/C</th>\n",
       "      <th>W/C</th>\n",
       "      <th>W/D(iso)</th>\n",
       "      <th>W/C(iso)</th>\n",
       "      <th>Fe/D(iso)</th>\n",
       "      <th>Fe/C(iso)</th>\n",
       "    </tr>\n",
       "  </thead>\n",
       "  <tbody>\n",
       "    <tr>\n",
       "      <th>(0.08, 0.14]</th>\n",
       "      <td>0.126+/-0.006</td>\n",
       "      <td>1.20+/-0.04</td>\n",
       "      <td>0.96+/-0.04</td>\n",
       "      <td>0.98+/-0.04</td>\n",
       "      <td>0.903+/-0.032</td>\n",
       "      <td>1.14+/-0.05</td>\n",
       "      <td>1.18+/-0.05</td>\n",
       "      <td>1.09+/-0.05</td>\n",
       "      <td>0.96+/-0.04</td>\n",
       "      <td>0.88+/-0.04</td>\n",
       "      <td>0.874+/-0.032</td>\n",
       "      <td>0.85+/-0.04</td>\n",
       "      <td>0.97+/-0.04</td>\n",
       "      <td>0.94+/-0.04</td>\n",
       "    </tr>\n",
       "    <tr>\n",
       "      <th>(0.14, 0.16]</th>\n",
       "      <td>0.1502+/-0.0033</td>\n",
       "      <td>1.13+/-0.04</td>\n",
       "      <td>1.05+/-0.04</td>\n",
       "      <td>1.05+/-0.04</td>\n",
       "      <td>1.007+/-0.034</td>\n",
       "      <td>1.20+/-0.05</td>\n",
       "      <td>1.19+/-0.05</td>\n",
       "      <td>1.15+/-0.05</td>\n",
       "      <td>0.99+/-0.04</td>\n",
       "      <td>0.96+/-0.04</td>\n",
       "      <td>0.984+/-0.034</td>\n",
       "      <td>0.93+/-0.04</td>\n",
       "      <td>1.04+/-0.04</td>\n",
       "      <td>0.98+/-0.04</td>\n",
       "    </tr>\n",
       "    <tr>\n",
       "      <th>(0.16, 0.18]</th>\n",
       "      <td>0.1698+/-0.0033</td>\n",
       "      <td>1.19+/-0.04</td>\n",
       "      <td>1.03+/-0.04</td>\n",
       "      <td>1.04+/-0.04</td>\n",
       "      <td>1.043+/-0.033</td>\n",
       "      <td>1.23+/-0.05</td>\n",
       "      <td>1.24+/-0.05</td>\n",
       "      <td>1.25+/-0.05</td>\n",
       "      <td>1.00+/-0.04</td>\n",
       "      <td>1.01+/-0.04</td>\n",
       "      <td>1.010+/-0.033</td>\n",
       "      <td>0.98+/-0.04</td>\n",
       "      <td>1.027+/-0.035</td>\n",
       "      <td>0.99+/-0.04</td>\n",
       "    </tr>\n",
       "    <tr>\n",
       "      <th>(0.18, 0.21]</th>\n",
       "      <td>0.194+/-0.005</td>\n",
       "      <td>1.200+/-0.035</td>\n",
       "      <td>1.09+/-0.04</td>\n",
       "      <td>1.075+/-0.033</td>\n",
       "      <td>1.017+/-0.030</td>\n",
       "      <td>1.31+/-0.05</td>\n",
       "      <td>1.29+/-0.05</td>\n",
       "      <td>1.22+/-0.04</td>\n",
       "      <td>0.99+/-0.04</td>\n",
       "      <td>0.930+/-0.033</td>\n",
       "      <td>0.984+/-0.029</td>\n",
       "      <td>0.900+/-0.032</td>\n",
       "      <td>1.063+/-0.033</td>\n",
       "      <td>0.98+/-0.04</td>\n",
       "    </tr>\n",
       "    <tr>\n",
       "      <th>(0.21, 0.25]</th>\n",
       "      <td>0.228+/-0.006</td>\n",
       "      <td>1.19+/-0.04</td>\n",
       "      <td>1.10+/-0.04</td>\n",
       "      <td>1.10+/-0.04</td>\n",
       "      <td>1.081+/-0.035</td>\n",
       "      <td>1.31+/-0.06</td>\n",
       "      <td>1.30+/-0.06</td>\n",
       "      <td>1.29+/-0.05</td>\n",
       "      <td>0.99+/-0.04</td>\n",
       "      <td>0.98+/-0.04</td>\n",
       "      <td>1.047+/-0.035</td>\n",
       "      <td>0.95+/-0.04</td>\n",
       "      <td>1.08+/-0.04</td>\n",
       "      <td>0.98+/-0.04</td>\n",
       "    </tr>\n",
       "    <tr>\n",
       "      <th>(0.25, 0.31]</th>\n",
       "      <td>0.275+/-0.010</td>\n",
       "      <td>1.11+/-0.04</td>\n",
       "      <td>1.08+/-0.05</td>\n",
       "      <td>1.02+/-0.04</td>\n",
       "      <td>0.99+/-0.04</td>\n",
       "      <td>1.23+/-0.06</td>\n",
       "      <td>1.12+/-0.05</td>\n",
       "      <td>1.10+/-0.05</td>\n",
       "      <td>0.93+/-0.04</td>\n",
       "      <td>0.90+/-0.04</td>\n",
       "      <td>0.97+/-0.04</td>\n",
       "      <td>0.88+/-0.04</td>\n",
       "      <td>1.02+/-0.04</td>\n",
       "      <td>0.93+/-0.04</td>\n",
       "    </tr>\n",
       "    <tr>\n",
       "      <th>(0.31, 0.53]</th>\n",
       "      <td>0.360+/-0.026</td>\n",
       "      <td>1.14+/-0.06</td>\n",
       "      <td>1.04+/-0.07</td>\n",
       "      <td>1.03+/-0.06</td>\n",
       "      <td>1.10+/-0.06</td>\n",
       "      <td>1.19+/-0.09</td>\n",
       "      <td>1.19+/-0.08</td>\n",
       "      <td>1.25+/-0.08</td>\n",
       "      <td>0.94+/-0.07</td>\n",
       "      <td>1.04+/-0.07</td>\n",
       "      <td>1.07+/-0.06</td>\n",
       "      <td>1.02+/-0.07</td>\n",
       "      <td>1.03+/-0.06</td>\n",
       "      <td>0.93+/-0.06</td>\n",
       "    </tr>\n",
       "  </tbody>\n",
       "</table>\n",
       "</div>"
      ],
      "text/plain": [
       "                           xT            D/H          C/D           Fe/D  \\\n",
       "(0.08, 0.14]    0.126+/-0.006    1.20+/-0.04  0.96+/-0.04    0.98+/-0.04   \n",
       "(0.14, 0.16]  0.1502+/-0.0033    1.13+/-0.04  1.05+/-0.04    1.05+/-0.04   \n",
       "(0.16, 0.18]  0.1698+/-0.0033    1.19+/-0.04  1.03+/-0.04    1.04+/-0.04   \n",
       "(0.18, 0.21]    0.194+/-0.005  1.200+/-0.035  1.09+/-0.04  1.075+/-0.033   \n",
       "(0.21, 0.25]    0.228+/-0.006    1.19+/-0.04  1.10+/-0.04    1.10+/-0.04   \n",
       "(0.25, 0.31]    0.275+/-0.010    1.11+/-0.04  1.08+/-0.05    1.02+/-0.04   \n",
       "(0.31, 0.53]    0.360+/-0.026    1.14+/-0.06  1.04+/-0.07    1.03+/-0.06   \n",
       "\n",
       "                        W/D          C/H         Fe/H          W/H  \\\n",
       "(0.08, 0.14]  0.903+/-0.032  1.14+/-0.05  1.18+/-0.05  1.09+/-0.05   \n",
       "(0.14, 0.16]  1.007+/-0.034  1.20+/-0.05  1.19+/-0.05  1.15+/-0.05   \n",
       "(0.16, 0.18]  1.043+/-0.033  1.23+/-0.05  1.24+/-0.05  1.25+/-0.05   \n",
       "(0.18, 0.21]  1.017+/-0.030  1.31+/-0.05  1.29+/-0.05  1.22+/-0.04   \n",
       "(0.21, 0.25]  1.081+/-0.035  1.31+/-0.06  1.30+/-0.06  1.29+/-0.05   \n",
       "(0.25, 0.31]    0.99+/-0.04  1.23+/-0.06  1.12+/-0.05  1.10+/-0.05   \n",
       "(0.31, 0.53]    1.10+/-0.06  1.19+/-0.09  1.19+/-0.08  1.25+/-0.08   \n",
       "\n",
       "                     Fe/C            W/C       W/D(iso)       W/C(iso)  \\\n",
       "(0.08, 0.14]  0.96+/-0.04    0.88+/-0.04  0.874+/-0.032    0.85+/-0.04   \n",
       "(0.14, 0.16]  0.99+/-0.04    0.96+/-0.04  0.984+/-0.034    0.93+/-0.04   \n",
       "(0.16, 0.18]  1.00+/-0.04    1.01+/-0.04  1.010+/-0.033    0.98+/-0.04   \n",
       "(0.18, 0.21]  0.99+/-0.04  0.930+/-0.033  0.984+/-0.029  0.900+/-0.032   \n",
       "(0.21, 0.25]  0.99+/-0.04    0.98+/-0.04  1.047+/-0.035    0.95+/-0.04   \n",
       "(0.25, 0.31]  0.93+/-0.04    0.90+/-0.04    0.97+/-0.04    0.88+/-0.04   \n",
       "(0.31, 0.53]  0.94+/-0.07    1.04+/-0.07    1.07+/-0.06    1.02+/-0.07   \n",
       "\n",
       "                  Fe/D(iso)    Fe/C(iso)  \n",
       "(0.08, 0.14]    0.97+/-0.04  0.94+/-0.04  \n",
       "(0.14, 0.16]    1.04+/-0.04  0.98+/-0.04  \n",
       "(0.16, 0.18]  1.027+/-0.035  0.99+/-0.04  \n",
       "(0.18, 0.21]  1.063+/-0.033  0.98+/-0.04  \n",
       "(0.21, 0.25]    1.08+/-0.04  0.98+/-0.04  \n",
       "(0.25, 0.31]    1.02+/-0.04  0.93+/-0.04  \n",
       "(0.31, 0.53]    1.03+/-0.06  0.93+/-0.06  "
      ]
     },
     "execution_count": 31,
     "metadata": {},
     "output_type": "execute_result"
    }
   ],
   "source": [
    "emc_df_corrected"
   ]
  },
  {
   "cell_type": "code",
   "execution_count": 32,
   "metadata": {
    "collapsed": false
   },
   "outputs": [],
   "source": [
    "bin_centers = unp.nominal_values(emc_df['xT'].values)\n",
    "lower_val = np.subtract(bin_centers,bin_edges[:-1])\n",
    "upper_val = np.subtract(bin_edges[1:], bin_centers)\n",
    "asymmetric_bars = [lower_val, upper_val]"
   ]
  },
  {
   "cell_type": "code",
   "execution_count": 33,
   "metadata": {
    "collapsed": false
   },
   "outputs": [],
   "source": [
    "# Store the E772 results\n",
    "e772_dict = {}\n",
    "# DY Ratio for C/D vrs Xtgt - E772\n",
    "# --------------------------------\n",
    "e772_dict['C/D'] = {}\n",
    "e772_dict['C/D']['xT'] = [0.041, 0.062, 0.087, 0.111, 0.136, 0.161, 0.186, 0.216, 0.269]\n",
    "e772_dict['C/D']['ratio'] = unp.uarray([0.981, 0.974, 1.013, 1.011, 0.979, 1.049, 1.117, 1.151, 1.044],\n",
    "                                        [0.017, 0.014, 0.016, 0.020, 0.027, 0.044, 0.074, 0.110, 0.202])\n",
    "\n",
    "# DY Ratio for Fe/D vrs Xtgt - E772\n",
    "# --------------------------------\n",
    "e772_dict['Fe/D'] = {}\n",
    "e772_dict['Fe/D']['xT'] = [0.041, 0.062, 0.087, 0.111, 0.136, 0.161, 0.186, 0.219, 0.271]\n",
    "e772_dict['Fe/D']['ratio'] = unp.uarray([0.954, 0.976, 1.009, 0.992, 0.984, 1.009, 0.953, 1.016, 0.984],\n",
    "                                         [0.014, 0.011, 0.012, 0.014, 0.018, 0.027, 0.037, 0.050, 0.088])\n",
    "\n",
    "# DY Ratio for W/D vrs Xtgt - E772\n",
    "# --------------------------------\n",
    "e772_dict['W/D'] = {}\n",
    "e772_dict['W/D']['xT'] = [0.041, 0.062, 0.087, 0.111, 0.136, 0.161, 0.186, 0.216, 0.269]\n",
    "e772_dict['W/D']['ratio'] = unp.uarray([0.954, 0.976, 1.009, 0.992, 0.984, 1.009, 0.953, 1.016, 0.984],\n",
    "                                        [0.016, 0.013, 0.016, 0.020, 0.026, 0.043, 0.067, 0.099, 0.192])"
   ]
  },
  {
   "cell_type": "code",
   "execution_count": 34,
   "metadata": {
    "collapsed": false
   },
   "outputs": [
    {
     "name": "stderr",
     "output_type": "stream",
     "text": [
      "/usr/local/lib/python2.7/dist-packages/matplotlib/collections.py:571: FutureWarning: elementwise comparison failed; returning scalar instead, but in the future will perform elementwise comparison\n",
      "  if self._edgecolors == str('face'):\n"
     ]
    },
    {
     "data": {
      "image/png": "[encoded data removed]",
      "text/plain": [
       "<matplotlib.figure.Figure at 0x7fe11a774510>"
      ]
     },
     "metadata": {},
     "output_type": "display_data"
    }
   ],
   "source": [
    "plot_three_emc(bin_centers, asymmetric_bars,\n",
    "               [emc_df['C/D'], emc_df_corrected['C/D']],\n",
    "               ['C/D', 'C/D (eff.)'],\n",
    "               [emc_df['Fe/D'], emc_df_corrected['Fe/D']],\n",
    "               ['Fe/D', 'Fe/D (eff.)'],\n",
    "               [emc_df['W/D'], emc_df_corrected['W/D']],\n",
    "               ['W/D', 'W/D (eff.)'])"
   ]
  },
  {
   "cell_type": "code",
   "execution_count": null,
   "metadata": {
    "collapsed": true
   },
   "outputs": [],
   "source": []
  },
  {
   "cell_type": "code",
   "execution_count": 74,
   "metadata": {
    "collapsed": false
   },
   "outputs": [
    {
     "data": {
      "image/png": "[encoded data removed]",
      "text/plain": [
       "<matplotlib.figure.Figure at 0x7eff1d4ee050>"
      ]
     },
     "metadata": {},
     "output_type": "display_data"
    }
   ],
   "source": [
    "plot_three_emc(bin_centers, asymmetric_bars,\n",
    "               [full_emc_df['C/D'], emc_df['C/D'], emc_df_corrected['C/D']],\n",
    "               ['C/D', 'C/D (road)', 'C/D (road, eff.)'],\n",
    "               [full_emc_df['Fe/D(iso)'], emc_df['Fe/D(iso)'], emc_df_corrected['Fe/D(iso)']],\n",
    "               ['Fe/D (iso)', 'Fe/D (road, iso)', 'Fe/D (road, eff., iso)'],\n",
    "               [full_emc_df['W/D(iso)'], emc_df['W/D(iso)'], emc_df_corrected['W/D(iso)']],\n",
    "               ['W/D (iso)', 'W/D (road, iso)', 'W/D (road, eff., iso)'])"
   ]
  },
  {
   "cell_type": "code",
   "execution_count": 20,
   "metadata": {
    "collapsed": false
   },
   "outputs": [],
   "source": [
    "qie_systematic = {'C/D': 0.0396630986042,\n",
    "                  'Fe/D': 0.0606710075894,\n",
    "                  'W/D': 0.0396895838982}\n",
    "total_systematic = {}\n",
    "for target in sys_diff:\n",
    "     total_systematic[target] = np.sqrt(np.square(sys_diff[target]) + qie_systematic[target]**2) "
   ]
  },
  {
   "cell_type": "code",
   "execution_count": 21,
   "metadata": {
    "collapsed": false
   },
   "outputs": [
    {
     "name": "stdout",
     "output_type": "stream",
     "text": [
      "{'W/D': array([ 0.04035796,  0.04035796,  0.04040575,  0.04040575,  0.04043381,\n",
      "        0.04043381,  0.04041889,  0.04041889,  0.04042744,  0.04042744,\n",
      "        0.04036565,  0.04036565,  0.0405603 ,  0.0405603 ]), 'C/D': array([ 0.04018309,  0.04018309,  0.04025956,  0.04025956,  0.04023195,\n",
      "        0.04023195,  0.04032557,  0.04032557,  0.0402735 ,  0.0402735 ,\n",
      "        0.0402362 ,  0.0402362 ,  0.0404907 ,  0.0404907 ]), 'Fe/D': array([ 0.06106183,  0.06106183,  0.06114859,  0.06114859,  0.06107235,\n",
      "        0.06107235,  0.06118214,  0.06118214,  0.06107895,  0.06107895,\n",
      "        0.06108974,  0.06108974,  0.06109465,  0.06109465])}\n",
      "[ 0.08  0.14  0.14  0.16  0.16  0.18  0.18  0.21  0.21  0.25  0.25  0.31\n",
      "  0.31  0.53]\n",
      "[ 0.77  0.77  0.77  0.77  0.77  0.77  0.77  0.77  0.77  0.77  0.77  0.77\n",
      "  0.77  0.77]\n"
     ]
    }
   ],
   "source": [
    "zipset = zip(bin_edges[:-1],bin_edges[1:])   \n",
    "rangeset = []\n",
    "fillvalues = {}\n",
    "\n",
    "for ratio in ('C/D', 'Fe/D', 'W/D'):\n",
    "    fillvalues[ratio] = []\n",
    "    for i in range(len(total_systematic[ratio])):\n",
    "        fillvalues[ratio].append(total_systematic[ratio][i])\n",
    "        fillvalues[ratio].append(total_systematic[ratio][i])\n",
    "    fillvalues[ratio] = np.array(fillvalues[ratio])\n",
    "\n",
    "for pair in zipset:\n",
    "    rangeset.append(pair[0])\n",
    "    rangeset.append(pair[1])\n",
    "    \n",
    "rangeset = np.array(rangeset)\n",
    "bottom = 0.77*np.ones_like(rangeset)"
   ]
  },
  {
   "cell_type": "code",
   "execution_count": 22,
   "metadata": {
    "collapsed": false
   },
   "outputs": [
    {
     "data": {
      "image/png": "[encoded data removed]",
      "text/plain": [
       "<matplotlib.figure.Figure at 0x7f97ac27ff90>"
      ]
     },
     "metadata": {},
     "output_type": "display_data"
    }
   ],
   "source": [
    "f, (ax1, ax2, ax3) = plt.subplots(1, 3, sharex=True, sharey=True, figsize=(19,7))\n",
    "\n",
    "ax1.set_title('C/D', fontsize=28)\n",
    "ax1.errorbar(e772_dict['C/D']['bin_centers'], unp.nominal_values(e772_dict['C/D']['uratio']),\n",
    "            unp.std_devs(e772_dict['C/D']['uratio']), fmt='s', ms=11, elinewidth=2.5, color='black', label='E-772 C/D') \n",
    "ax1.errorbar(bin_centers, np.ones_like(unp.nominal_values(emc_df['C/D'].values)),\n",
    "             yerr=np.divide(unp.std_devs(emc_df['C/D'].values),np.sqrt(10)),\n",
    "             fmt='o', ms=11, elinewidth=2.5, color='red', label='SeaQuest')\n",
    "ax1.axhline(y=1, c='black', ls='--', linewidth=1.5)\n",
    "ax1.set_ylabel(r'$\\boldsymbol{R \\left(\\frac{A}{D}\\right)}$', fontsize=30, rotation=0, labelpad=35)\n",
    "plt.setp(ax1.get_xticklabels(), fontsize=23)\n",
    "plt.setp(ax1.get_yticklabels(), fontsize=23)\n",
    "\n",
    "ax2.set_title('Fe/D', fontsize=28)\n",
    "ax2.errorbar(e772_dict['Fe/D']['bin_centers'], unp.nominal_values(e772_dict['Fe/D']['uratio']),\n",
    "            unp.std_devs(e772_dict['Fe/D']['uratio']), fmt='s', ms=11, elinewidth=2.5, color='black', label='E-772 Fe/D') \n",
    "ax2.errorbar(bin_centers, np.ones_like(unp.nominal_values(emc_df['Fe/D(iso)'].values)),\n",
    "             yerr=np.divide(unp.std_devs(emc_df['Fe/D(iso)'].values),np.sqrt(10)),\n",
    "             fmt='o', ms=11, elinewidth=2.5, color='red', label='SeaQuest')\n",
    "ax2.set_xlabel(r'$\\boldsymbol{x_T}$', fontsize=35)\n",
    "ax2.axhline(y=1, c='black', ls='--', linewidth=1.5)\n",
    "plt.setp(ax2.get_xticklabels(), fontsize=23)\n",
    "\n",
    "ax3.set_title('W/D', fontsize=28)\n",
    "ax3.errorbar(bin_centers, np.ones_like(unp.nominal_values(emc_df['W/D(iso)'].values)),\n",
    "             yerr=np.divide(unp.std_devs(emc_df['W/D(iso)'].values),np.sqrt(10)),\n",
    "             fmt='o', ms=11, elinewidth=2.5, color='red', label='SeaQuest\\nAnticipated Uncertainty')\n",
    "ax3.errorbar(e772_dict['W/D']['bin_centers'], unp.nominal_values(e772_dict['W/D']['uratio']),\n",
    "            unp.std_devs(e772_dict['W/D']['uratio']), fmt='s', ms=11, elinewidth=2.5, color='black', label='E-772') \n",
    "ax3.axhline(y=1, c='black', ls='--', linewidth=1.5)\n",
    "ax3.legend(loc='best', fontsize=22, numpoints=1)\n",
    "plt.setp(ax3.get_xticklabels(), fontsize=23)\n",
    "\n",
    "xtick_locs = [0.0, 0.1, 0.2, 0.3, 0.4, 0.5]\n",
    "ytick_locs = [0.8, 0.9, 1.0, 1.1, 1.2, 1.3]\n",
    "plt.xticks(xtick_locs, [r\"$\\mathbf{%.1f}$\" % x for x in xtick_locs]) \n",
    "plt.yticks(ytick_locs, [r\"$\\mathbf{%.1f}$\" % x for x in ytick_locs]) \n",
    "\n",
    "f.text(0.95, 0.05, 'SeaQuest',\n",
    "         fontsize=55, color='red',\n",
    "         position=(0.46, 0.82))\n",
    "\n",
    "ax3.axis((0, 0.54, 0.75, 1.3))\n",
    "\n",
    "plt.tight_layout()\n",
    "plt.setp([a.get_yticklabels() for a in f.axes[1:]], visible=False)\n",
    "plt.setp([a.get_xticklines() for a in f.axes[:]], lw=20)\n",
    "plt.show()"
   ]
  }
 ],
 "metadata": {
  "kernelspec": {
   "display_name": "Python 2",
   "language": "python",
   "name": "python2"
  },
  "language_info": {
   "codemirror_mode": {
    "name": "ipython",
    "version": 2
   },
   "file_extension": ".py",
   "mimetype": "text/x-python",
   "name": "python",
   "nbconvert_exporter": "python",
   "pygments_lexer": "ipython2",
   "version": "2.7.6"
  }
 },
 "nbformat": 4,
 "nbformat_minor": 0
}
