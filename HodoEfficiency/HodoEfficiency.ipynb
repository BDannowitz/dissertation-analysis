{
 "cells": [
  {
   "cell_type": "code",
   "execution_count": 1,
   "metadata": {
    "collapsed": true
   },
   "outputs": [],
   "source": [
    "import pandas as pd\n",
    "import numpy as np"
   ]
  },
  {
   "cell_type": "code",
   "execution_count": 20,
   "metadata": {
    "collapsed": false
   },
   "outputs": [],
   "source": [
    "hd2 = pd.read_csv('hodoeff_D2.txt', sep='\\t', header=None,\n",
    "                  names=['detectorName', 'elementID', 'efficiency1', 'upper_unc1', 'lower_unc1'],\n",
    "                  index_col=['detectorName', 'elementID'])"
   ]
  },
  {
   "cell_type": "code",
   "execution_count": 21,
   "metadata": {
    "collapsed": true
   },
   "outputs": [],
   "source": [
    "hh2 = pd.read_csv('hodoeff_H2.txt', sep='\\t', header=None,\n",
    "                  names=['detectorName', 'elementID', 'efficiency2', 'upper_unc2', 'lower_unc2'],\n",
    "                  index_col=['detectorName', 'elementID'])"
   ]
  },
  {
   "cell_type": "code",
   "execution_count": 30,
   "metadata": {
    "collapsed": false
   },
   "outputs": [],
   "source": [
    "h = pd.merge(hd2, hh2, left_index=True, right_index=True, how='inner')"
   ]
  },
  {
   "cell_type": "code",
   "execution_count": 31,
   "metadata": {
    "collapsed": false
   },
   "outputs": [
    {
     "data": {
      "text/html": [
       "<div>\n",
       "<table border=\"1\" class=\"dataframe\">\n",
       "  <thead>\n",
       "    <tr style=\"text-align: right;\">\n",
       "      <th></th>\n",
       "      <th></th>\n",
       "      <th>efficiency1</th>\n",
       "      <th>upper_unc1</th>\n",
       "      <th>lower_unc1</th>\n",
       "      <th>efficiency2</th>\n",
       "      <th>upper_unc2</th>\n",
       "      <th>lower_unc2</th>\n",
       "    </tr>\n",
       "    <tr>\n",
       "      <th>detectorName</th>\n",
       "      <th>elementID</th>\n",
       "      <th></th>\n",
       "      <th></th>\n",
       "      <th></th>\n",
       "      <th></th>\n",
       "      <th></th>\n",
       "      <th></th>\n",
       "    </tr>\n",
       "  </thead>\n",
       "  <tbody>\n",
       "    <tr>\n",
       "      <th>H1B</th>\n",
       "      <th>7</th>\n",
       "      <td>1.0</td>\n",
       "      <td>0.0</td>\n",
       "      <td>0.841345</td>\n",
       "      <td>1.0</td>\n",
       "      <td>0.0</td>\n",
       "      <td>0.368878</td>\n",
       "    </tr>\n",
       "  </tbody>\n",
       "</table>\n",
       "</div>"
      ],
      "text/plain": [
       "                        efficiency1  upper_unc1  lower_unc1  efficiency2  \\\n",
       "detectorName elementID                                                     \n",
       "H1B          7                  1.0         0.0    0.841345          1.0   \n",
       "\n",
       "                        upper_unc2  lower_unc2  \n",
       "detectorName elementID                          \n",
       "H1B          7                 0.0    0.368878  "
      ]
     },
     "execution_count": 31,
     "metadata": {},
     "output_type": "execute_result"
    }
   ],
   "source": [
    "h.head(1)"
   ]
  },
  {
   "cell_type": "code",
   "execution_count": 34,
   "metadata": {
    "collapsed": false
   },
   "outputs": [],
   "source": [
    "h['diff'] = h.efficiency2 - h.efficiency1\n",
    "h['unc'] = np.sqrt(np.square(h.lower_unc1)+np.square(h.lower_unc2))\n",
    "h['chisq'] = np.square(h['diff']/h['unc'])"
   ]
  },
  {
   "cell_type": "code",
   "execution_count": 37,
   "metadata": {
    "collapsed": false
   },
   "outputs": [
    {
     "data": {
      "text/plain": [
       "0.2153217505865416"
      ]
     },
     "execution_count": 37,
     "metadata": {},
     "output_type": "execute_result"
    }
   ],
   "source": [
    "h.chisq.sum()/(len(h)-1)"
   ]
  },
  {
   "cell_type": "code",
   "execution_count": null,
   "metadata": {
    "collapsed": true
   },
   "outputs": [],
   "source": [
    "diff = np.subtract(hist2, hist1)\n",
    "    \n",
    "    ax1 = ax.twinx()\n",
    "    \n",
    "    ax1.errorbar(bin_centers,\n",
    "                        unp.nominal_values(diff),\n",
    "                        yerr=unp.std_devs(diff),\n",
    "                        lw=1,\n",
    "                        fmt='o',\n",
    "                        color='red',\n",
    "                        label='templabel')\n",
    "    \n",
    "    ax1.axhline(color='red')\n",
    "    \n",
    "    ax1.set_ylim(new_ylim)\n",
    "    \n",
    "    degrees = len(diff) - 1\n",
    "    chisq = 0.0\n",
    "    for x in diff:\n",
    "        if unp.std_devs(x) is None or unp.std_devs(x)==0:\n",
    "            degrees = degrees-1\n",
    "        else:\n",
    "            chisq += (unp.nominal_values(x)/unp.std_devs(x))**2\n",
    "    \n",
    "    if degrees > 0:\n",
    "        chisq_pdf = np.round(chisq / degrees,2)\n",
    "    else:\n",
    "        chisq_pdf = np.NaN"
   ]
  }
 ],
 "metadata": {
  "kernelspec": {
   "display_name": "Python 2",
   "language": "python",
   "name": "python2"
  },
  "language_info": {
   "codemirror_mode": {
    "name": "ipython",
    "version": 2
   },
   "file_extension": ".py",
   "mimetype": "text/x-python",
   "name": "python",
   "nbconvert_exporter": "python",
   "pygments_lexer": "ipython2",
   "version": "2.7.11"
  }
 },
 "nbformat": 4,
 "nbformat_minor": 0
}
